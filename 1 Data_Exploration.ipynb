{
  "cells": [
    {
      "cell_type": "markdown",
      "metadata": {
        "id": "view-in-github",
        "colab_type": "text"
      },
      "source": [
        "<a href=\"https://colab.research.google.com/github/zhh25/Titanic/blob/main/Data_Exploration.ipynb\" target=\"_parent\"><img src=\"https://colab.research.google.com/assets/colab-badge.svg\" alt=\"Open In Colab\"/></a>"
      ]
    },
    {
      "cell_type": "markdown",
      "metadata": {
        "id": "alTdCJ6sO-h_"
      },
      "source": [
        "### Load the data "
      ]
    },
    {
      "cell_type": "code",
      "execution_count": null,
      "metadata": {
        "id": "bEeqxV5aO-iC"
      },
      "outputs": [],
      "source": [
        "import pandas as pd\n",
        "import os"
      ]
    },
    {
      "cell_type": "code",
      "execution_count": null,
      "metadata": {
        "id": "o-5CEI-wO-iE"
      },
      "outputs": [],
      "source": [
        "path_root = 'data'\n",
        "train = pd.read_csv(os.path.join(path_root, 'train.csv'))\n",
        "test =  pd.read_csv(os.path.join(path_root, 'test.csv'))\n",
        "sample_submission =  pd.read_csv(os.path.join(path_root, 'sample_submission.csv'))"
      ]
    },
    {
      "cell_type": "markdown",
      "metadata": {
        "id": "-cLlnedqO-iF"
      },
      "source": [
        "### Take a quick look at the data structure"
      ]
    },
    {
      "cell_type": "code",
      "execution_count": null,
      "metadata": {
        "id": "EMZwNNpvO-iG",
        "outputId": "a9d7291a-d2e0-499b-d0ae-babf990e29a8"
      },
      "outputs": [
        {
          "data": {
            "text/html": [
              "<div>\n",
              "<style scoped>\n",
              "    .dataframe tbody tr th:only-of-type {\n",
              "        vertical-align: middle;\n",
              "    }\n",
              "\n",
              "    .dataframe tbody tr th {\n",
              "        vertical-align: top;\n",
              "    }\n",
              "\n",
              "    .dataframe thead th {\n",
              "        text-align: right;\n",
              "    }\n",
              "</style>\n",
              "<table border=\"1\" class=\"dataframe\">\n",
              "  <thead>\n",
              "    <tr style=\"text-align: right;\">\n",
              "      <th></th>\n",
              "      <th>PassengerId</th>\n",
              "      <th>Survived</th>\n",
              "      <th>Pclass</th>\n",
              "      <th>Name</th>\n",
              "      <th>Sex</th>\n",
              "      <th>Age</th>\n",
              "      <th>SibSp</th>\n",
              "      <th>Parch</th>\n",
              "      <th>Ticket</th>\n",
              "      <th>Fare</th>\n",
              "      <th>Cabin</th>\n",
              "      <th>Embarked</th>\n",
              "    </tr>\n",
              "  </thead>\n",
              "  <tbody>\n",
              "    <tr>\n",
              "      <th>0</th>\n",
              "      <td>1</td>\n",
              "      <td>0</td>\n",
              "      <td>3</td>\n",
              "      <td>Braund, Mr. Owen Harris</td>\n",
              "      <td>male</td>\n",
              "      <td>22.0</td>\n",
              "      <td>1</td>\n",
              "      <td>0</td>\n",
              "      <td>A/5 21171</td>\n",
              "      <td>7.2500</td>\n",
              "      <td>NaN</td>\n",
              "      <td>S</td>\n",
              "    </tr>\n",
              "    <tr>\n",
              "      <th>1</th>\n",
              "      <td>2</td>\n",
              "      <td>1</td>\n",
              "      <td>1</td>\n",
              "      <td>Cumings, Mrs. John Bradley (Florence Briggs Th...</td>\n",
              "      <td>female</td>\n",
              "      <td>38.0</td>\n",
              "      <td>1</td>\n",
              "      <td>0</td>\n",
              "      <td>PC 17599</td>\n",
              "      <td>71.2833</td>\n",
              "      <td>C85</td>\n",
              "      <td>C</td>\n",
              "    </tr>\n",
              "    <tr>\n",
              "      <th>2</th>\n",
              "      <td>3</td>\n",
              "      <td>1</td>\n",
              "      <td>3</td>\n",
              "      <td>Heikkinen, Miss. Laina</td>\n",
              "      <td>female</td>\n",
              "      <td>26.0</td>\n",
              "      <td>0</td>\n",
              "      <td>0</td>\n",
              "      <td>STON/O2. 3101282</td>\n",
              "      <td>7.9250</td>\n",
              "      <td>NaN</td>\n",
              "      <td>S</td>\n",
              "    </tr>\n",
              "    <tr>\n",
              "      <th>3</th>\n",
              "      <td>4</td>\n",
              "      <td>1</td>\n",
              "      <td>1</td>\n",
              "      <td>Futrelle, Mrs. Jacques Heath (Lily May Peel)</td>\n",
              "      <td>female</td>\n",
              "      <td>35.0</td>\n",
              "      <td>1</td>\n",
              "      <td>0</td>\n",
              "      <td>113803</td>\n",
              "      <td>53.1000</td>\n",
              "      <td>C123</td>\n",
              "      <td>S</td>\n",
              "    </tr>\n",
              "    <tr>\n",
              "      <th>4</th>\n",
              "      <td>5</td>\n",
              "      <td>0</td>\n",
              "      <td>3</td>\n",
              "      <td>Allen, Mr. William Henry</td>\n",
              "      <td>male</td>\n",
              "      <td>35.0</td>\n",
              "      <td>0</td>\n",
              "      <td>0</td>\n",
              "      <td>373450</td>\n",
              "      <td>8.0500</td>\n",
              "      <td>NaN</td>\n",
              "      <td>S</td>\n",
              "    </tr>\n",
              "  </tbody>\n",
              "</table>\n",
              "</div>"
            ],
            "text/plain": [
              "   PassengerId  Survived  Pclass  \\\n",
              "0            1         0       3   \n",
              "1            2         1       1   \n",
              "2            3         1       3   \n",
              "3            4         1       1   \n",
              "4            5         0       3   \n",
              "\n",
              "                                                Name     Sex   Age  SibSp  \\\n",
              "0                            Braund, Mr. Owen Harris    male  22.0      1   \n",
              "1  Cumings, Mrs. John Bradley (Florence Briggs Th...  female  38.0      1   \n",
              "2                             Heikkinen, Miss. Laina  female  26.0      0   \n",
              "3       Futrelle, Mrs. Jacques Heath (Lily May Peel)  female  35.0      1   \n",
              "4                           Allen, Mr. William Henry    male  35.0      0   \n",
              "\n",
              "   Parch            Ticket     Fare Cabin Embarked  \n",
              "0      0         A/5 21171   7.2500   NaN        S  \n",
              "1      0          PC 17599  71.2833   C85        C  \n",
              "2      0  STON/O2. 3101282   7.9250   NaN        S  \n",
              "3      0            113803  53.1000  C123        S  \n",
              "4      0            373450   8.0500   NaN        S  "
            ]
          },
          "execution_count": 3,
          "metadata": {},
          "output_type": "execute_result"
        }
      ],
      "source": [
        "train.head()"
      ]
    },
    {
      "cell_type": "code",
      "execution_count": null,
      "metadata": {
        "id": "6jatvnkqO-iH",
        "outputId": "1b6db559-f08c-4878-c0de-b1225c3ec766"
      },
      "outputs": [
        {
          "name": "stdout",
          "output_type": "stream",
          "text": [
            "<class 'pandas.core.frame.DataFrame'>\n",
            "RangeIndex: 891 entries, 0 to 890\n",
            "Data columns (total 12 columns):\n",
            " #   Column       Non-Null Count  Dtype  \n",
            "---  ------       --------------  -----  \n",
            " 0   PassengerId  891 non-null    int64  \n",
            " 1   Survived     891 non-null    int64  \n",
            " 2   Pclass       891 non-null    int64  \n",
            " 3   Name         891 non-null    object \n",
            " 4   Sex          891 non-null    object \n",
            " 5   Age          714 non-null    float64\n",
            " 6   SibSp        891 non-null    int64  \n",
            " 7   Parch        891 non-null    int64  \n",
            " 8   Ticket       891 non-null    object \n",
            " 9   Fare         891 non-null    float64\n",
            " 10  Cabin        204 non-null    object \n",
            " 11  Embarked     889 non-null    object \n",
            "dtypes: float64(2), int64(5), object(5)\n",
            "memory usage: 83.7+ KB\n"
          ]
        }
      ],
      "source": [
        "train.info()"
      ]
    },
    {
      "cell_type": "markdown",
      "metadata": {
        "id": "w9mpWjJ1O-iI"
      },
      "source": [
        "'Age', 'Cabin' and 'Embarked' have missing_value. "
      ]
    },
    {
      "cell_type": "code",
      "execution_count": null,
      "metadata": {
        "id": "vLmG0xI-O-iI",
        "outputId": "6ddc45e1-6c0f-4ee7-a023-7d0dab6880f8"
      },
      "outputs": [
        {
          "name": "stdout",
          "output_type": "stream",
          "text": [
            "Name\n",
            "number of unique elements:  891\n",
            "Braund, Mr. Owen Harris                     1\n",
            "Boulos, Mr. Hanna                           1\n",
            "Frolicher-Stehli, Mr. Maxmillian            1\n",
            "Gilinski, Mr. Eliezer                       1\n",
            "Murdlin, Mr. Joseph                         1\n",
            "                                           ..\n",
            "Kelly, Miss. Anna Katherine \"Annie Kate\"    1\n",
            "McCoy, Mr. Bernard                          1\n",
            "Johnson, Mr. William Cahoone Jr             1\n",
            "Keane, Miss. Nora A                         1\n",
            "Dooley, Mr. Patrick                         1\n",
            "Name: Name, Length: 891, dtype: int64\n",
            "\n",
            "Sex\n",
            "number of unique elements:  2\n",
            "male      577\n",
            "female    314\n",
            "Name: Sex, dtype: int64\n",
            "\n",
            "Ticket\n",
            "number of unique elements:  681\n",
            "347082      7\n",
            "CA. 2343    7\n",
            "1601        7\n",
            "3101295     6\n",
            "CA 2144     6\n",
            "           ..\n",
            "9234        1\n",
            "19988       1\n",
            "2693        1\n",
            "PC 17612    1\n",
            "370376      1\n",
            "Name: Ticket, Length: 681, dtype: int64\n",
            "\n",
            "Cabin\n",
            "number of unique elements:  148\n",
            "B96 B98        4\n",
            "G6             4\n",
            "C23 C25 C27    4\n",
            "C22 C26        3\n",
            "F33            3\n",
            "              ..\n",
            "E34            1\n",
            "C7             1\n",
            "C54            1\n",
            "E36            1\n",
            "C148           1\n",
            "Name: Cabin, Length: 147, dtype: int64\n",
            "\n",
            "Embarked\n",
            "number of unique elements:  4\n",
            "S    644\n",
            "C    168\n",
            "Q     77\n",
            "Name: Embarked, dtype: int64\n",
            "\n"
          ]
        }
      ],
      "source": [
        "cat_attributes = train.columns[train.dtypes == 'object']\n",
        "for attrib_name in cat_attributes:\n",
        "    print( attrib_name)\n",
        "    print('number of unique elements: ', train[attrib_name].nunique(dropna=False))\n",
        "    print(train[attrib_name].value_counts())\n",
        "    print()"
      ]
    },
    {
      "cell_type": "code",
      "execution_count": null,
      "metadata": {
        "id": "dN3x0zLsO-iI",
        "outputId": "8512a7a4-72e0-484a-ca47-a4d061130ff6"
      },
      "outputs": [
        {
          "data": {
            "text/html": [
              "<div>\n",
              "<style scoped>\n",
              "    .dataframe tbody tr th:only-of-type {\n",
              "        vertical-align: middle;\n",
              "    }\n",
              "\n",
              "    .dataframe tbody tr th {\n",
              "        vertical-align: top;\n",
              "    }\n",
              "\n",
              "    .dataframe thead th {\n",
              "        text-align: right;\n",
              "    }\n",
              "</style>\n",
              "<table border=\"1\" class=\"dataframe\">\n",
              "  <thead>\n",
              "    <tr style=\"text-align: right;\">\n",
              "      <th></th>\n",
              "      <th>PassengerId</th>\n",
              "      <th>Survived</th>\n",
              "      <th>Pclass</th>\n",
              "      <th>Name</th>\n",
              "      <th>Sex</th>\n",
              "      <th>Age</th>\n",
              "      <th>SibSp</th>\n",
              "      <th>Parch</th>\n",
              "      <th>Ticket</th>\n",
              "      <th>Fare</th>\n",
              "      <th>Cabin</th>\n",
              "      <th>Embarked</th>\n",
              "    </tr>\n",
              "  </thead>\n",
              "  <tbody>\n",
              "    <tr>\n",
              "      <th>13</th>\n",
              "      <td>14</td>\n",
              "      <td>0</td>\n",
              "      <td>3</td>\n",
              "      <td>Andersson, Mr. Anders Johan</td>\n",
              "      <td>male</td>\n",
              "      <td>39.0</td>\n",
              "      <td>1</td>\n",
              "      <td>5</td>\n",
              "      <td>347082</td>\n",
              "      <td>31.275</td>\n",
              "      <td>NaN</td>\n",
              "      <td>S</td>\n",
              "    </tr>\n",
              "    <tr>\n",
              "      <th>119</th>\n",
              "      <td>120</td>\n",
              "      <td>0</td>\n",
              "      <td>3</td>\n",
              "      <td>Andersson, Miss. Ellis Anna Maria</td>\n",
              "      <td>female</td>\n",
              "      <td>2.0</td>\n",
              "      <td>4</td>\n",
              "      <td>2</td>\n",
              "      <td>347082</td>\n",
              "      <td>31.275</td>\n",
              "      <td>NaN</td>\n",
              "      <td>S</td>\n",
              "    </tr>\n",
              "    <tr>\n",
              "      <th>541</th>\n",
              "      <td>542</td>\n",
              "      <td>0</td>\n",
              "      <td>3</td>\n",
              "      <td>Andersson, Miss. Ingeborg Constanzia</td>\n",
              "      <td>female</td>\n",
              "      <td>9.0</td>\n",
              "      <td>4</td>\n",
              "      <td>2</td>\n",
              "      <td>347082</td>\n",
              "      <td>31.275</td>\n",
              "      <td>NaN</td>\n",
              "      <td>S</td>\n",
              "    </tr>\n",
              "    <tr>\n",
              "      <th>542</th>\n",
              "      <td>543</td>\n",
              "      <td>0</td>\n",
              "      <td>3</td>\n",
              "      <td>Andersson, Miss. Sigrid Elisabeth</td>\n",
              "      <td>female</td>\n",
              "      <td>11.0</td>\n",
              "      <td>4</td>\n",
              "      <td>2</td>\n",
              "      <td>347082</td>\n",
              "      <td>31.275</td>\n",
              "      <td>NaN</td>\n",
              "      <td>S</td>\n",
              "    </tr>\n",
              "    <tr>\n",
              "      <th>610</th>\n",
              "      <td>611</td>\n",
              "      <td>0</td>\n",
              "      <td>3</td>\n",
              "      <td>Andersson, Mrs. Anders Johan (Alfrida Konstant...</td>\n",
              "      <td>female</td>\n",
              "      <td>39.0</td>\n",
              "      <td>1</td>\n",
              "      <td>5</td>\n",
              "      <td>347082</td>\n",
              "      <td>31.275</td>\n",
              "      <td>NaN</td>\n",
              "      <td>S</td>\n",
              "    </tr>\n",
              "    <tr>\n",
              "      <th>813</th>\n",
              "      <td>814</td>\n",
              "      <td>0</td>\n",
              "      <td>3</td>\n",
              "      <td>Andersson, Miss. Ebba Iris Alfrida</td>\n",
              "      <td>female</td>\n",
              "      <td>6.0</td>\n",
              "      <td>4</td>\n",
              "      <td>2</td>\n",
              "      <td>347082</td>\n",
              "      <td>31.275</td>\n",
              "      <td>NaN</td>\n",
              "      <td>S</td>\n",
              "    </tr>\n",
              "    <tr>\n",
              "      <th>850</th>\n",
              "      <td>851</td>\n",
              "      <td>0</td>\n",
              "      <td>3</td>\n",
              "      <td>Andersson, Master. Sigvard Harald Elias</td>\n",
              "      <td>male</td>\n",
              "      <td>4.0</td>\n",
              "      <td>4</td>\n",
              "      <td>2</td>\n",
              "      <td>347082</td>\n",
              "      <td>31.275</td>\n",
              "      <td>NaN</td>\n",
              "      <td>S</td>\n",
              "    </tr>\n",
              "  </tbody>\n",
              "</table>\n",
              "</div>"
            ],
            "text/plain": [
              "     PassengerId  Survived  Pclass  \\\n",
              "13            14         0       3   \n",
              "119          120         0       3   \n",
              "541          542         0       3   \n",
              "542          543         0       3   \n",
              "610          611         0       3   \n",
              "813          814         0       3   \n",
              "850          851         0       3   \n",
              "\n",
              "                                                  Name     Sex   Age  SibSp  \\\n",
              "13                         Andersson, Mr. Anders Johan    male  39.0      1   \n",
              "119                  Andersson, Miss. Ellis Anna Maria  female   2.0      4   \n",
              "541               Andersson, Miss. Ingeborg Constanzia  female   9.0      4   \n",
              "542                  Andersson, Miss. Sigrid Elisabeth  female  11.0      4   \n",
              "610  Andersson, Mrs. Anders Johan (Alfrida Konstant...  female  39.0      1   \n",
              "813                 Andersson, Miss. Ebba Iris Alfrida  female   6.0      4   \n",
              "850            Andersson, Master. Sigvard Harald Elias    male   4.0      4   \n",
              "\n",
              "     Parch  Ticket    Fare Cabin Embarked  \n",
              "13       5  347082  31.275   NaN        S  \n",
              "119      2  347082  31.275   NaN        S  \n",
              "541      2  347082  31.275   NaN        S  \n",
              "542      2  347082  31.275   NaN        S  \n",
              "610      5  347082  31.275   NaN        S  \n",
              "813      2  347082  31.275   NaN        S  \n",
              "850      2  347082  31.275   NaN        S  "
            ]
          },
          "execution_count": 6,
          "metadata": {},
          "output_type": "execute_result"
        }
      ],
      "source": [
        "train[train.Ticket == '347082']"
      ]
    },
    {
      "cell_type": "code",
      "execution_count": null,
      "metadata": {
        "id": "NdcHG-XfO-iJ",
        "outputId": "34d4d4d6-0783-47cf-d669-2062b0a2452f"
      },
      "outputs": [
        {
          "data": {
            "text/plain": [
              "115"
            ]
          },
          "execution_count": 7,
          "metadata": {},
          "output_type": "execute_result"
        }
      ],
      "source": [
        "len(set(train.Ticket.unique()).intersection(set(test.Ticket.unique())))"
      ]
    },
    {
      "cell_type": "code",
      "execution_count": null,
      "metadata": {
        "id": "Kt8d85HGO-iJ",
        "outputId": "ca79a8d0-07d2-4c3a-dc5a-e19e4b6b7d3b"
      },
      "outputs": [
        {
          "name": "stdout",
          "output_type": "stream",
          "text": [
            "correlation between Survived and Fare: 0.2573065223849622\n",
            "correlation between Survived and Fare_per_person: 0.22159990528456922\n"
          ]
        }
      ],
      "source": [
        "titanic = train.copy()\n",
        "titanic['Family'] = titanic.Parch + titanic.SibSp\n",
        "\n",
        "titanic['Fare_per_person'] = titanic.Fare / (titanic.Family + 1)\n",
        "\n",
        "print('correlation between Survived and Fare:', titanic['Survived'].corr(titanic.Fare))\n",
        "print('correlation between Survived and Fare_per_person:', titanic['Survived'].corr(titanic.Fare_per_person))"
      ]
    },
    {
      "cell_type": "markdown",
      "metadata": {
        "id": "WuEUUEzrO-iK"
      },
      "source": [
        "- name: is unique for everyone.  Mr. and Mrs might contain useful information (husband and wife)\n",
        "- sex: male is the majority\n",
        "- Ticket: some people bought ticket together, you need to find fare/person. However, people with same ticket number have been spreaded into train and test sets.  Let assume families bought ticket together, that is, fare_per_person = fare / family. Fare_per_person is less correlated with Suvived comparing with Fare.  In the Data Descreptiton, it is said that the fare is 'Passenger fare'.  So it might already by per_person\n",
        "- Cabin: \n",
        "    - some people share a cabin\n",
        "    - the first letter of cabin id might represent the class of cabin\n",
        "    - some cabins have been combined into one (a luxury suit?)\n",
        "    - why there is no cabin shared by a lot of people (like a low-class cabin) Is NaN the low-class Cabin\n",
        "- Embarked: what does missing value mean? only two missing_value, so not a big deal\n",
        " "
      ]
    },
    {
      "cell_type": "code",
      "execution_count": null,
      "metadata": {
        "id": "HdnPsvFfO-iK",
        "outputId": "e3edc07e-0a03-4f6c-f5b5-6ae77011d787"
      },
      "outputs": [
        {
          "data": {
            "text/plain": [
              "Index(['Name', 'Sex', 'Ticket', 'Cabin', 'Embarked'], dtype='object')"
            ]
          },
          "execution_count": 12,
          "metadata": {},
          "output_type": "execute_result"
        }
      ],
      "source": [
        "cat_attributes"
      ]
    },
    {
      "cell_type": "markdown",
      "metadata": {
        "id": "o2DXfceTO-iK"
      },
      "source": [
        "describe() method shows a summary of numeric attributes"
      ]
    },
    {
      "cell_type": "code",
      "execution_count": null,
      "metadata": {
        "id": "LHiDP0XhO-iK",
        "outputId": "83216d28-fde4-4741-c7f8-cb444bf25995"
      },
      "outputs": [
        {
          "data": {
            "text/html": [
              "<div>\n",
              "<style scoped>\n",
              "    .dataframe tbody tr th:only-of-type {\n",
              "        vertical-align: middle;\n",
              "    }\n",
              "\n",
              "    .dataframe tbody tr th {\n",
              "        vertical-align: top;\n",
              "    }\n",
              "\n",
              "    .dataframe thead th {\n",
              "        text-align: right;\n",
              "    }\n",
              "</style>\n",
              "<table border=\"1\" class=\"dataframe\">\n",
              "  <thead>\n",
              "    <tr style=\"text-align: right;\">\n",
              "      <th></th>\n",
              "      <th>PassengerId</th>\n",
              "      <th>Survived</th>\n",
              "      <th>Pclass</th>\n",
              "      <th>Age</th>\n",
              "      <th>SibSp</th>\n",
              "      <th>Parch</th>\n",
              "      <th>Fare</th>\n",
              "    </tr>\n",
              "  </thead>\n",
              "  <tbody>\n",
              "    <tr>\n",
              "      <th>count</th>\n",
              "      <td>891.000000</td>\n",
              "      <td>891.000000</td>\n",
              "      <td>891.000000</td>\n",
              "      <td>714.000000</td>\n",
              "      <td>891.000000</td>\n",
              "      <td>891.000000</td>\n",
              "      <td>891.000000</td>\n",
              "    </tr>\n",
              "    <tr>\n",
              "      <th>mean</th>\n",
              "      <td>446.000000</td>\n",
              "      <td>0.383838</td>\n",
              "      <td>2.308642</td>\n",
              "      <td>29.699118</td>\n",
              "      <td>0.523008</td>\n",
              "      <td>0.381594</td>\n",
              "      <td>32.204208</td>\n",
              "    </tr>\n",
              "    <tr>\n",
              "      <th>std</th>\n",
              "      <td>257.353842</td>\n",
              "      <td>0.486592</td>\n",
              "      <td>0.836071</td>\n",
              "      <td>14.526497</td>\n",
              "      <td>1.102743</td>\n",
              "      <td>0.806057</td>\n",
              "      <td>49.693429</td>\n",
              "    </tr>\n",
              "    <tr>\n",
              "      <th>min</th>\n",
              "      <td>1.000000</td>\n",
              "      <td>0.000000</td>\n",
              "      <td>1.000000</td>\n",
              "      <td>0.420000</td>\n",
              "      <td>0.000000</td>\n",
              "      <td>0.000000</td>\n",
              "      <td>0.000000</td>\n",
              "    </tr>\n",
              "    <tr>\n",
              "      <th>25%</th>\n",
              "      <td>223.500000</td>\n",
              "      <td>0.000000</td>\n",
              "      <td>2.000000</td>\n",
              "      <td>20.125000</td>\n",
              "      <td>0.000000</td>\n",
              "      <td>0.000000</td>\n",
              "      <td>7.910400</td>\n",
              "    </tr>\n",
              "    <tr>\n",
              "      <th>50%</th>\n",
              "      <td>446.000000</td>\n",
              "      <td>0.000000</td>\n",
              "      <td>3.000000</td>\n",
              "      <td>28.000000</td>\n",
              "      <td>0.000000</td>\n",
              "      <td>0.000000</td>\n",
              "      <td>14.454200</td>\n",
              "    </tr>\n",
              "    <tr>\n",
              "      <th>75%</th>\n",
              "      <td>668.500000</td>\n",
              "      <td>1.000000</td>\n",
              "      <td>3.000000</td>\n",
              "      <td>38.000000</td>\n",
              "      <td>1.000000</td>\n",
              "      <td>0.000000</td>\n",
              "      <td>31.000000</td>\n",
              "    </tr>\n",
              "    <tr>\n",
              "      <th>max</th>\n",
              "      <td>891.000000</td>\n",
              "      <td>1.000000</td>\n",
              "      <td>3.000000</td>\n",
              "      <td>80.000000</td>\n",
              "      <td>8.000000</td>\n",
              "      <td>6.000000</td>\n",
              "      <td>512.329200</td>\n",
              "    </tr>\n",
              "  </tbody>\n",
              "</table>\n",
              "</div>"
            ],
            "text/plain": [
              "       PassengerId    Survived      Pclass         Age       SibSp  \\\n",
              "count   891.000000  891.000000  891.000000  714.000000  891.000000   \n",
              "mean    446.000000    0.383838    2.308642   29.699118    0.523008   \n",
              "std     257.353842    0.486592    0.836071   14.526497    1.102743   \n",
              "min       1.000000    0.000000    1.000000    0.420000    0.000000   \n",
              "25%     223.500000    0.000000    2.000000   20.125000    0.000000   \n",
              "50%     446.000000    0.000000    3.000000   28.000000    0.000000   \n",
              "75%     668.500000    1.000000    3.000000   38.000000    1.000000   \n",
              "max     891.000000    1.000000    3.000000   80.000000    8.000000   \n",
              "\n",
              "            Parch        Fare  \n",
              "count  891.000000  891.000000  \n",
              "mean     0.381594   32.204208  \n",
              "std      0.806057   49.693429  \n",
              "min      0.000000    0.000000  \n",
              "25%      0.000000    7.910400  \n",
              "50%      0.000000   14.454200  \n",
              "75%      0.000000   31.000000  \n",
              "max      6.000000  512.329200  "
            ]
          },
          "execution_count": 13,
          "metadata": {},
          "output_type": "execute_result"
        }
      ],
      "source": [
        "train.describe()"
      ]
    },
    {
      "cell_type": "markdown",
      "metadata": {
        "id": "yb2RNkFcO-iL"
      },
      "source": [
        "- PassengerId may not contain any useful information, hence should not be used as input feature.\n",
        "- Survived: about 38% survived.  So the two classes are almost balance\n",
        "- Pclass: ordinal variable.  it seems that 1 represents first (best) class and 3 represent 3rd (cheapest) class.\n",
        "- SibSp: siblings and spouse\n",
        "- Parch: parents and children\n",
        "\n"
      ]
    },
    {
      "cell_type": "markdown",
      "metadata": {
        "id": "2OEWaCTpO-iL"
      },
      "source": [
        "plot a histogram for each numerical attributes"
      ]
    },
    {
      "cell_type": "code",
      "execution_count": null,
      "metadata": {
        "id": "37nQST31O-iL",
        "outputId": "aab9d6e0-e462-4b05-da6c-ca1ad8678920"
      },
      "outputs": [
        {
          "data": {
            "image/png": "[encoded data removed]",
            "text/plain": [
              "<Figure size 1440x1080 with 9 Axes>"
            ]
          },
          "metadata": {
            "needs_background": "light"
          },
          "output_type": "display_data"
        }
      ],
      "source": [
        "import matplotlib.pyplot as plt\n",
        "train.hist(bins = 50, figsize=(20,15))\n",
        "plt.show()"
      ]
    },
    {
      "cell_type": "markdown",
      "metadata": {
        "id": "wsGhs2FZO-iL"
      },
      "source": [
        "- Fare: \n",
        "    - is this fare per person or per ticket. Because some ticket contains more than one passenger.\n",
        "    - Long right tail. Consider log tranformation\n",
        "- SibSp / Parch: \n",
        "    - Consider combining some groups "
      ]
    },
    {
      "cell_type": "markdown",
      "metadata": {
        "id": "DTqmMVL2O-iL"
      },
      "source": [
        "### Looking for correlation"
      ]
    },
    {
      "cell_type": "code",
      "execution_count": null,
      "metadata": {
        "id": "8ba4CODEO-iM"
      },
      "outputs": [],
      "source": [
        "titanic = train.copy()"
      ]
    },
    {
      "cell_type": "code",
      "execution_count": null,
      "metadata": {
        "id": "2y9cFXBJO-iM"
      },
      "outputs": [],
      "source": [
        "corr_matrix = titanic.corr()"
      ]
    },
    {
      "cell_type": "code",
      "execution_count": null,
      "metadata": {
        "id": "-l9U4DkdO-iM",
        "outputId": "86200b98-8679-46ae-f0cf-010d42bd0b3b"
      },
      "outputs": [
        {
          "data": {
            "text/plain": [
              "Survived       1.000000\n",
              "Fare           0.257307\n",
              "Parch          0.081629\n",
              "PassengerId   -0.005007\n",
              "SibSp         -0.035322\n",
              "Age           -0.077221\n",
              "Pclass        -0.338481\n",
              "Name: Survived, dtype: float64"
            ]
          },
          "execution_count": 17,
          "metadata": {},
          "output_type": "execute_result"
        }
      ],
      "source": [
        "corr_matrix['Survived'].sort_values(ascending = False)"
      ]
    },
    {
      "cell_type": "markdown",
      "metadata": {
        "id": "90hiI1FeO-iM"
      },
      "source": [
        "- Pclass and Fare are useful attributes\n",
        "- PassengerId is not useful"
      ]
    },
    {
      "cell_type": "markdown",
      "metadata": {
        "id": "_XrNAoi_O-iM"
      },
      "source": [
        "### Analyze by pivoting features"
      ]
    },
    {
      "cell_type": "code",
      "execution_count": null,
      "metadata": {
        "scrolled": true,
        "id": "mNdSCJkGO-iM",
        "outputId": "9430c205-d084-41a4-f396-949e5f74d57f"
      },
      "outputs": [
        {
          "name": "stdout",
          "output_type": "stream",
          "text": [
            "        Survived      \n",
            "            mean count\n",
            "Pclass                \n",
            "1       0.629630   216\n",
            "2       0.472826   184\n",
            "3       0.242363   491\n",
            "\n",
            "        Survived      \n",
            "            mean count\n",
            "Sex                   \n",
            "female  0.742038   314\n",
            "male    0.188908   577\n",
            "\n",
            "          Survived      \n",
            "              mean count\n",
            "Embarked                \n",
            "C         0.553571   168\n",
            "Q         0.389610    77\n",
            "S         0.336957   644\n",
            "NaN       1.000000     2\n",
            "\n",
            "       Survived      \n",
            "           mean count\n",
            "Parch                \n",
            "0      0.343658   678\n",
            "1      0.550847   118\n",
            "2      0.500000    80\n",
            "3      0.600000     5\n",
            "4      0.000000     4\n",
            "5      0.200000     5\n",
            "6      0.000000     1\n",
            "\n",
            "       Survived      \n",
            "           mean count\n",
            "SibSp                \n",
            "0      0.345395   608\n",
            "1      0.535885   209\n",
            "2      0.464286    28\n",
            "3      0.250000    16\n",
            "4      0.166667    18\n",
            "5      0.000000     5\n",
            "8      0.000000     7\n",
            "\n"
          ]
        }
      ],
      "source": [
        "attributes = ['Pclass', 'Sex', 'Embarked', 'Parch', 'SibSp']\n",
        "\n",
        "for attrib in attributes:\n",
        "    print(titanic[[attrib] + ['Survived']].groupby(by = attrib, dropna= False).aggregate(['mean', 'count']))\n",
        "    print()"
      ]
    },
    {
      "cell_type": "markdown",
      "metadata": {
        "id": "GxKLov_qO-iN"
      },
      "source": [
        "- Pclass: Better class, higher survival rate\n",
        "- Sex: female have higher survival chance\n",
        "- Embarked: \n",
        "    - C has higher survival chance (why)\n",
        "    - Q and S have similar survival chance (combine them)\n",
        "    - only two missing values\n",
        "- Parch / SibSp\n",
        "    - behavior very similar\n",
        "    - consider subgroup as (=0) (=1) (>=2)\n",
        "    "
      ]
    },
    {
      "cell_type": "code",
      "execution_count": null,
      "metadata": {
        "id": "hkigziP6O-iN",
        "outputId": "e7db184c-8a66-4c87-e1d5-c7a160ac4118"
      },
      "outputs": [
        {
          "name": "stdout",
          "output_type": "stream",
          "text": [
            "        Survived      \n",
            "            mean count\n",
            "Family                \n",
            "0       0.303538   537\n",
            "1       0.552795   161\n",
            "2       0.578431   102\n",
            "3       0.724138    29\n",
            "4       0.200000    15\n",
            "5       0.136364    22\n",
            "6       0.333333    12\n",
            "7       0.000000     6\n",
            "10      0.000000     7\n"
          ]
        }
      ],
      "source": [
        "titanic['Family'] = titanic.Parch + titanic.SibSp\n",
        "print(titanic[['Family'] + ['Survived']]\n",
        "      .groupby(by = 'Family', dropna= False)\n",
        "      .aggregate(['mean', 'count']))"
      ]
    },
    {
      "cell_type": "markdown",
      "metadata": {
        "id": "LVGjAdogO-iN"
      },
      "source": [
        "- Family: Purity of each subgroup improved"
      ]
    },
    {
      "cell_type": "markdown",
      "metadata": {
        "id": "E_ruqpPqO-iN"
      },
      "source": [
        "### Analyze by visualizing data"
      ]
    },
    {
      "cell_type": "code",
      "execution_count": null,
      "metadata": {
        "id": "0MdsAVo3O-iN",
        "outputId": "6c2d4146-91cc-482f-b72c-c5040e2ab473"
      },
      "outputs": [
        {
          "data": {
            "image/png": "[encoded data removed]",
            "text/plain": [
              "<Figure size 576x288 with 2 Axes>"
            ]
          },
          "metadata": {
            "needs_background": "light"
          },
          "output_type": "display_data"
        }
      ],
      "source": [
        "titanic[['Age', 'Survived']].hist(column = 'Age', by = 'Survived', \n",
        "                                  bins = 20, figsize = (8,4))\n",
        "plt.show()"
      ]
    },
    {
      "cell_type": "code",
      "execution_count": null,
      "metadata": {
        "id": "JndwDtlRO-iN",
        "outputId": "3fff7cef-ef21-4d79-ff4c-e97e32183fd7"
      },
      "outputs": [
        {
          "data": {
            "image/png": "[encoded data removed]",
            "text/plain": [
              "<Figure size 432x288 with 1 Axes>"
            ]
          },
          "metadata": {
            "needs_background": "light"
          },
          "output_type": "display_data"
        }
      ],
      "source": [
        "train.groupby(by = 'Survived', dropna=False)['Age'].hist(alpha = 0.5, bins = 40, legend = True)\n",
        "plt.show()"
      ]
    },
    {
      "cell_type": "markdown",
      "metadata": {
        "id": "IDobDDRbO-iO"
      },
      "source": [
        "- Babies (<6 years old) have high survival rate\n",
        "- senior (> 65 years older) have low survival rate"
      ]
    },
    {
      "cell_type": "code",
      "execution_count": null,
      "metadata": {
        "id": "Ho-Yyxh0O-iO"
      },
      "outputs": [],
      "source": [
        "import numpy as np"
      ]
    },
    {
      "cell_type": "code",
      "execution_count": null,
      "metadata": {
        "id": "bcTXxk__O-iO",
        "outputId": "8cd1d16c-8661-4378-caae-ec6a42d60d07"
      },
      "outputs": [
        {
          "data": {
            "image/png": "[encoded data removed]",
            "text/plain": [
              "<Figure size 576x576 with 1 Axes>"
            ]
          },
          "metadata": {
            "needs_background": "light"
          },
          "output_type": "display_data"
        }
      ],
      "source": [
        "titanic['LogFare'] = np.log(titanic.Fare + 1) # min(Fare) = 0\n",
        "titanic.groupby('Survived')['LogFare'].hist(\n",
        "    alpha = 0.5, bins = 40, legend = True, figsize = (8,8))\n",
        "plt.show()"
      ]
    },
    {
      "cell_type": "markdown",
      "metadata": {
        "id": "USAiowIgO-iO"
      },
      "source": [
        "- LogFare: in general people with higher fare have higher survival chance "
      ]
    },
    {
      "cell_type": "code",
      "execution_count": null,
      "metadata": {
        "id": "kohhN6GnO-iO",
        "outputId": "a7690435-0aed-4cd6-d983-1019fe397a2e"
      },
      "outputs": [
        {
          "data": {
            "text/plain": [
              "687"
            ]
          },
          "execution_count": 20,
          "metadata": {},
          "output_type": "execute_result"
        }
      ],
      "source": [
        "sum(titanic.Cabin.isnull())"
      ]
    },
    {
      "cell_type": "code",
      "execution_count": null,
      "metadata": {
        "id": "k3f8m5NpO-iO",
        "outputId": "294e8c88-10c5-41b9-dd55-4252e712b8e4"
      },
      "outputs": [
        {
          "name": "stdout",
          "output_type": "stream",
          "text": [
            "NaN    687\n",
            "C       59\n",
            "B       47\n",
            "D       33\n",
            "E       32\n",
            "A       15\n",
            "F       13\n",
            "G        4\n",
            "T        1\n",
            "Name: Cabin_Letter, dtype: int64\n"
          ]
        },
        {
          "data": {
            "text/html": [
              "<div>\n",
              "<style scoped>\n",
              "    .dataframe tbody tr th:only-of-type {\n",
              "        vertical-align: middle;\n",
              "    }\n",
              "\n",
              "    .dataframe tbody tr th {\n",
              "        vertical-align: top;\n",
              "    }\n",
              "\n",
              "    .dataframe thead th {\n",
              "        text-align: right;\n",
              "    }\n",
              "</style>\n",
              "<table border=\"1\" class=\"dataframe\">\n",
              "  <thead>\n",
              "    <tr style=\"text-align: right;\">\n",
              "      <th></th>\n",
              "      <th>mean</th>\n",
              "      <th>count</th>\n",
              "    </tr>\n",
              "    <tr>\n",
              "      <th>Cabin_Letter</th>\n",
              "      <th></th>\n",
              "      <th></th>\n",
              "    </tr>\n",
              "  </thead>\n",
              "  <tbody>\n",
              "    <tr>\n",
              "      <th>A</th>\n",
              "      <td>0.466667</td>\n",
              "      <td>15</td>\n",
              "    </tr>\n",
              "    <tr>\n",
              "      <th>B</th>\n",
              "      <td>0.744681</td>\n",
              "      <td>47</td>\n",
              "    </tr>\n",
              "    <tr>\n",
              "      <th>C</th>\n",
              "      <td>0.593220</td>\n",
              "      <td>59</td>\n",
              "    </tr>\n",
              "    <tr>\n",
              "      <th>D</th>\n",
              "      <td>0.757576</td>\n",
              "      <td>33</td>\n",
              "    </tr>\n",
              "    <tr>\n",
              "      <th>E</th>\n",
              "      <td>0.750000</td>\n",
              "      <td>32</td>\n",
              "    </tr>\n",
              "    <tr>\n",
              "      <th>F</th>\n",
              "      <td>0.615385</td>\n",
              "      <td>13</td>\n",
              "    </tr>\n",
              "    <tr>\n",
              "      <th>G</th>\n",
              "      <td>0.500000</td>\n",
              "      <td>4</td>\n",
              "    </tr>\n",
              "    <tr>\n",
              "      <th>T</th>\n",
              "      <td>0.000000</td>\n",
              "      <td>1</td>\n",
              "    </tr>\n",
              "    <tr>\n",
              "      <th>NaN</th>\n",
              "      <td>0.299854</td>\n",
              "      <td>687</td>\n",
              "    </tr>\n",
              "  </tbody>\n",
              "</table>\n",
              "</div>"
            ],
            "text/plain": [
              "                  mean  count\n",
              "Cabin_Letter                 \n",
              "A             0.466667     15\n",
              "B             0.744681     47\n",
              "C             0.593220     59\n",
              "D             0.757576     33\n",
              "E             0.750000     32\n",
              "F             0.615385     13\n",
              "G             0.500000      4\n",
              "T             0.000000      1\n",
              "NaN           0.299854    687"
            ]
          },
          "execution_count": 21,
          "metadata": {},
          "output_type": "execute_result"
        }
      ],
      "source": [
        "titanic['Cabin_Letter'] = titanic.Cabin.str.get(0)\n",
        "print(titanic['Cabin_Letter'].value_counts(dropna= False))\n",
        "titanic.groupby('Cabin_Letter', dropna = False)['Survived'].agg(['mean', 'count'])\n"
      ]
    },
    {
      "cell_type": "markdown",
      "metadata": {
        "id": "XvXXuW8SO-iP"
      },
      "source": [
        "- Cabin_Letter: NaN is siginificantly different from others , treat NaN as one class and all the others as another class"
      ]
    },
    {
      "cell_type": "code",
      "execution_count": null,
      "metadata": {
        "id": "FtPF8j9ZO-iP",
        "outputId": "9b5377bf-e0df-4865-ad3e-b99c27377f35"
      },
      "outputs": [
        {
          "data": {
            "text/plain": [
              "Cabin_Letter\n",
              "A       39.623887\n",
              "B      113.505764\n",
              "C      100.151341\n",
              "D       57.244576\n",
              "E       46.026694\n",
              "F       18.696792\n",
              "G       13.581250\n",
              "T       35.500000\n",
              "NaN     19.157325\n",
              "Name: Fare, dtype: float64"
            ]
          },
          "execution_count": 22,
          "metadata": {},
          "output_type": "execute_result"
        }
      ],
      "source": [
        "titanic.groupby('Cabin_Letter', dropna = False)['Fare'].mean()"
      ]
    },
    {
      "cell_type": "markdown",
      "metadata": {
        "id": "GlO0Q-erO-iP"
      },
      "source": [
        "# Prepare the Data for Machine Learning Algorithms"
      ]
    },
    {
      "cell_type": "code",
      "execution_count": null,
      "metadata": {
        "id": "HgAlOzCJO-iP"
      },
      "outputs": [],
      "source": [
        "titanic = train.copy()\n",
        "titanic_label = train['Survived'].copy()"
      ]
    },
    {
      "cell_type": "markdown",
      "metadata": {
        "id": "JLrvm7uwO-iP"
      },
      "source": [
        "### Feature Engineer "
      ]
    },
    {
      "cell_type": "markdown",
      "metadata": {
        "id": "kntbw-GLO-iP"
      },
      "source": [
        "###### SibSp and Parch"
      ]
    },
    {
      "cell_type": "code",
      "execution_count": null,
      "metadata": {
        "id": "InlRC2krO-iP"
      },
      "outputs": [],
      "source": [
        "def compare_corr_with_survived(attrib_1, attrib_2):\n",
        "    print('correlation between Survived and ' + attrib_1 +' : ', \n",
        "          titanic_label.corr(titanic[attrib_1]))\n",
        "    print('correlation between Survived and ' + attrib_2 +' : ', \n",
        "          titanic_label.corr(titanic[attrib_2]))"
      ]
    },
    {
      "cell_type": "code",
      "execution_count": null,
      "metadata": {
        "id": "qxCZ43zfO-iP",
        "outputId": "666584cb-25b9-4f83-8197-a24ae9b89a69"
      },
      "outputs": [
        {
          "name": "stdout",
          "output_type": "stream",
          "text": [
            "correlation between Survived and SibSp :  -0.035322498885735576\n",
            "correlation between Survived and Family :  0.01663898928274525\n",
            "correlation between Survived and Parch :  0.0816294070834836\n",
            "correlation between Survived and Family :  0.01663898928274525\n"
          ]
        }
      ],
      "source": [
        "titanic['Family'] = titanic.SibSp + titanic.Parch\n",
        "compare_corr_with_survived('SibSp', 'Family')\n",
        "compare_corr_with_survived('Parch', 'Family')"
      ]
    },
    {
      "cell_type": "markdown",
      "metadata": {
        "id": "XSybr_TvO-iQ"
      },
      "source": [
        "- Family is less informative than Parch and SibSp"
      ]
    },
    {
      "cell_type": "code",
      "execution_count": null,
      "metadata": {
        "id": "cNYvItinO-iQ",
        "outputId": "1ccd3e9f-e15d-4432-efd2-556452d539d6"
      },
      "outputs": [
        {
          "name": "stdout",
          "output_type": "stream",
          "text": [
            "        Survived      \n",
            "            mean count\n",
            "Family                \n",
            "0       0.303538   537\n",
            "1       0.552795   161\n",
            "2       0.578431   102\n",
            "3       0.724138    29\n",
            "4       0.200000    15\n",
            "5       0.136364    22\n",
            "6       0.333333    12\n",
            "7       0.000000     6\n",
            "10      0.000000     7\n"
          ]
        }
      ],
      "source": [
        "titanic['Family'] = titanic.Parch + titanic.SibSp\n",
        "print(titanic[['Family'] + ['Survived']]\n",
        "      .groupby(by = 'Family', dropna= False)\n",
        "      .aggregate(['mean', 'count']))"
      ]
    },
    {
      "cell_type": "code",
      "execution_count": null,
      "metadata": {
        "id": "1bMbyUhxO-iQ"
      },
      "outputs": [],
      "source": [
        "titanic['Family_recode'] = titanic['Family'].replace(\n",
        "    to_replace = [0,1,2,3, 4, 5, 6, 7, 8, 9,10,11,12,13],\n",
        "    value =      [0,1,1,1,-1,-1,-1,-1,-1,-1,-1,-1,-1,-1]\n",
        ")"
      ]
    },
    {
      "cell_type": "code",
      "execution_count": null,
      "metadata": {
        "id": "4dzoRc60O-iQ",
        "outputId": "b35bcc51-56ab-48a1-f0be-5e017266b825"
      },
      "outputs": [
        {
          "name": "stdout",
          "output_type": "stream",
          "text": [
            "correlation between Survived and Family :  0.01663898928274525\n",
            "correlation between Survived and Family_recode :  0.2838096297303865\n"
          ]
        }
      ],
      "source": [
        "compare_corr_with_survived('Family', 'Family_recode')"
      ]
    },
    {
      "cell_type": "code",
      "execution_count": null,
      "metadata": {
        "id": "QfqZFAhoO-iQ",
        "outputId": "e4067878-988a-4f39-81a0-12c0f8d72e36"
      },
      "outputs": [
        {
          "name": "stdout",
          "output_type": "stream",
          "text": [
            "       Survived             Fare      \n",
            "           mean count       mean count\n",
            "SibSp                                 \n",
            "0      0.345395   608  25.692028   608\n",
            "1      0.535885   209  44.147370   209\n",
            "2      0.464286    28  51.753718    28\n",
            "3      0.250000    16  68.908862    16\n",
            "4      0.166667    18  31.855556    18\n",
            "5      0.000000     5  46.900000     5\n",
            "8      0.000000     7  69.550000     7\n"
          ]
        }
      ],
      "source": [
        "print(titanic[['SibSp'] + ['Survived'] +['Fare']]\n",
        "      .groupby(by = 'SibSp', dropna= False)\n",
        "      .aggregate(['mean', 'count']))"
      ]
    },
    {
      "cell_type": "code",
      "execution_count": null,
      "metadata": {
        "id": "CQKto0bUO-iQ",
        "outputId": "b0fda356-e877-4462-a2aa-d8305d312572"
      },
      "outputs": [
        {
          "name": "stdout",
          "output_type": "stream",
          "text": [
            "correlation between Survived and SibSp :  -0.035322498885735576\n",
            "correlation between Survived and SibSp_recode :  0.19786160135164008\n"
          ]
        }
      ],
      "source": [
        "titanic['SibSp_recode'] = titanic['SibSp'].replace(\n",
        "    to_replace = [0,1,2, 3, 4, 5, 6, 7, 8, 9,10,11,12,13],\n",
        "    value =      [0,1,1,-1,-1,-1,-1,-1,-1,-1,-1,-1,-1,-1]\n",
        "    #value =      [0,1,1, 2, 2, 2, 2, 2, 2, 2, 2, 2, 2, 2]\n",
        ")\n",
        "\n",
        "compare_corr_with_survived('SibSp', 'SibSp_recode')"
      ]
    },
    {
      "cell_type": "code",
      "execution_count": null,
      "metadata": {
        "id": "JplXcZrYO-iR",
        "outputId": "d62a3c25-e62d-4f22-8f02-694e48c47391"
      },
      "outputs": [
        {
          "name": "stdout",
          "output_type": "stream",
          "text": [
            "       Survived             Fare      \n",
            "           mean count       mean count\n",
            "Parch                                 \n",
            "0      0.343658   678  25.586774   678\n",
            "1      0.550847   118  46.778180   118\n",
            "2      0.500000    80  64.337604    80\n",
            "3      0.600000     5  25.951660     5\n",
            "4      0.000000     4  84.968750     4\n",
            "5      0.200000     5  32.550000     5\n",
            "6      0.000000     1  46.900000     1\n"
          ]
        }
      ],
      "source": [
        "print(titanic[['Parch'] + ['Survived']+['Fare']]\n",
        "      .groupby(by = 'Parch', dropna= False)\n",
        "      .aggregate(['mean', 'count']))"
      ]
    },
    {
      "cell_type": "code",
      "execution_count": null,
      "metadata": {
        "id": "eNh6ViVMO-iR",
        "outputId": "18179eb1-3643-49d2-9dbd-1f894d23bc9c"
      },
      "outputs": [
        {
          "name": "stdout",
          "output_type": "stream",
          "text": [
            "correlation between Survived and Parch :  0.0816294070834836\n",
            "correlation between Survived and Parch_recode :  0.12424527580169718\n"
          ]
        }
      ],
      "source": [
        "titanic['Parch_recode'] = titanic['Parch'].replace(\n",
        "    to_replace = [0,1,2, 3, 4, 5, 6, 7, 8, 9,10,11,12,13],\n",
        "   #value =      [0,1,1,-1,-1,-1,-1,-1,-1,-1,-1,-1,-1,-1]\n",
        "    value =      [0,1,1, 2, 2, 2, 2, 2, 2, 2, 2, 2, 2, 2]\n",
        ")\n",
        "\n",
        "compare_corr_with_survived('Parch', 'Parch_recode')"
      ]
    },
    {
      "cell_type": "markdown",
      "metadata": {
        "id": "WSgOPu9gO-iR"
      },
      "source": [
        "###### Fare"
      ]
    },
    {
      "cell_type": "code",
      "execution_count": null,
      "metadata": {
        "id": "3xsqoKzyO-iR",
        "outputId": "63a7d2f4-a517-4e68-aeaf-b82e2cbb71db"
      },
      "outputs": [
        {
          "name": "stdout",
          "output_type": "stream",
          "text": [
            "correlation between Survived and Fare :  0.2573065223849622\n",
            "correlation between Survived and Fare_log :  0.3298621286968071\n"
          ]
        }
      ],
      "source": [
        "import numpy as np\n",
        "titanic['Fare_log'] = np.log(titanic.Fare + 1)\n",
        "compare_corr_with_survived('Fare', 'Fare_log')"
      ]
    },
    {
      "cell_type": "markdown",
      "metadata": {
        "id": "TNkJouLLO-iR"
      },
      "source": [
        "### drop some attributes "
      ]
    },
    {
      "cell_type": "code",
      "execution_count": null,
      "metadata": {
        "id": "cjSqTyUFO-iR",
        "outputId": "d7be7259-8e6e-46e6-e9b7-ebbdfafaecb2"
      },
      "outputs": [
        {
          "data": {
            "text/plain": [
              "Index(['PassengerId', 'Survived', 'Pclass', 'Name', 'Sex', 'Age', 'SibSp',\n",
              "       'Parch', 'Ticket', 'Fare', 'Cabin', 'Embarked', 'Family',\n",
              "       'Family_recode', 'SibSp_recode', 'Parch_recode', 'Fare_log'],\n",
              "      dtype='object')"
            ]
          },
          "execution_count": 45,
          "metadata": {},
          "output_type": "execute_result"
        }
      ],
      "source": [
        "titanic.columns"
      ]
    },
    {
      "cell_type": "code",
      "execution_count": null,
      "metadata": {
        "id": "CsEb7Rl7O-iR"
      },
      "outputs": [],
      "source": [
        "titanic.drop(['PassengerId', 'Name', 'Ticket'], axis = 1,  inplace = True)"
      ]
    },
    {
      "cell_type": "markdown",
      "metadata": {
        "id": "09gnR5neO-iS"
      },
      "source": [
        "### missing_value"
      ]
    },
    {
      "cell_type": "code",
      "execution_count": null,
      "metadata": {
        "id": "wSlSyfm5O-iS"
      },
      "outputs": [],
      "source": [
        "titanic ['Cabin_isna'] = titanic['Cabin'].isnull().astype('int')\n",
        "titanic.drop('Cabin', axis = 1,  inplace = True)"
      ]
    },
    {
      "cell_type": "code",
      "execution_count": null,
      "metadata": {
        "id": "5HeJKeaXO-iS",
        "outputId": "8845bb5e-9243-4309-c6bf-6ddd9b0a9b1b"
      },
      "outputs": [
        {
          "data": {
            "text/html": [
              "<div>\n",
              "<style scoped>\n",
              "    .dataframe tbody tr th:only-of-type {\n",
              "        vertical-align: middle;\n",
              "    }\n",
              "\n",
              "    .dataframe tbody tr th {\n",
              "        vertical-align: top;\n",
              "    }\n",
              "\n",
              "    .dataframe thead th {\n",
              "        text-align: right;\n",
              "    }\n",
              "</style>\n",
              "<table border=\"1\" class=\"dataframe\">\n",
              "  <thead>\n",
              "    <tr style=\"text-align: right;\">\n",
              "      <th></th>\n",
              "      <th>PassengerId</th>\n",
              "      <th>Pclass</th>\n",
              "      <th>Name</th>\n",
              "      <th>Sex</th>\n",
              "      <th>Age</th>\n",
              "      <th>SibSp</th>\n",
              "      <th>Parch</th>\n",
              "      <th>Ticket</th>\n",
              "      <th>Fare</th>\n",
              "      <th>Embarked</th>\n",
              "      <th>Cabin_isna</th>\n",
              "    </tr>\n",
              "  </thead>\n",
              "  <tbody>\n",
              "    <tr>\n",
              "      <th>0</th>\n",
              "      <td>1</td>\n",
              "      <td>3</td>\n",
              "      <td>Braund, Mr. Owen Harris</td>\n",
              "      <td>male</td>\n",
              "      <td>22.0</td>\n",
              "      <td>1</td>\n",
              "      <td>0</td>\n",
              "      <td>A/5 21171</td>\n",
              "      <td>7.2500</td>\n",
              "      <td>S</td>\n",
              "      <td>1</td>\n",
              "    </tr>\n",
              "    <tr>\n",
              "      <th>1</th>\n",
              "      <td>2</td>\n",
              "      <td>1</td>\n",
              "      <td>Cumings, Mrs. John Bradley (Florence Briggs Th...</td>\n",
              "      <td>female</td>\n",
              "      <td>38.0</td>\n",
              "      <td>1</td>\n",
              "      <td>0</td>\n",
              "      <td>PC 17599</td>\n",
              "      <td>71.2833</td>\n",
              "      <td>C</td>\n",
              "      <td>0</td>\n",
              "    </tr>\n",
              "    <tr>\n",
              "      <th>2</th>\n",
              "      <td>3</td>\n",
              "      <td>3</td>\n",
              "      <td>Heikkinen, Miss. Laina</td>\n",
              "      <td>female</td>\n",
              "      <td>26.0</td>\n",
              "      <td>0</td>\n",
              "      <td>0</td>\n",
              "      <td>STON/O2. 3101282</td>\n",
              "      <td>7.9250</td>\n",
              "      <td>S</td>\n",
              "      <td>1</td>\n",
              "    </tr>\n",
              "    <tr>\n",
              "      <th>3</th>\n",
              "      <td>4</td>\n",
              "      <td>1</td>\n",
              "      <td>Futrelle, Mrs. Jacques Heath (Lily May Peel)</td>\n",
              "      <td>female</td>\n",
              "      <td>35.0</td>\n",
              "      <td>1</td>\n",
              "      <td>0</td>\n",
              "      <td>113803</td>\n",
              "      <td>53.1000</td>\n",
              "      <td>S</td>\n",
              "      <td>0</td>\n",
              "    </tr>\n",
              "    <tr>\n",
              "      <th>4</th>\n",
              "      <td>5</td>\n",
              "      <td>3</td>\n",
              "      <td>Allen, Mr. William Henry</td>\n",
              "      <td>male</td>\n",
              "      <td>35.0</td>\n",
              "      <td>0</td>\n",
              "      <td>0</td>\n",
              "      <td>373450</td>\n",
              "      <td>8.0500</td>\n",
              "      <td>S</td>\n",
              "      <td>1</td>\n",
              "    </tr>\n",
              "  </tbody>\n",
              "</table>\n",
              "</div>"
            ],
            "text/plain": [
              "   PassengerId  Pclass                                               Name  \\\n",
              "0            1       3                            Braund, Mr. Owen Harris   \n",
              "1            2       1  Cumings, Mrs. John Bradley (Florence Briggs Th...   \n",
              "2            3       3                             Heikkinen, Miss. Laina   \n",
              "3            4       1       Futrelle, Mrs. Jacques Heath (Lily May Peel)   \n",
              "4            5       3                           Allen, Mr. William Henry   \n",
              "\n",
              "      Sex   Age  SibSp  Parch            Ticket     Fare Embarked  Cabin_isna  \n",
              "0    male  22.0      1      0         A/5 21171   7.2500        S           1  \n",
              "1  female  38.0      1      0          PC 17599  71.2833        C           0  \n",
              "2  female  26.0      0      0  STON/O2. 3101282   7.9250        S           1  \n",
              "3  female  35.0      1      0            113803  53.1000        S           0  \n",
              "4    male  35.0      0      0            373450   8.0500        S           1  "
            ]
          },
          "execution_count": 147,
          "metadata": {},
          "output_type": "execute_result"
        }
      ],
      "source": [
        "titanic.head()"
      ]
    },
    {
      "cell_type": "code",
      "execution_count": null,
      "metadata": {
        "id": "FA6-70q4O-iS"
      },
      "outputs": [],
      "source": [
        "from sklearn.impute import SimpleImputer"
      ]
    },
    {
      "cell_type": "code",
      "execution_count": null,
      "metadata": {
        "id": "ZpsbmD6aO-iS"
      },
      "outputs": [],
      "source": [
        "num_attributes = ['Age', 'SibSp', 'Parch', 'Fare']\n",
        "ordinal_attributes = ['Pclass', 'Cabin_isna']\n",
        "cat_attributes = ['Sex', 'Embarked']"
      ]
    },
    {
      "cell_type": "code",
      "execution_count": null,
      "metadata": {
        "id": "VcnGXyDWO-iS",
        "outputId": "acf608e5-fb85-43b3-da60-b985295da518"
      },
      "outputs": [
        {
          "data": {
            "text/plain": [
              "SimpleImputer(add_indicator=False, copy=True, fill_value=None,\n",
              "              missing_values=nan, strategy='median', verbose=0)"
            ]
          },
          "execution_count": 150,
          "metadata": {},
          "output_type": "execute_result"
        }
      ],
      "source": [
        "imputer_median = SimpleImputer(strategy='median')\n",
        "imputer_median.fit(titanic[num_attributes])"
      ]
    },
    {
      "cell_type": "code",
      "execution_count": null,
      "metadata": {
        "id": "9Y2RWWvlO-iS",
        "outputId": "0442c721-9bcd-4717-aebd-140efdd6c64a"
      },
      "outputs": [
        {
          "data": {
            "text/plain": [
              "array([28.    ,  0.    ,  0.    , 14.4542])"
            ]
          },
          "execution_count": 151,
          "metadata": {},
          "output_type": "execute_result"
        }
      ],
      "source": [
        "imputer_median.statistics_"
      ]
    },
    {
      "cell_type": "code",
      "execution_count": null,
      "metadata": {
        "id": "zTOVYobKO-iT"
      },
      "outputs": [],
      "source": [
        "titanic[num_attributes] = imputer_median.transform(titanic[num_attributes])"
      ]
    },
    {
      "cell_type": "code",
      "execution_count": null,
      "metadata": {
        "id": "XLoDtJgPO-iT",
        "outputId": "bddc7c41-9a96-4a7c-e84b-9b8cc1b1a752"
      },
      "outputs": [
        {
          "data": {
            "text/html": [
              "<div>\n",
              "<style scoped>\n",
              "    .dataframe tbody tr th:only-of-type {\n",
              "        vertical-align: middle;\n",
              "    }\n",
              "\n",
              "    .dataframe tbody tr th {\n",
              "        vertical-align: top;\n",
              "    }\n",
              "\n",
              "    .dataframe thead th {\n",
              "        text-align: right;\n",
              "    }\n",
              "</style>\n",
              "<table border=\"1\" class=\"dataframe\">\n",
              "  <thead>\n",
              "    <tr style=\"text-align: right;\">\n",
              "      <th></th>\n",
              "      <th>PassengerId</th>\n",
              "      <th>Pclass</th>\n",
              "      <th>Name</th>\n",
              "      <th>Sex</th>\n",
              "      <th>Age</th>\n",
              "      <th>SibSp</th>\n",
              "      <th>Parch</th>\n",
              "      <th>Ticket</th>\n",
              "      <th>Fare</th>\n",
              "      <th>Embarked</th>\n",
              "      <th>Cabin_isna</th>\n",
              "    </tr>\n",
              "  </thead>\n",
              "  <tbody>\n",
              "    <tr>\n",
              "      <th>0</th>\n",
              "      <td>1</td>\n",
              "      <td>3</td>\n",
              "      <td>Braund, Mr. Owen Harris</td>\n",
              "      <td>male</td>\n",
              "      <td>22.0</td>\n",
              "      <td>1.0</td>\n",
              "      <td>0.0</td>\n",
              "      <td>A/5 21171</td>\n",
              "      <td>7.2500</td>\n",
              "      <td>S</td>\n",
              "      <td>1</td>\n",
              "    </tr>\n",
              "    <tr>\n",
              "      <th>1</th>\n",
              "      <td>2</td>\n",
              "      <td>1</td>\n",
              "      <td>Cumings, Mrs. John Bradley (Florence Briggs Th...</td>\n",
              "      <td>female</td>\n",
              "      <td>38.0</td>\n",
              "      <td>1.0</td>\n",
              "      <td>0.0</td>\n",
              "      <td>PC 17599</td>\n",
              "      <td>71.2833</td>\n",
              "      <td>C</td>\n",
              "      <td>0</td>\n",
              "    </tr>\n",
              "    <tr>\n",
              "      <th>2</th>\n",
              "      <td>3</td>\n",
              "      <td>3</td>\n",
              "      <td>Heikkinen, Miss. Laina</td>\n",
              "      <td>female</td>\n",
              "      <td>26.0</td>\n",
              "      <td>0.0</td>\n",
              "      <td>0.0</td>\n",
              "      <td>STON/O2. 3101282</td>\n",
              "      <td>7.9250</td>\n",
              "      <td>S</td>\n",
              "      <td>1</td>\n",
              "    </tr>\n",
              "    <tr>\n",
              "      <th>3</th>\n",
              "      <td>4</td>\n",
              "      <td>1</td>\n",
              "      <td>Futrelle, Mrs. Jacques Heath (Lily May Peel)</td>\n",
              "      <td>female</td>\n",
              "      <td>35.0</td>\n",
              "      <td>1.0</td>\n",
              "      <td>0.0</td>\n",
              "      <td>113803</td>\n",
              "      <td>53.1000</td>\n",
              "      <td>S</td>\n",
              "      <td>0</td>\n",
              "    </tr>\n",
              "    <tr>\n",
              "      <th>4</th>\n",
              "      <td>5</td>\n",
              "      <td>3</td>\n",
              "      <td>Allen, Mr. William Henry</td>\n",
              "      <td>male</td>\n",
              "      <td>35.0</td>\n",
              "      <td>0.0</td>\n",
              "      <td>0.0</td>\n",
              "      <td>373450</td>\n",
              "      <td>8.0500</td>\n",
              "      <td>S</td>\n",
              "      <td>1</td>\n",
              "    </tr>\n",
              "  </tbody>\n",
              "</table>\n",
              "</div>"
            ],
            "text/plain": [
              "   PassengerId  Pclass                                               Name  \\\n",
              "0            1       3                            Braund, Mr. Owen Harris   \n",
              "1            2       1  Cumings, Mrs. John Bradley (Florence Briggs Th...   \n",
              "2            3       3                             Heikkinen, Miss. Laina   \n",
              "3            4       1       Futrelle, Mrs. Jacques Heath (Lily May Peel)   \n",
              "4            5       3                           Allen, Mr. William Henry   \n",
              "\n",
              "      Sex   Age  SibSp  Parch            Ticket     Fare Embarked  Cabin_isna  \n",
              "0    male  22.0    1.0    0.0         A/5 21171   7.2500        S           1  \n",
              "1  female  38.0    1.0    0.0          PC 17599  71.2833        C           0  \n",
              "2  female  26.0    0.0    0.0  STON/O2. 3101282   7.9250        S           1  \n",
              "3  female  35.0    1.0    0.0            113803  53.1000        S           0  \n",
              "4    male  35.0    0.0    0.0            373450   8.0500        S           1  "
            ]
          },
          "execution_count": 153,
          "metadata": {},
          "output_type": "execute_result"
        }
      ],
      "source": [
        "titanic.head()"
      ]
    },
    {
      "cell_type": "code",
      "execution_count": null,
      "metadata": {
        "id": "Dd_NpXcvO-iT"
      },
      "outputs": [],
      "source": [
        "imputer_most_frequent = SimpleImputer(strategy='most_frequent')\n",
        "titanic[cat_attributes] = imputer_most_frequent.fit_transform(titanic[cat_attributes])"
      ]
    },
    {
      "cell_type": "code",
      "execution_count": null,
      "metadata": {
        "id": "QhBmNJsuO-iT",
        "outputId": "a3fe4a7b-76ec-40b5-d2c5-1006e5a7bcab"
      },
      "outputs": [
        {
          "data": {
            "text/plain": [
              "PassengerId    0\n",
              "Pclass         0\n",
              "Name           0\n",
              "Sex            0\n",
              "Age            0\n",
              "SibSp          0\n",
              "Parch          0\n",
              "Ticket         0\n",
              "Fare           0\n",
              "Embarked       0\n",
              "Cabin_isna     0\n",
              "dtype: int64"
            ]
          },
          "execution_count": 155,
          "metadata": {},
          "output_type": "execute_result"
        }
      ],
      "source": [
        "np.sum(titanic.isnull())"
      ]
    },
    {
      "cell_type": "markdown",
      "metadata": {
        "id": "SmND_7MMO-iU"
      },
      "source": [
        "###### Age"
      ]
    },
    {
      "cell_type": "code",
      "execution_count": null,
      "metadata": {
        "id": "uLLNu-b5O-iU"
      },
      "outputs": [],
      "source": [
        "from sklearn.preprocessing import KBinsDiscretizer"
      ]
    },
    {
      "cell_type": "code",
      "execution_count": null,
      "metadata": {
        "id": "dDFIdUUPO-iU",
        "outputId": "9f247c45-313a-492d-ed99-e9dddc261ae4"
      },
      "outputs": [
        {
          "data": {
            "text/plain": [
              "KBinsDiscretizer(encode='ordinal', n_bins=20, strategy='uniform')"
            ]
          },
          "execution_count": 120,
          "metadata": {},
          "output_type": "execute_result"
        }
      ],
      "source": [
        "discretizer_age = KBinsDiscretizer(n_bins=20, encode = 'ordinal', strategy='uniform')\n",
        "discretizer_age.fit(titanic[['Age']])"
      ]
    },
    {
      "cell_type": "code",
      "execution_count": null,
      "metadata": {
        "id": "1eearJWzO-iU",
        "outputId": "7fb89c99-2c52-42ea-f86d-84387b108fa0"
      },
      "outputs": [
        {
          "data": {
            "text/plain": [
              "21"
            ]
          },
          "execution_count": 121,
          "metadata": {},
          "output_type": "execute_result"
        }
      ],
      "source": [
        "bin_edges = discretizer_age.bin_edges_[0]\n",
        "len(bin_edges)"
      ]
    },
    {
      "cell_type": "code",
      "execution_count": null,
      "metadata": {
        "id": "pOfqyf3SO-iU"
      },
      "outputs": [],
      "source": [
        "titanic[['Age_discret']] = discretizer_age.transform(titanic[['Age']])"
      ]
    },
    {
      "cell_type": "code",
      "execution_count": null,
      "metadata": {
        "id": "MlbNl1_HO-iU",
        "outputId": "9cfd113b-3e43-4849-97dc-8051c104f328"
      },
      "outputs": [
        {
          "data": {
            "text/html": [
              "<div>\n",
              "<style scoped>\n",
              "    .dataframe tbody tr th:only-of-type {\n",
              "        vertical-align: middle;\n",
              "    }\n",
              "\n",
              "    .dataframe tbody tr th {\n",
              "        vertical-align: top;\n",
              "    }\n",
              "\n",
              "    .dataframe thead th {\n",
              "        text-align: right;\n",
              "    }\n",
              "</style>\n",
              "<table border=\"1\" class=\"dataframe\">\n",
              "  <thead>\n",
              "    <tr style=\"text-align: right;\">\n",
              "      <th></th>\n",
              "      <th>mean</th>\n",
              "      <th>count</th>\n",
              "      <th>edge</th>\n",
              "    </tr>\n",
              "  </thead>\n",
              "  <tbody>\n",
              "    <tr>\n",
              "      <th>0.0</th>\n",
              "      <td>0.675000</td>\n",
              "      <td>40</td>\n",
              "      <td>4.399</td>\n",
              "    </tr>\n",
              "    <tr>\n",
              "      <th>1.0</th>\n",
              "      <td>0.642857</td>\n",
              "      <td>14</td>\n",
              "      <td>8.378</td>\n",
              "    </tr>\n",
              "    <tr>\n",
              "      <th>2.0</th>\n",
              "      <td>0.266667</td>\n",
              "      <td>15</td>\n",
              "      <td>12.357</td>\n",
              "    </tr>\n",
              "    <tr>\n",
              "      <th>3.0</th>\n",
              "      <td>0.483871</td>\n",
              "      <td>31</td>\n",
              "      <td>16.336</td>\n",
              "    </tr>\n",
              "    <tr>\n",
              "      <th>4.0</th>\n",
              "      <td>0.341772</td>\n",
              "      <td>79</td>\n",
              "      <td>20.315</td>\n",
              "    </tr>\n",
              "    <tr>\n",
              "      <th>5.0</th>\n",
              "      <td>0.367347</td>\n",
              "      <td>98</td>\n",
              "      <td>24.294</td>\n",
              "    </tr>\n",
              "    <tr>\n",
              "      <th>6.0</th>\n",
              "      <td>0.312977</td>\n",
              "      <td>262</td>\n",
              "      <td>28.273</td>\n",
              "    </tr>\n",
              "    <tr>\n",
              "      <th>7.0</th>\n",
              "      <td>0.416667</td>\n",
              "      <td>84</td>\n",
              "      <td>32.252</td>\n",
              "    </tr>\n",
              "    <tr>\n",
              "      <th>8.0</th>\n",
              "      <td>0.479452</td>\n",
              "      <td>73</td>\n",
              "      <td>36.231</td>\n",
              "    </tr>\n",
              "    <tr>\n",
              "      <th>9.0</th>\n",
              "      <td>0.377778</td>\n",
              "      <td>45</td>\n",
              "      <td>40.210</td>\n",
              "    </tr>\n",
              "    <tr>\n",
              "      <th>10.0</th>\n",
              "      <td>0.342857</td>\n",
              "      <td>35</td>\n",
              "      <td>44.189</td>\n",
              "    </tr>\n",
              "    <tr>\n",
              "      <th>11.0</th>\n",
              "      <td>0.342857</td>\n",
              "      <td>35</td>\n",
              "      <td>48.168</td>\n",
              "    </tr>\n",
              "    <tr>\n",
              "      <th>12.0</th>\n",
              "      <td>0.482759</td>\n",
              "      <td>29</td>\n",
              "      <td>52.147</td>\n",
              "    </tr>\n",
              "    <tr>\n",
              "      <th>13.0</th>\n",
              "      <td>0.437500</td>\n",
              "      <td>16</td>\n",
              "      <td>56.126</td>\n",
              "    </tr>\n",
              "    <tr>\n",
              "      <th>14.0</th>\n",
              "      <td>0.384615</td>\n",
              "      <td>13</td>\n",
              "      <td>60.105</td>\n",
              "    </tr>\n",
              "    <tr>\n",
              "      <th>15.0</th>\n",
              "      <td>0.363636</td>\n",
              "      <td>11</td>\n",
              "      <td>64.084</td>\n",
              "    </tr>\n",
              "    <tr>\n",
              "      <th>16.0</th>\n",
              "      <td>0.000000</td>\n",
              "      <td>4</td>\n",
              "      <td>68.063</td>\n",
              "    </tr>\n",
              "    <tr>\n",
              "      <th>17.0</th>\n",
              "      <td>0.000000</td>\n",
              "      <td>5</td>\n",
              "      <td>72.042</td>\n",
              "    </tr>\n",
              "    <tr>\n",
              "      <th>18.0</th>\n",
              "      <td>0.000000</td>\n",
              "      <td>1</td>\n",
              "      <td>76.021</td>\n",
              "    </tr>\n",
              "    <tr>\n",
              "      <th>19.0</th>\n",
              "      <td>1.000000</td>\n",
              "      <td>1</td>\n",
              "      <td>80.000</td>\n",
              "    </tr>\n",
              "  </tbody>\n",
              "</table>\n",
              "</div>"
            ],
            "text/plain": [
              "          mean  count    edge\n",
              "0.0   0.675000     40   4.399\n",
              "1.0   0.642857     14   8.378\n",
              "2.0   0.266667     15  12.357\n",
              "3.0   0.483871     31  16.336\n",
              "4.0   0.341772     79  20.315\n",
              "5.0   0.367347     98  24.294\n",
              "6.0   0.312977    262  28.273\n",
              "7.0   0.416667     84  32.252\n",
              "8.0   0.479452     73  36.231\n",
              "9.0   0.377778     45  40.210\n",
              "10.0  0.342857     35  44.189\n",
              "11.0  0.342857     35  48.168\n",
              "12.0  0.482759     29  52.147\n",
              "13.0  0.437500     16  56.126\n",
              "14.0  0.384615     13  60.105\n",
              "15.0  0.363636     11  64.084\n",
              "16.0  0.000000      4  68.063\n",
              "17.0  0.000000      5  72.042\n",
              "18.0  0.000000      1  76.021\n",
              "19.0  1.000000      1  80.000"
            ]
          },
          "execution_count": 123,
          "metadata": {},
          "output_type": "execute_result"
        }
      ],
      "source": [
        "temp = titanic.groupby('Age_discret')['Survived'].agg(['mean', 'count'])\n",
        "temp = pd.DataFrame(temp)\n",
        "pd.concat([temp, pd.Series( bin_edges[1:], name = 'edge')], axis = 1)"
      ]
    },
    {
      "cell_type": "markdown",
      "metadata": {
        "id": "HOB8tE6qO-iV"
      },
      "source": [
        "- Yong child (<=8 years old) has high survival chance\n",
        "- senior ( >= 65 years old) has low survival chance"
      ]
    },
    {
      "cell_type": "code",
      "execution_count": null,
      "metadata": {
        "id": "oYsXxVgCO-iV",
        "outputId": "316f29d8-35db-4c07-c57d-cc6c41c2c74d"
      },
      "outputs": [
        {
          "name": "stdout",
          "output_type": "stream",
          "text": [
            "correlation between Survived and Age :  -0.06491041993052585\n",
            "correlation between Survived and Age_discret :  -0.06916032144442762\n"
          ]
        }
      ],
      "source": [
        "compare_corr_with_survived('Age', 'Age_discret')"
      ]
    },
    {
      "cell_type": "code",
      "execution_count": null,
      "metadata": {
        "id": "K8bGd4cSO-iV"
      },
      "outputs": [],
      "source": [
        "from sklearn.preprocessing import Binarizer"
      ]
    },
    {
      "cell_type": "code",
      "execution_count": null,
      "metadata": {
        "id": "ssVmVsuRO-iV"
      },
      "outputs": [],
      "source": [
        "binarizer_baby = Binarizer(threshold=8.3).fit(titanic[['Age']])\n",
        "binarizer_senior = Binarizer(threshold=64.1).fit(titanic[['Age']]"
      ]
    },
    {
      "cell_type": "code",
      "execution_count": null,
      "metadata": {
        "id": "TA-Q6Pe3O-iV"
      },
      "outputs": [],
      "source": [
        "titanic[['Age_baby']] = binarizer_baby.transform(titanic[['Age']])\n",
        "titanic[['Age_senior']] = binarizer_senior.transform(titanic[['Age']])"
      ]
    },
    {
      "cell_type": "code",
      "execution_count": null,
      "metadata": {
        "scrolled": true,
        "id": "3_nbyHPyO-iV",
        "outputId": "9fbd8741-7e36-49c6-d2ee-67f1c46c4264"
      },
      "outputs": [
        {
          "data": {
            "text/html": [
              "<div>\n",
              "<style scoped>\n",
              "    .dataframe tbody tr th:only-of-type {\n",
              "        vertical-align: middle;\n",
              "    }\n",
              "\n",
              "    .dataframe tbody tr th {\n",
              "        vertical-align: top;\n",
              "    }\n",
              "\n",
              "    .dataframe thead th {\n",
              "        text-align: right;\n",
              "    }\n",
              "</style>\n",
              "<table border=\"1\" class=\"dataframe\">\n",
              "  <thead>\n",
              "    <tr style=\"text-align: right;\">\n",
              "      <th></th>\n",
              "      <th>Survived</th>\n",
              "      <th>Pclass</th>\n",
              "      <th>Sex</th>\n",
              "      <th>Age</th>\n",
              "      <th>SibSp</th>\n",
              "      <th>Parch</th>\n",
              "      <th>Fare</th>\n",
              "      <th>Embarked</th>\n",
              "      <th>Family</th>\n",
              "      <th>Family_recode</th>\n",
              "      <th>SibSp_recode</th>\n",
              "      <th>Parch_recode</th>\n",
              "      <th>Fare_log</th>\n",
              "      <th>Cabin_isna</th>\n",
              "      <th>Age_discret</th>\n",
              "      <th>Age_baby</th>\n",
              "      <th>Age_senior</th>\n",
              "    </tr>\n",
              "  </thead>\n",
              "  <tbody>\n",
              "    <tr>\n",
              "      <th>0</th>\n",
              "      <td>0</td>\n",
              "      <td>3</td>\n",
              "      <td>male</td>\n",
              "      <td>22.0</td>\n",
              "      <td>1.0</td>\n",
              "      <td>0.0</td>\n",
              "      <td>7.2500</td>\n",
              "      <td>S</td>\n",
              "      <td>1</td>\n",
              "      <td>1</td>\n",
              "      <td>1</td>\n",
              "      <td>0</td>\n",
              "      <td>2.110213</td>\n",
              "      <td>1</td>\n",
              "      <td>5.0</td>\n",
              "      <td>1.0</td>\n",
              "      <td>0.0</td>\n",
              "    </tr>\n",
              "    <tr>\n",
              "      <th>1</th>\n",
              "      <td>1</td>\n",
              "      <td>1</td>\n",
              "      <td>female</td>\n",
              "      <td>38.0</td>\n",
              "      <td>1.0</td>\n",
              "      <td>0.0</td>\n",
              "      <td>71.2833</td>\n",
              "      <td>C</td>\n",
              "      <td>1</td>\n",
              "      <td>1</td>\n",
              "      <td>1</td>\n",
              "      <td>0</td>\n",
              "      <td>4.280593</td>\n",
              "      <td>0</td>\n",
              "      <td>9.0</td>\n",
              "      <td>1.0</td>\n",
              "      <td>0.0</td>\n",
              "    </tr>\n",
              "    <tr>\n",
              "      <th>2</th>\n",
              "      <td>1</td>\n",
              "      <td>3</td>\n",
              "      <td>female</td>\n",
              "      <td>26.0</td>\n",
              "      <td>0.0</td>\n",
              "      <td>0.0</td>\n",
              "      <td>7.9250</td>\n",
              "      <td>S</td>\n",
              "      <td>0</td>\n",
              "      <td>0</td>\n",
              "      <td>0</td>\n",
              "      <td>0</td>\n",
              "      <td>2.188856</td>\n",
              "      <td>1</td>\n",
              "      <td>6.0</td>\n",
              "      <td>1.0</td>\n",
              "      <td>0.0</td>\n",
              "    </tr>\n",
              "    <tr>\n",
              "      <th>3</th>\n",
              "      <td>1</td>\n",
              "      <td>1</td>\n",
              "      <td>female</td>\n",
              "      <td>35.0</td>\n",
              "      <td>1.0</td>\n",
              "      <td>0.0</td>\n",
              "      <td>53.1000</td>\n",
              "      <td>S</td>\n",
              "      <td>1</td>\n",
              "      <td>1</td>\n",
              "      <td>1</td>\n",
              "      <td>0</td>\n",
              "      <td>3.990834</td>\n",
              "      <td>0</td>\n",
              "      <td>8.0</td>\n",
              "      <td>1.0</td>\n",
              "      <td>0.0</td>\n",
              "    </tr>\n",
              "    <tr>\n",
              "      <th>4</th>\n",
              "      <td>0</td>\n",
              "      <td>3</td>\n",
              "      <td>male</td>\n",
              "      <td>35.0</td>\n",
              "      <td>0.0</td>\n",
              "      <td>0.0</td>\n",
              "      <td>8.0500</td>\n",
              "      <td>S</td>\n",
              "      <td>0</td>\n",
              "      <td>0</td>\n",
              "      <td>0</td>\n",
              "      <td>0</td>\n",
              "      <td>2.202765</td>\n",
              "      <td>1</td>\n",
              "      <td>8.0</td>\n",
              "      <td>1.0</td>\n",
              "      <td>0.0</td>\n",
              "    </tr>\n",
              "  </tbody>\n",
              "</table>\n",
              "</div>"
            ],
            "text/plain": [
              "   Survived  Pclass     Sex   Age  SibSp  Parch     Fare Embarked  Family  \\\n",
              "0         0       3    male  22.0    1.0    0.0   7.2500        S       1   \n",
              "1         1       1  female  38.0    1.0    0.0  71.2833        C       1   \n",
              "2         1       3  female  26.0    0.0    0.0   7.9250        S       0   \n",
              "3         1       1  female  35.0    1.0    0.0  53.1000        S       1   \n",
              "4         0       3    male  35.0    0.0    0.0   8.0500        S       0   \n",
              "\n",
              "   Family_recode  SibSp_recode  Parch_recode  Fare_log  Cabin_isna  \\\n",
              "0              1             1             0  2.110213           1   \n",
              "1              1             1             0  4.280593           0   \n",
              "2              0             0             0  2.188856           1   \n",
              "3              1             1             0  3.990834           0   \n",
              "4              0             0             0  2.202765           1   \n",
              "\n",
              "   Age_discret  Age_baby  Age_senior  \n",
              "0          5.0       1.0         0.0  \n",
              "1          9.0       1.0         0.0  \n",
              "2          6.0       1.0         0.0  \n",
              "3          8.0       1.0         0.0  \n",
              "4          8.0       1.0         0.0  "
            ]
          },
          "execution_count": 128,
          "metadata": {},
          "output_type": "execute_result"
        }
      ],
      "source": [
        "titanic.head()"
      ]
    }
  ],
  "metadata": {
    "kernelspec": {
      "display_name": "Python 3",
      "language": "python",
      "name": "python3"
    },
    "language_info": {
      "codemirror_mode": {
        "name": "ipython",
        "version": 3
      },
      "file_extension": ".py",
      "mimetype": "text/x-python",
      "name": "python",
      "nbconvert_exporter": "python",
      "pygments_lexer": "ipython3",
      "version": "3.7.5"
    },
    "colab": {
      "provenance": [],
      "include_colab_link": true
    }
  },
  "nbformat": 4,
  "nbformat_minor": 0
}
