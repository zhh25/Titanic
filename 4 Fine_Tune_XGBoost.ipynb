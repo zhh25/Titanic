{
  "nbformat": 4,
  "nbformat_minor": 0,
  "metadata": {
    "colab": {
      "provenance": [],
      "authorship_tag": "ABX9TyNLMstFJQw5VtWFblKH9LlQ",
      "include_colab_link": true
    },
    "kernelspec": {
      "name": "python3",
      "display_name": "Python 3"
    },
    "language_info": {
      "name": "python"
    }
  },
  "cells": [
    {
      "cell_type": "markdown",
      "metadata": {
        "id": "view-in-github",
        "colab_type": "text"
      },
      "source": [
        "<a href=\"https://colab.research.google.com/github/zhh25/Titanic/blob/main/Fine_Tune_XGBoost.ipynb\" target=\"_parent\"><img src=\"https://colab.research.google.com/assets/colab-badge.svg\" alt=\"Open In Colab\"/></a>"
      ]
    },
    {
      "cell_type": "code",
      "execution_count": 1,
      "metadata": {
        "colab": {
          "base_uri": "https://localhost:8080/"
        },
        "id": "cHtoBccAT7j8",
        "outputId": "826d14a4-7683-4013-a71f-62a7c2dd4f0d"
      },
      "outputs": [
        {
          "output_type": "stream",
          "name": "stdout",
          "text": [
            "Mounted at /content/drive\n"
          ]
        }
      ],
      "source": [
        "from google.colab import drive\n",
        "drive.mount('/content/drive')"
      ]
    },
    {
      "cell_type": "code",
      "source": [
        "import pandas as pd\n",
        "import numpy as np\n",
        "import os\n",
        "path_root = '/content/drive/MyDrive/titanic'\n",
        "train = pd.read_csv(os.path.join(path_root, 'data/train.csv'))\n",
        "test =  pd.read_csv(os.path.join(path_root, 'data/test.csv'))\n",
        "sample_submission =  pd.read_csv(os.path.join(path_root, 'data/sample_submission.csv'))\n",
        "titanic = train.drop('Survived', axis = 1)\n",
        "titanic_label = train['Survived'].copy()"
      ],
      "metadata": {
        "id": "GJOWqwn6UBnj"
      },
      "execution_count": 2,
      "outputs": []
    },
    {
      "cell_type": "markdown",
      "source": [
        "# Transformation Pipeline"
      ],
      "metadata": {
        "id": "0HaKCF4GUWHj"
      }
    },
    {
      "cell_type": "code",
      "source": [
        "exec(open('/content/drive/MyDrive/titanic/titanic_data_pipeline.py' ).read())"
      ],
      "metadata": {
        "colab": {
          "base_uri": "https://localhost:8080/"
        },
        "id": "el_WitNhURYt",
        "outputId": "22a97b8d-4a68-4345-c002-629189ab9edd"
      },
      "execution_count": 4,
      "outputs": [
        {
          "output_type": "stream",
          "name": "stdout",
          "text": [
            "Drive already mounted at /content/drive; to attempt to forcibly remount, call drive.mount(\"/content/drive\", force_remount=True).\n"
          ]
        }
      ]
    },
    {
      "cell_type": "code",
      "source": [
        "titanic_prepared = full_pipeline.fit_transform(titanic)\n",
        "test_prepared = full_pipeline.transform(test)"
      ],
      "metadata": {
        "id": "QMn6-j3qUaQV"
      },
      "execution_count": 5,
      "outputs": []
    },
    {
      "cell_type": "code",
      "source": [
        "from sklearn.model_selection import train_test_split\n",
        "\n",
        "X_train, X_val, y_train, y_val = train_test_split(titanic_prepared, titanic_label, test_size = 0.25,  )"
      ],
      "metadata": {
        "id": "mT_VBhWCUvi0"
      },
      "execution_count": 6,
      "outputs": []
    },
    {
      "cell_type": "code",
      "source": [
        "cols_full = attribs_names()"
      ],
      "metadata": {
        "id": "dvdagfdoUyHy"
      },
      "execution_count": 7,
      "outputs": []
    },
    {
      "cell_type": "markdown",
      "source": [
        "#Tuning Xgboost by Hyperopt \n",
        "some helpful links:\n",
        "\n",
        "[XGBoost - HyperOPT + CV via Python API](https://www.kaggle.com/code/felipeleiteantunes/xgboost-hyperopt-cv-via-python-api/notebook)\n",
        "\n",
        "[A Guide on XGBoost hyperparameters tuning](https://www.kaggle.com/code/prashant111/a-guide-on-xgboost-hyperparameters-tuning/notebook)\n"
      ],
      "metadata": {
        "id": "6N1ZJTn1WpNp"
      }
    },
    {
      "cell_type": "code",
      "source": [
        "from xgboost import XGBClassifier\n",
        "from hyperopt.pyll.stochastic import sample\n",
        "import xgboost as xgb\n",
        "from hyperopt import STATUS_OK, Trials, fmin, hp, tpe\n",
        "import random"
      ],
      "metadata": {
        "id": "cWmmRUPRUzXq"
      },
      "execution_count": 8,
      "outputs": []
    },
    {
      "cell_type": "code",
      "source": [
        "xgb_train = xgb.DMatrix(titanic_prepared, label = titanic_label, feature_names=cols_full)"
      ],
      "metadata": {
        "id": "5iSGmgqxWxVr"
      },
      "execution_count": 9,
      "outputs": []
    },
    {
      "cell_type": "markdown",
      "source": [
        "### Initialize domain space"
      ],
      "metadata": {
        "id": "VF9JKKCXW1XX"
      }
    },
    {
      "cell_type": "code",
      "source": [
        "space = {'max_depth': hp.randint('max_depth',10) + 1,\n",
        "         'eta':  hp.choice('eta', [0.0001,0.001, 0.01, 0.1, 1]) ,\n",
        "         'colsample_bytree': hp.choice('colsampe_bytree', np.arange(5,10)*0.1),\n",
        "         'alpha': hp.choice('alpha',[1e-5, 1e-2, 0.1, 1, 10, 100]),\n",
        "         'lambda': hp.choice('lambda',[1e-5, 1e-2, 0.1, 1, 10, 100]),\n",
        "         'tree_method': 'approx',\n",
        "         #'seed': hp.randint('seed',2000000) \n",
        "               }"
      ],
      "metadata": {
        "id": "otOx2NEZWzqY"
      },
      "execution_count": 19,
      "outputs": []
    },
    {
      "cell_type": "code",
      "source": [
        "sample(space)"
      ],
      "metadata": {
        "colab": {
          "base_uri": "https://localhost:8080/"
        },
        "id": "n0KGc8uTW6Fi",
        "outputId": "b261dbbe-a3e2-4a5c-cc3e-feb0def7bb8d"
      },
      "execution_count": 21,
      "outputs": [
        {
          "output_type": "execute_result",
          "data": {
            "text/plain": [
              "{'alpha': 1e-05,\n",
              " 'colsample_bytree': 0.7000000000000001,\n",
              " 'eta': 0.01,\n",
              " 'lambda': 100,\n",
              " 'max_depth': 6,\n",
              " 'tree_method': 'approx'}"
            ]
          },
          "metadata": {},
          "execution_count": 21
        }
      ]
    },
    {
      "cell_type": "markdown",
      "source": [
        "### Define objective function"
      ],
      "metadata": {
        "id": "0byjJv5EW9Cz"
      }
    },
    {
      "cell_type": "code",
      "source": [
        "#Define objective function\n",
        "def objective(space):\n",
        "    num_round = 1000\n",
        "    xgb_params = sample(space)\n",
        "    \n",
        "    cvresult = xgb.cv(\n",
        "        xgb_params, \n",
        "        xgb_train, \n",
        "        num_round, \n",
        "        nfold = 4, \n",
        "        metrics = ['error'], \n",
        "        early_stopping_rounds = 50, \n",
        "        stratified = True,\n",
        "        seed = 0\n",
        "        #verbose_eval =True\n",
        "      )\n",
        "    #print(cvresult)\n",
        "    print(xgb_params, '\\n')\n",
        "    print(cvresult['test-error-mean'][cvresult.shape[0]-1])\n",
        "    return {'loss': cvresult['test-error-mean'][cvresult.shape[0]-1],\n",
        "            'status': STATUS_OK\n",
        "           }"
      ],
      "metadata": {
        "id": "pVpagzRLW7c6"
      },
      "execution_count": 22,
      "outputs": []
    },
    {
      "cell_type": "markdown",
      "source": [
        "### Optimization algorithm\n",
        "\n",
        "for fmin to return the actual value of best_hyperparams instead of index, set 'return_argmin=False'.\n",
        "[hyperopt result exceeds my hp.choice restriction, why? (XGBoost)](https://stackoverflow.com/questions/54978278/hyperopt-result-exceeds-my-hp-choice-restriction-why-xgboost)"
      ],
      "metadata": {
        "id": "sQ6kowMSXDCc"
      }
    },
    {
      "cell_type": "code",
      "source": [
        "trials = Trials()\n",
        "\n",
        "best_hyperparams = fmin(fn = objective,\n",
        "                        space = space,\n",
        "                        algo = tpe.suggest,\n",
        "                        max_evals = 100,\n",
        "                        trials = trials,\n",
        "                        return_argmin=False\n",
        "                       )"
      ],
      "metadata": {
        "colab": {
          "base_uri": "https://localhost:8080/"
        },
        "id": "n9k8ZG4qXBFG",
        "outputId": "e1ad0a40-02c4-4056-9819-c90f5f7fe80b"
      },
      "execution_count": 23,
      "outputs": [
        {
          "output_type": "stream",
          "name": "stdout",
          "text": [
            "{'alpha': 10, 'colsample_bytree': 0.8, 'eta': 0.1, 'lambda': 0.1, 'max_depth': 6, 'tree_method': 'approx'}\n",
            "0.1705905\n",
            "{'alpha': 1, 'colsample_bytree': 0.9, 'eta': 0.0001, 'lambda': 1, 'max_depth': 3, 'tree_method': 'approx'}\n",
            "0.1683635\n",
            "{'alpha': 1, 'colsample_bytree': 0.6000000000000001, 'eta': 1, 'lambda': 1e-05, 'max_depth': 2, 'tree_method': 'approx'}\n",
            "0.1560065\n",
            "{'alpha': 0.1, 'colsample_bytree': 0.9, 'eta': 0.0001, 'lambda': 10, 'max_depth': 10, 'tree_method': 'approx'}\n",
            "0.16612125\n",
            "{'alpha': 0.01, 'colsample_bytree': 0.8, 'eta': 0.0001, 'lambda': 0.1, 'max_depth': 9, 'tree_method': 'approx'}\n",
            "0.1807355\n",
            "{'alpha': 10, 'colsample_bytree': 0.6000000000000001, 'eta': 0.001, 'lambda': 100, 'max_depth': 6, 'tree_method': 'approx'}\n",
            "0.16724224999999998\n",
            "{'alpha': 1e-05, 'colsample_bytree': 0.9, 'eta': 0.01, 'lambda': 0.01, 'max_depth': 9, 'tree_method': 'approx'}\n",
            "0.182973\n",
            "{'alpha': 1e-05, 'colsample_bytree': 0.9, 'eta': 0.01, 'lambda': 1e-05, 'max_depth': 4, 'tree_method': 'approx'}\n",
            "0.16723249999999998\n",
            "{'alpha': 1, 'colsample_bytree': 0.6000000000000001, 'eta': 0.0001, 'lambda': 1, 'max_depth': 7, 'tree_method': 'approx'}\n",
            "0.16947425\n",
            "{'alpha': 10, 'colsample_bytree': 0.8, 'eta': 0.01, 'lambda': 0.01, 'max_depth': 8, 'tree_method': 'approx'}\n",
            "0.1683585\n",
            "{'alpha': 100, 'colsample_bytree': 0.5, 'eta': 0.001, 'lambda': 0.1, 'max_depth': 9, 'tree_method': 'approx'}\n",
            "0.38383725\n",
            "{'alpha': 0.1, 'colsample_bytree': 0.9, 'eta': 0.0001, 'lambda': 0.1, 'max_depth': 10, 'tree_method': 'approx'}\n",
            "0.188578\n",
            "{'alpha': 1e-05, 'colsample_bytree': 0.6000000000000001, 'eta': 0.001, 'lambda': 0.1, 'max_depth': 8, 'tree_method': 'approx'}\n",
            "0.17173675\n",
            "{'alpha': 1e-05, 'colsample_bytree': 0.8, 'eta': 0.01, 'lambda': 1e-05, 'max_depth': 8, 'tree_method': 'approx'}\n",
            "0.18073075\n",
            "{'alpha': 0.1, 'colsample_bytree': 0.8, 'eta': 0.1, 'lambda': 1, 'max_depth': 4, 'tree_method': 'approx'}\n",
            "0.15599625\n",
            "{'alpha': 100, 'colsample_bytree': 0.6000000000000001, 'eta': 0.0001, 'lambda': 0.01, 'max_depth': 4, 'tree_method': 'approx'}\n",
            "0.38383725\n",
            "{'alpha': 0.1, 'colsample_bytree': 0.6000000000000001, 'eta': 1, 'lambda': 100, 'max_depth': 4, 'tree_method': 'approx'}\n",
            "0.16160175000000002\n",
            "{'alpha': 0.01, 'colsample_bytree': 0.5, 'eta': 0.1, 'lambda': 1e-05, 'max_depth': 3, 'tree_method': 'approx'}\n",
            "0.1571375\n",
            "{'alpha': 100, 'colsample_bytree': 0.8, 'eta': 1, 'lambda': 10, 'max_depth': 5, 'tree_method': 'approx'}\n",
            "0.38383725\n",
            "{'alpha': 1e-05, 'colsample_bytree': 0.7000000000000001, 'eta': 0.001, 'lambda': 100, 'max_depth': 7, 'tree_method': 'approx'}\n",
            "0.1694745\n",
            "{'alpha': 1, 'colsample_bytree': 0.7000000000000001, 'eta': 1, 'lambda': 1, 'max_depth': 2, 'tree_method': 'approx'}\n",
            "0.1593745\n",
            "{'alpha': 0.1, 'colsample_bytree': 0.6000000000000001, 'eta': 0.1, 'lambda': 1, 'max_depth': 2, 'tree_method': 'approx'}\n",
            "0.16835324999999998\n",
            "{'alpha': 1, 'colsample_bytree': 0.8, 'eta': 0.1, 'lambda': 1e-05, 'max_depth': 1, 'tree_method': 'approx'}\n",
            "0.16835850000000002\n",
            "{'alpha': 1, 'colsample_bytree': 0.7000000000000001, 'eta': 1, 'lambda': 1, 'max_depth': 2, 'tree_method': 'approx'}\n",
            "0.1593745\n",
            "{'alpha': 0.1, 'colsample_bytree': 0.5, 'eta': 0.1, 'lambda': 1e-05, 'max_depth': 2, 'tree_method': 'approx'}\n",
            "0.163864\n",
            "{'alpha': 0.01, 'colsample_bytree': 0.8, 'eta': 1, 'lambda': 1, 'max_depth': 1, 'tree_method': 'approx'}\n",
            "0.16612125\n",
            "{'alpha': 0.1, 'colsample_bytree': 0.6000000000000001, 'eta': 0.1, 'lambda': 1e-05, 'max_depth': 5, 'tree_method': 'approx'}\n",
            "0.16498525\n",
            "{'alpha': 1, 'colsample_bytree': 0.8, 'eta': 1, 'lambda': 10, 'max_depth': 4, 'tree_method': 'approx'}\n",
            "0.16385375\n",
            "{'alpha': 10, 'colsample_bytree': 0.6000000000000001, 'eta': 0.1, 'lambda': 1, 'max_depth': 6, 'tree_method': 'approx'}\n",
            "0.1717265\n",
            "{'alpha': 0.1, 'colsample_bytree': 0.7000000000000001, 'eta': 1, 'lambda': 1e-05, 'max_depth': 4, 'tree_method': 'approx'}\n",
            "0.176211\n",
            "{'alpha': 1, 'colsample_bytree': 0.5, 'eta': 0.1, 'lambda': 1, 'max_depth': 2, 'tree_method': 'approx'}\n",
            "0.1739585\n",
            "{'alpha': 1, 'colsample_bytree': 0.8, 'eta': 1, 'lambda': 10, 'max_depth': 3, 'tree_method': 'approx'}\n",
            "0.1616015\n",
            "{'alpha': 0.01, 'colsample_bytree': 0.8, 'eta': 0.1, 'lambda': 100, 'max_depth': 10, 'tree_method': 'approx'}\n",
            "0.16387400000000002\n",
            "{'alpha': 0.1, 'colsample_bytree': 0.6000000000000001, 'eta': 1, 'lambda': 0.01, 'max_depth': 6, 'tree_method': 'approx'}\n",
            "0.18744175\n",
            "{'alpha': 10, 'colsample_bytree': 0.9, 'eta': 0.1, 'lambda': 1e-05, 'max_depth': 7, 'tree_method': 'approx'}\n",
            "0.1694795\n",
            "{'alpha': 100, 'colsample_bytree': 0.8, 'eta': 0.01, 'lambda': 1, 'max_depth': 4, 'tree_method': 'approx'}\n",
            "0.38383725\n",
            "{'alpha': 1, 'colsample_bytree': 0.6000000000000001, 'eta': 0.001, 'lambda': 10, 'max_depth': 2, 'tree_method': 'approx'}\n",
            "0.17284299999999997\n",
            "{'alpha': 0.1, 'colsample_bytree': 0.9, 'eta': 0.0001, 'lambda': 1e-05, 'max_depth': 9, 'tree_method': 'approx'}\n",
            "0.18970950000000003\n",
            "{'alpha': 10, 'colsample_bytree': 0.5, 'eta': 0.01, 'lambda': 0.1, 'max_depth': 1, 'tree_method': 'approx'}\n",
            "0.20317249999999998\n",
            "{'alpha': 0.01, 'colsample_bytree': 0.7000000000000001, 'eta': 1, 'lambda': 0.01, 'max_depth': 5, 'tree_method': 'approx'}\n",
            "0.18521475\n",
            "{'alpha': 1, 'colsample_bytree': 0.6000000000000001, 'eta': 0.0001, 'lambda': 100, 'max_depth': 10, 'tree_method': 'approx'}\n",
            "0.1683635\n",
            "{'alpha': 0.1, 'colsample_bytree': 0.8, 'eta': 0.001, 'lambda': 1, 'max_depth': 3, 'tree_method': 'approx'}\n",
            "0.16724224999999998\n",
            "{'alpha': 1e-05, 'colsample_bytree': 0.9, 'eta': 0.1, 'lambda': 0.1, 'max_depth': 4, 'tree_method': 'approx'}\n",
            "0.16497499999999998\n",
            "{'alpha': 100, 'colsample_bytree': 0.6000000000000001, 'eta': 0.01, 'lambda': 1e-05, 'max_depth': 8, 'tree_method': 'approx'}\n",
            "0.38383725\n",
            "{'alpha': 1, 'colsample_bytree': 0.8, 'eta': 0.0001, 'lambda': 0.01, 'max_depth': 9, 'tree_method': 'approx'}\n",
            "0.16497\n",
            "{'alpha': 10, 'colsample_bytree': 0.5, 'eta': 1, 'lambda': 1, 'max_depth': 6, 'tree_method': 'approx'}\n",
            "0.16947425\n",
            "{'alpha': 0.1, 'colsample_bytree': 0.6000000000000001, 'eta': 0.001, 'lambda': 0.1, 'max_depth': 7, 'tree_method': 'approx'}\n",
            "0.16835324999999998\n",
            "{'alpha': 1e-05, 'colsample_bytree': 0.9, 'eta': 0.1, 'lambda': 100, 'max_depth': 4, 'tree_method': 'approx'}\n",
            "0.16387925\n",
            "{'alpha': 100, 'colsample_bytree': 0.8, 'eta': 0.01, 'lambda': 1e-05, 'max_depth': 2, 'tree_method': 'approx'}\n",
            "0.38383725\n",
            "{'alpha': 0.01, 'colsample_bytree': 0.6000000000000001, 'eta': 1, 'lambda': 10, 'max_depth': 8, 'tree_method': 'approx'}\n",
            "0.16721699999999998\n",
            "{'alpha': 0.1, 'colsample_bytree': 0.7000000000000001, 'eta': 0.0001, 'lambda': 1, 'max_depth': 10, 'tree_method': 'approx'}\n",
            "0.16499999999999998\n",
            "{'alpha': 1, 'colsample_bytree': 0.8, 'eta': 0.1, 'lambda': 1e-05, 'max_depth': 5, 'tree_method': 'approx'}\n",
            "0.15599625\n",
            "{'alpha': 1, 'colsample_bytree': 0.8, 'eta': 0.1, 'lambda': 1e-05, 'max_depth': 5, 'tree_method': 'approx'}\n",
            "0.15599625\n",
            "{'alpha': 1, 'colsample_bytree': 0.8, 'eta': 0.1, 'lambda': 1e-05, 'max_depth': 5, 'tree_method': 'approx'}\n",
            "0.15599625\n",
            "{'alpha': 1, 'colsample_bytree': 0.8, 'eta': 0.1, 'lambda': 1e-05, 'max_depth': 5, 'tree_method': 'approx'}\n",
            "0.15599625\n",
            "{'alpha': 1, 'colsample_bytree': 0.8, 'eta': 0.1, 'lambda': 1e-05, 'max_depth': 5, 'tree_method': 'approx'}\n",
            "0.15599625\n",
            "{'alpha': 1, 'colsample_bytree': 0.8, 'eta': 0.1, 'lambda': 1e-05, 'max_depth': 5, 'tree_method': 'approx'}\n",
            "0.15599625\n",
            "{'alpha': 1e-05, 'colsample_bytree': 0.8, 'eta': 0.1, 'lambda': 0.01, 'max_depth': 1, 'tree_method': 'approx'}\n",
            "0.1694795\n",
            "{'alpha': 1, 'colsample_bytree': 0.8, 'eta': 0.1, 'lambda': 1e-05, 'max_depth': 5, 'tree_method': 'approx'}\n",
            "0.15599625\n",
            "{'alpha': 1, 'colsample_bytree': 0.5, 'eta': 0.001, 'lambda': 1e-05, 'max_depth': 5, 'tree_method': 'approx'}\n",
            "0.16723225\n",
            "{'alpha': 1, 'colsample_bytree': 0.8, 'eta': 0.1, 'lambda': 1e-05, 'max_depth': 5, 'tree_method': 'approx'}\n",
            "0.15599625\n",
            "{'alpha': 10, 'colsample_bytree': 0.7000000000000001, 'eta': 0.1, 'lambda': 0.1, 'max_depth': 5, 'tree_method': 'approx'}\n",
            "0.17508975\n",
            "{'alpha': 100, 'colsample_bytree': 0.9, 'eta': 0.01, 'lambda': 100, 'max_depth': 3, 'tree_method': 'approx'}\n",
            "0.38383725\n",
            "{'alpha': 1, 'colsample_bytree': 0.8, 'eta': 0.1, 'lambda': 10, 'max_depth': 9, 'tree_method': 'approx'}\n",
            "0.1604805\n",
            "{'alpha': 0.01, 'colsample_bytree': 0.8, 'eta': 0.0001, 'lambda': 1e-05, 'max_depth': 7, 'tree_method': 'approx'}\n",
            "0.18747725\n",
            "{'alpha': 0.1, 'colsample_bytree': 0.8, 'eta': 0.1, 'lambda': 1, 'max_depth': 4, 'tree_method': 'approx'}\n",
            "0.15599625\n",
            "{'alpha': 0.1, 'colsample_bytree': 0.8, 'eta': 0.1, 'lambda': 1, 'max_depth': 4, 'tree_method': 'approx'}\n",
            "0.15599625\n",
            "{'alpha': 0.1, 'colsample_bytree': 0.8, 'eta': 0.1, 'lambda': 1, 'max_depth': 5, 'tree_method': 'approx'}\n",
            "0.164985\n",
            "{'alpha': 1, 'colsample_bytree': 0.8, 'eta': 0.1, 'lambda': 1e-05, 'max_depth': 6, 'tree_method': 'approx'}\n",
            "0.15599625\n",
            "{'alpha': 1, 'colsample_bytree': 0.8, 'eta': 0.1, 'lambda': 1e-05, 'max_depth': 6, 'tree_method': 'approx'}\n",
            "0.15599625\n",
            "{'alpha': 1, 'colsample_bytree': 0.8, 'eta': 0.1, 'lambda': 1e-05, 'max_depth': 6, 'tree_method': 'approx'}\n",
            "0.15599625\n",
            "{'alpha': 1e-05, 'colsample_bytree': 0.5, 'eta': 0.1, 'lambda': 100, 'max_depth': 6, 'tree_method': 'approx'}\n",
            "0.16835325\n",
            "{'alpha': 1, 'colsample_bytree': 0.8, 'eta': 0.001, 'lambda': 1e-05, 'max_depth': 5, 'tree_method': 'approx'}\n",
            "0.16723725\n",
            "{'alpha': 10, 'colsample_bytree': 0.7000000000000001, 'eta': 0.1, 'lambda': 0.01, 'max_depth': 8, 'tree_method': 'approx'}\n",
            "0.17284275\n",
            "{'alpha': 0.1, 'colsample_bytree': 0.8, 'eta': 0.1, 'lambda': 1, 'max_depth': 4, 'tree_method': 'approx'}\n",
            "0.15599625\n",
            "{'alpha': 0.01, 'colsample_bytree': 0.9, 'eta': 0.01, 'lambda': 10, 'max_depth': 1, 'tree_method': 'approx'}\n",
            "0.2054145\n",
            "{'alpha': 0.1, 'colsample_bytree': 0.8, 'eta': 0.1, 'lambda': 1, 'max_depth': 4, 'tree_method': 'approx'}\n",
            "0.15599625\n",
            "{'alpha': 100, 'colsample_bytree': 0.8, 'eta': 0.0001, 'lambda': 0.1, 'max_depth': 10, 'tree_method': 'approx'}\n",
            "0.38383725\n",
            "{'alpha': 1e-05, 'colsample_bytree': 0.5, 'eta': 0.1, 'lambda': 1, 'max_depth': 3, 'tree_method': 'approx'}\n",
            "0.16163224999999998\n",
            "{'alpha': 0.1, 'colsample_bytree': 0.8, 'eta': 0.001, 'lambda': 0.01, 'max_depth': 6, 'tree_method': 'approx'}\n",
            "0.17509999999999998\n",
            "{'alpha': 1, 'colsample_bytree': 0.7000000000000001, 'eta': 0.1, 'lambda': 1e-05, 'max_depth': 6, 'tree_method': 'approx'}\n",
            "0.15488525\n",
            "{'alpha': 0.01, 'colsample_bytree': 0.7000000000000001, 'eta': 0.01, 'lambda': 100, 'max_depth': 9, 'tree_method': 'approx'}\n",
            "0.17059549999999998\n",
            "{'alpha': 10, 'colsample_bytree': 0.7000000000000001, 'eta': 0.1, 'lambda': 10, 'max_depth': 7, 'tree_method': 'approx'}\n",
            "0.1717265\n",
            "{'alpha': 1, 'colsample_bytree': 0.7000000000000001, 'eta': 0.0001, 'lambda': 1e-05, 'max_depth': 6, 'tree_method': 'approx'}\n",
            "0.16723225\n",
            "{'alpha': 100, 'colsample_bytree': 0.7000000000000001, 'eta': 0.001, 'lambda': 1, 'max_depth': 8, 'tree_method': 'approx'}\n",
            "0.38383725\n",
            "{'alpha': 1, 'colsample_bytree': 0.7000000000000001, 'eta': 0.1, 'lambda': 1e-05, 'max_depth': 6, 'tree_method': 'approx'}\n",
            "0.15488525\n",
            "{'alpha': 1, 'colsample_bytree': 0.7000000000000001, 'eta': 0.1, 'lambda': 1e-05, 'max_depth': 6, 'tree_method': 'approx'}\n",
            "0.15488525\n",
            "{'alpha': 1, 'colsample_bytree': 0.7000000000000001, 'eta': 1, 'lambda': 1e-05, 'max_depth': 6, 'tree_method': 'approx'}\n",
            "0.18296274999999998\n",
            "{'alpha': 1, 'colsample_bytree': 0.7000000000000001, 'eta': 0.1, 'lambda': 1e-05, 'max_depth': 6, 'tree_method': 'approx'}\n",
            "0.15488525\n",
            "{'alpha': 1, 'colsample_bytree': 0.7000000000000001, 'eta': 0.01, 'lambda': 1e-05, 'max_depth': 6, 'tree_method': 'approx'}\n",
            "0.15488\n",
            "{'alpha': 1, 'colsample_bytree': 0.7000000000000001, 'eta': 0.01, 'lambda': 0.1, 'max_depth': 6, 'tree_method': 'approx'}\n",
            "0.16049075\n",
            "{'alpha': 1, 'colsample_bytree': 0.7000000000000001, 'eta': 0.01, 'lambda': 1e-05, 'max_depth': 6, 'tree_method': 'approx'}\n",
            "0.15488\n",
            "{'alpha': 1, 'colsample_bytree': 0.7000000000000001, 'eta': 0.01, 'lambda': 1e-05, 'max_depth': 6, 'tree_method': 'approx'}\n",
            "0.15488\n",
            "{'alpha': 1e-05, 'colsample_bytree': 0.7000000000000001, 'eta': 0.01, 'lambda': 1e-05, 'max_depth': 6, 'tree_method': 'approx'}\n",
            "0.1694845\n",
            "{'alpha': 1, 'colsample_bytree': 0.7000000000000001, 'eta': 0.01, 'lambda': 0.01, 'max_depth': 6, 'tree_method': 'approx'}\n",
            "0.153759\n",
            "{'alpha': 10, 'colsample_bytree': 0.7000000000000001, 'eta': 0.01, 'lambda': 0.01, 'max_depth': 10, 'tree_method': 'approx'}\n",
            "0.17283749999999998\n",
            "{'alpha': 1, 'colsample_bytree': 0.7000000000000001, 'eta': 0.01, 'lambda': 0.01, 'max_depth': 2, 'tree_method': 'approx'}\n",
            "0.186336\n",
            "{'alpha': 0.01, 'colsample_bytree': 0.7000000000000001, 'eta': 0.01, 'lambda': 0.01, 'max_depth': 1, 'tree_method': 'approx'}\n",
            "0.21328749999999996\n",
            "{'alpha': 100, 'colsample_bytree': 0.7000000000000001, 'eta': 0.01, 'lambda': 0.01, 'max_depth': 6, 'tree_method': 'approx'}\n",
            "0.38383725\n",
            "{'alpha': 1, 'colsample_bytree': 0.7000000000000001, 'eta': 0.01, 'lambda': 0.01, 'max_depth': 3, 'tree_method': 'approx'}\n",
            "0.17508975\n",
            "100%|██████████| 100/100 [01:20<00:00,  1.24it/s, best loss: 0.153759]\n"
          ]
        }
      ]
    },
    {
      "cell_type": "code",
      "source": [
        "print(\"The best hyperparameters are : \",\"\\n\")\n",
        "print(best_hyperparams)"
      ],
      "metadata": {
        "colab": {
          "base_uri": "https://localhost:8080/"
        },
        "id": "kXP25pagXHpy",
        "outputId": "a1afa8e6-c721-421e-e0e0-f4127c7342a9"
      },
      "execution_count": 24,
      "outputs": [
        {
          "output_type": "stream",
          "name": "stdout",
          "text": [
            "The best hyperparameters are :  \n",
            "\n",
            "{'alpha': 1, 'colsample_bytree': 0.7000000000000001, 'eta': 0.01, 'lambda': 0.01, 'max_depth': 6, 'tree_method': 'approx'}\n"
          ]
        }
      ]
    },
    {
      "cell_type": "markdown",
      "source": [
        "###  Retrain the model using the best hyperparamets\n",
        "two steps:\n",
        "1. find the best number of boost rounds using cross-validation\n",
        "2. retrain the model using the whole data set"
      ],
      "metadata": {
        "id": "o82ISbsLY8Z_"
      }
    },
    {
      "cell_type": "code",
      "source": [
        "cv_result = xgb.cv(\n",
        "        best_hyperparams, \n",
        "        xgb_train, \n",
        "        1000, \n",
        "        nfold = 4, \n",
        "        metrics = ['error'], \n",
        "        early_stopping_rounds = 50, \n",
        "        stratified = True,\n",
        "        seed = 0\n",
        "        #verbose_eval =True\n",
        "      )"
      ],
      "metadata": {
        "id": "W5NbJvmoYzad"
      },
      "execution_count": 26,
      "outputs": []
    },
    {
      "cell_type": "code",
      "source": [
        "best_round = cv_result.shape[0]\n",
        "best_round"
      ],
      "metadata": {
        "colab": {
          "base_uri": "https://localhost:8080/"
        },
        "id": "TdvpYrH6Y611",
        "outputId": "50a7046c-27ad-4710-a322-5fabac908d98"
      },
      "execution_count": 27,
      "outputs": [
        {
          "output_type": "execute_result",
          "data": {
            "text/plain": [
              "260"
            ]
          },
          "metadata": {},
          "execution_count": 27
        }
      ]
    },
    {
      "cell_type": "code",
      "source": [
        "xgb_model = XGBClassifier(\n",
        "    n_estimators = best_round,\n",
        "    reg_alpha = best_hyperparams['alpha'],\n",
        "    reg_lambda = best_hyperparams['lambda'],\n",
        "    learning_rate = best_hyperparams['eta'],\n",
        "    colsample_bytree = best_hyperparams['colsample_bytree'],\n",
        "    max_depth = best_hyperparams['max_depth'],\n",
        "    random_state = 0\n",
        "\n",
        ")"
      ],
      "metadata": {
        "id": "B7d3vD6KZBLO"
      },
      "execution_count": 28,
      "outputs": []
    },
    {
      "cell_type": "code",
      "source": [
        "xgb_model.fit(titanic_prepared, titanic_label)\n",
        "xgb_prediction = xgb_model.predict(test_prepared)"
      ],
      "metadata": {
        "id": "1wjDLdZ6ZIr1"
      },
      "execution_count": 29,
      "outputs": []
    },
    {
      "cell_type": "code",
      "source": [
        "xgb_submission = pd.DataFrame({'PassengerId': test.PassengerId, 'Survived': xgb_prediction})\n",
        "xgb_submission.to_csv(os.path.join(path_root, 'submission/RandomForest_hyperop.csv'), index = False)"
      ],
      "metadata": {
        "id": "tsIrJFi3ZKfN"
      },
      "execution_count": 30,
      "outputs": []
    },
    {
      "cell_type": "markdown",
      "source": [
        "### save model"
      ],
      "metadata": {
        "id": "08e9yfmMZjj4"
      }
    },
    {
      "cell_type": "code",
      "source": [
        "import joblib\n",
        "\n",
        "joblib.dump(xgb_model, os.path.join(path_root, 'models/best_xgb.sav'))"
      ],
      "metadata": {
        "colab": {
          "base_uri": "https://localhost:8080/"
        },
        "id": "SCzlf2QaZhAq",
        "outputId": "2d0711f6-154d-450a-f726-91bc5d6ee6f7"
      },
      "execution_count": 31,
      "outputs": [
        {
          "output_type": "execute_result",
          "data": {
            "text/plain": [
              "['/content/drive/MyDrive/titanic/models/best_xgb.sav']"
            ]
          },
          "metadata": {},
          "execution_count": 31
        }
      ]
    },
    {
      "cell_type": "code",
      "source": [],
      "metadata": {
        "id": "6oD7wecYZy3B"
      },
      "execution_count": null,
      "outputs": []
    }
  ]
}
