{
  "cells": [
    {
      "cell_type": "markdown",
      "metadata": {
        "id": "view-in-github",
        "colab_type": "text"
      },
      "source": [
        "<a href=\"https://colab.research.google.com/github/zhh25/Titanic/blob/main/Fine_Tune_Neural_Network_Using_CrossValidation.ipynb\" target=\"_parent\"><img src=\"https://colab.research.google.com/assets/colab-badge.svg\" alt=\"Open In Colab\"/></a>"
      ]
    },
    {
      "cell_type": "code",
      "source": [
        "from google.colab import drive\n",
        "drive.mount('/content/drive')"
      ],
      "metadata": {
        "colab": {
          "base_uri": "https://localhost:8080/"
        },
        "id": "UcmWKWSmJgYV",
        "outputId": "dd56f0e8-72ef-4bfc-9a2b-b7a483060811"
      },
      "execution_count": null,
      "outputs": [
        {
          "output_type": "stream",
          "name": "stdout",
          "text": [
            "Mounted at /content/drive\n"
          ]
        }
      ]
    },
    {
      "cell_type": "code",
      "execution_count": null,
      "metadata": {
        "id": "_oQOV_W6JY6Y"
      },
      "outputs": [],
      "source": [
        "import pandas as pd\n",
        "import numpy as np\n",
        "import os\n",
        "path_root = '/content/drive/MyDrive/titanic'\n",
        "train = pd.read_csv(os.path.join(path_root, 'data/train.csv'))\n",
        "test =  pd.read_csv(os.path.join(path_root, 'data/test.csv'))\n",
        "sample_submission =  pd.read_csv(os.path.join(path_root, 'data/sample_submission.csv'))\n",
        "titanic = train.drop('Survived', axis = 1)\n",
        "titanic_label = train['Survived'].copy()"
      ]
    },
    {
      "cell_type": "markdown",
      "metadata": {
        "id": "hFm6MZf2JY6k"
      },
      "source": [
        "# Transformation Pipeline\n",
        "\n",
        "\n"
      ]
    },
    {
      "cell_type": "code",
      "source": [
        "exec(open('/content/drive/MyDrive/Colab Notebooks/titanic_data_pipeline.py' ).read())\n"
      ],
      "metadata": {
        "colab": {
          "base_uri": "https://localhost:8080/"
        },
        "id": "WwpRdwJPsrhx",
        "outputId": "b20188fd-4b99-47a7-b56d-ceaab754aa68"
      },
      "execution_count": null,
      "outputs": [
        {
          "output_type": "stream",
          "name": "stdout",
          "text": [
            "Drive already mounted at /content/drive; to attempt to forcibly remount, call drive.mount(\"/content/drive\", force_remount=True).\n"
          ]
        }
      ]
    },
    {
      "cell_type": "code",
      "execution_count": null,
      "metadata": {
        "id": "iJ7ush_8JY6_"
      },
      "outputs": [],
      "source": [
        "titanic_prepared = full_pipeline.fit_transform(titanic)\n",
        "test_prepared = full_pipeline.transform(test)"
      ]
    },
    {
      "cell_type": "code",
      "source": [
        "from sklearn.model_selection import train_test_split\n",
        "\n",
        "X_train, X_val, y_train, y_val = train_test_split(titanic_prepared, titanic_label, test_size = 0.25,  )"
      ],
      "metadata": {
        "id": "XKXu6EMdi9Jb"
      },
      "execution_count": null,
      "outputs": []
    },
    {
      "cell_type": "markdown",
      "metadata": {
        "id": "cTd2-BiEJY8F"
      },
      "source": [
        "# Fine Tune Neural Network"
      ]
    },
    {
      "cell_type": "code",
      "execution_count": null,
      "metadata": {
        "id": "UjAILV-QJY8G"
      },
      "outputs": [],
      "source": [
        "import tensorflow as tf\n",
        "from tensorflow.keras import Sequential\n",
        "from tensorflow.keras.layers import Dense, Input, Dropout, BatchNormalization\n",
        "from tensorflow.keras.callbacks import EarlyStopping, ReduceLROnPlateau, ModelCheckpoint\n",
        "! pip install keras_tuner\n",
        "import keras_tuner as kt\n",
        "from tensorflow.keras.regularizers import l2"
      ]
    },
    {
      "cell_type": "markdown",
      "metadata": {
        "id": "AFBy3onOJY8H"
      },
      "source": [
        "### Define the search space"
      ]
    },
    {
      "cell_type": "code",
      "execution_count": null,
      "metadata": {
        "id": "6Jf0u2lMJY8H"
      },
      "outputs": [],
      "source": [
        "def call_existing_code(units= 2, hiddens=3, lr=0.001, input_shape =  [titanic_prepared.shape[-1]],\n",
        "                       #penalty_rate = 0.01\n",
        "                       ):\n",
        "    model = Sequential()\n",
        "    options = {'input_shape': input_shape}\n",
        "    for i in range(hiddens -1, -1, -1):\n",
        "        model.add(Dense(units * (2 **i), \n",
        "                        activation = 'selu', \n",
        "                        kernel_initializer = 'lecun_normal',\n",
        "                        #kernel_regularizer = l2(penalty_rate),\n",
        "                        **options\n",
        "                       ))\n",
        "        options = {}\n",
        "\n",
        "        \n",
        "    model.add(Dense(1, activation = 'sigmoid'))\n",
        "    \n",
        "    model.compile(\n",
        "        optimizer = tf.keras.optimizers.Nadam(lr),\n",
        "        loss = tf.keras.losses.BinaryCrossentropy(),\n",
        "        metrics = ['accuracy']\n",
        "    )\n",
        "    return model"
      ]
    },
    {
      "cell_type": "code",
      "source": [
        "#call_existing_code(units = 3, hiddens = 4).summary()"
      ],
      "metadata": {
        "id": "36r9GPU7utgn"
      },
      "execution_count": null,
      "outputs": []
    },
    {
      "cell_type": "markdown",
      "source": [
        "### Sublass HyperModel "
      ],
      "metadata": {
        "id": "mUaCMewPiWq3"
      }
    },
    {
      "cell_type": "code",
      "source": [
        "from sklearn import model_selection\n",
        "class CVHyperModel(kt.HyperModel):\n",
        "    def build(self, hp):\n",
        "        units = hp.Int('units', min_value = 3, max_value = 20, step = 1)\n",
        "        hiddens = hp.Int('hiddens', min_value = 2, max_value = 10)\n",
        "        lr = hp.Float('lr', min_value = 5e-4, max_value = 1e-2, sampling = 'log')\n",
        "        #penalty_rate = hp.Float('pr', min_value = 1e-4, max_value = 1, sampling = 'log')\n",
        "        # call existing model-building code with the hyperparameter values\n",
        "        model = call_existing_code(\n",
        "            units=units, hiddens = hiddens, \n",
        "            lr = lr,\n",
        "            #penalty_rate=penalty_rate\n",
        "        )\n",
        "        return model       \n",
        "\n",
        "    def fit(self, hp, model, x, y, *args, **kwargs):\n",
        "        cv = model_selection.KFold(4, shuffle=True)\n",
        "        val_acc = []\n",
        "        for train_indices, test_indices in cv.split(x):\n",
        "            x_train, x_test = x[train_indices], x[test_indices]\n",
        "            y_train, y_test = y[train_indices], y[test_indices]\n",
        "\n",
        "            model = self.build(hp)\n",
        "            model.fit(x_train, y_train, \n",
        "                      validation_data = (x_test, y_test), \n",
        "                      *args, **kwargs)\n",
        "        \n",
        "            val_acc.append(model.evaluate(x_test, y_test)[1])\n",
        "        # Return a single float to minimize.    \n",
        "        return -np.mean(val_acc)"
      ],
      "metadata": {
        "id": "Z7VTzM7CqLcG"
      },
      "execution_count": null,
      "outputs": []
    },
    {
      "cell_type": "code",
      "execution_count": null,
      "metadata": {
        "id": "Fpl2O2krJY8J",
        "colab": {
          "base_uri": "https://localhost:8080/"
        },
        "outputId": "9b41625a-b7d9-4ee7-9b20-ba9325d4d3d3"
      },
      "outputs": [
        {
          "output_type": "stream",
          "name": "stdout",
          "text": [
            "INFO:tensorflow:Reloading Oracle from existing project /content/drive/MyDrive/titanic/tuner/keras_tuner_7_cv/oracle.json\n",
            "INFO:tensorflow:Reloading Tuner from /content/drive/MyDrive/titanic/tuner/keras_tuner_7_cv/tuner0.json\n"
          ]
        }
      ],
      "source": [
        "tuner = kt.BayesianOptimization(\n",
        "    hypermodel= CVHyperModel(),\n",
        "    # No objective to specify.\n",
        "    # Objective is the return value of `HyperModel.fit()`.\n",
        "    max_trials= 40,\n",
        "    overwrite = False,\n",
        "    directory = os.path.join(path_root, 'tuner'),\n",
        "    project_name = 'keras_tuner_7_cv',\n",
        "    executions_per_trial=3\n",
        ")"
      ]
    },
    {
      "cell_type": "markdown",
      "metadata": {
        "id": "lbdUHgZ7JY8I"
      },
      "source": [
        "### Start the search"
      ]
    },
    {
      "cell_type": "markdown",
      "metadata": {
        "id": "CfL1UMhnJY8J"
      },
      "source": [
        "All the arguments passed to search is passed to model.fit() in each execution"
      ]
    },
    {
      "cell_type": "code",
      "execution_count": null,
      "metadata": {
        "id": "xgB0x2AoJY8J"
      },
      "outputs": [],
      "source": [
        "early_stopping = EarlyStopping(monitor='val_accuracy', patience = 20, restore_best_weights=True, mode = 'max')\n",
        "lr_schedule = ReduceLROnPlateau('val_loss', factor = 0.5, patience = 5, mode = 'min')"
      ]
    },
    {
      "cell_type": "code",
      "execution_count": null,
      "metadata": {
        "colab": {
          "base_uri": "https://localhost:8080/"
        },
        "id": "zN8j3bCRJY8K",
        "outputId": "acc3e725-934d-4c71-d664-504956a6c000"
      },
      "outputs": [
        {
          "output_type": "stream",
          "name": "stdout",
          "text": [
            "INFO:tensorflow:Oracle triggered exit\n"
          ]
        }
      ],
      "source": [
        "tuner.search(titanic_prepared, titanic_label,\n",
        "            batch_size=32,\n",
        "            epochs = 1000,\n",
        "            callbacks=[early_stopping, lr_schedule],\n",
        "            verbose = 2)"
      ]
    },
    {
      "cell_type": "code",
      "source": [
        "tuner.results_summary()"
      ],
      "metadata": {
        "colab": {
          "base_uri": "https://localhost:8080/"
        },
        "id": "S_Pavf7KxAW9",
        "outputId": "34a9e84a-cdf4-4f37-9c24-ae41d3cb3348"
      },
      "execution_count": null,
      "outputs": [
        {
          "output_type": "stream",
          "name": "stdout",
          "text": [
            "Results summary\n",
            "Results in /content/drive/MyDrive/titanic/tuner/keras_tuner_7_cv\n",
            "Showing 10 best trials\n",
            "<keras_tuner.engine.objective.DefaultObjective object at 0x7fdb8cc0bbd0>\n",
            "Trial summary\n",
            "Hyperparameters:\n",
            "units: 10\n",
            "hiddens: 5\n",
            "lr: 0.0005911057170266328\n",
            "Score: -0.8421454081932703\n",
            "Trial summary\n",
            "Hyperparameters:\n",
            "units: 2\n",
            "hiddens: 3\n",
            "lr: 0.01\n",
            "Score: -0.8417498171329498\n",
            "Trial summary\n",
            "Hyperparameters:\n",
            "units: 10\n",
            "hiddens: 5\n",
            "lr: 0.0005730157594327513\n",
            "Score: -0.8413811773061752\n",
            "Trial summary\n",
            "Hyperparameters:\n",
            "units: 10\n",
            "hiddens: 5\n",
            "lr: 0.0006339556224852895\n",
            "Score: -0.8406388560930887\n",
            "Trial summary\n",
            "Hyperparameters:\n",
            "units: 10\n",
            "hiddens: 5\n",
            "lr: 0.0005\n",
            "Score: -0.8406169613202413\n",
            "Trial summary\n",
            "Hyperparameters:\n",
            "units: 10\n",
            "hiddens: 5\n",
            "lr: 0.0005\n",
            "Score: -0.8398931423823038\n",
            "Trial summary\n",
            "Hyperparameters:\n",
            "units: 2\n",
            "hiddens: 3\n",
            "lr: 0.01\n",
            "Score: -0.839145764708519\n",
            "Trial summary\n",
            "Hyperparameters:\n",
            "units: 10\n",
            "hiddens: 5\n",
            "lr: 0.00475165515741009\n",
            "Score: -0.8391205171744028\n",
            "Trial summary\n",
            "Hyperparameters:\n",
            "units: 3\n",
            "hiddens: 3\n",
            "lr: 0.01\n",
            "Score: -0.838770384589831\n",
            "Trial summary\n",
            "Hyperparameters:\n",
            "units: 10\n",
            "hiddens: 5\n",
            "lr: 0.0008807800705310706\n",
            "Score: -0.8387619654337565\n"
          ]
        }
      ]
    },
    {
      "cell_type": "code",
      "source": [
        "best_model = tuner.get_best_models(num_models=2)[0]\n",
        "best_model.summary()"
      ],
      "metadata": {
        "colab": {
          "base_uri": "https://localhost:8080/"
        },
        "id": "G0V8d0rkkitD",
        "outputId": "5953898a-c9a9-49d0-b0ac-3f899c2f8f40"
      },
      "execution_count": null,
      "outputs": [
        {
          "output_type": "stream",
          "name": "stdout",
          "text": [
            "WARNING:tensorflow:Detecting that an object or model or tf.train.Checkpoint is being deleted with unrestored values. See the following logs for the specific values in question. To silence these warnings, use `status.expect_partial()`. See https://www.tensorflow.org/api_docs/python/tf/train/Checkpoint#restorefor details about the status object returned by the restore function.\n",
            "WARNING:tensorflow:Value in checkpoint could not be found in the restored object: (root).optimizer.iter\n",
            "WARNING:tensorflow:Value in checkpoint could not be found in the restored object: (root).optimizer.beta_1\n",
            "WARNING:tensorflow:Value in checkpoint could not be found in the restored object: (root).optimizer.beta_2\n",
            "WARNING:tensorflow:Value in checkpoint could not be found in the restored object: (root).optimizer.decay\n",
            "WARNING:tensorflow:Value in checkpoint could not be found in the restored object: (root).optimizer.learning_rate\n",
            "WARNING:tensorflow:Value in checkpoint could not be found in the restored object: (root).optimizer.momentum_cache\n",
            "Model: \"sequential\"\n",
            "_________________________________________________________________\n",
            " Layer (type)                Output Shape              Param #   \n",
            "=================================================================\n",
            " dense (Dense)               (None, 160)               4320      \n",
            "                                                                 \n",
            " dense_1 (Dense)             (None, 80)                12880     \n",
            "                                                                 \n",
            " dense_2 (Dense)             (None, 40)                3240      \n",
            "                                                                 \n",
            " dense_3 (Dense)             (None, 20)                820       \n",
            "                                                                 \n",
            " dense_4 (Dense)             (None, 10)                210       \n",
            "                                                                 \n",
            " dense_5 (Dense)             (None, 1)                 11        \n",
            "                                                                 \n",
            "=================================================================\n",
            "Total params: 21,481\n",
            "Trainable params: 21,481\n",
            "Non-trainable params: 0\n",
            "_________________________________________________________________\n"
          ]
        }
      ]
    },
    {
      "cell_type": "code",
      "source": [],
      "metadata": {
        "id": "mg3X06Kxk48u"
      },
      "execution_count": null,
      "outputs": []
    },
    {
      "cell_type": "markdown",
      "source": [
        "### Retrain the model\n"
      ],
      "metadata": {
        "id": "ijix6Hx_ikXz"
      }
    },
    {
      "cell_type": "markdown",
      "source": [
        "Find the optimal number of epochs to train the model with the hyperparameters obtained from the search."
      ],
      "metadata": {
        "id": "NkpV3A1Y8BbH"
      }
    },
    {
      "cell_type": "code",
      "source": [
        "best_hps = tuner.get_best_hyperparameters(2)[0]\n",
        "print(best_hps.get('units'), best_hps.get('hiddens'))"
      ],
      "metadata": {
        "colab": {
          "base_uri": "https://localhost:8080/"
        },
        "id": "zkMzdAshjNt3",
        "outputId": "5d8aeadb-f893-4f2f-e056-57ba5724dedb"
      },
      "execution_count": null,
      "outputs": [
        {
          "output_type": "stream",
          "name": "stdout",
          "text": [
            "10 5\n"
          ]
        }
      ]
    },
    {
      "cell_type": "code",
      "source": [
        "model = tuner.hypermodel.build(best_hps)\n",
        "history = model.fit(X_train, y_train, \n",
        "                    batch_size=32,\n",
        "                    epochs = 1000,\n",
        "                    callbacks=[early_stopping, lr_schedule],\n",
        "                    #validation_split=0.2,\n",
        "                    validation_data = (X_val, y_val),\n",
        "                    verbose = 1)\n"
      ],
      "metadata": {
        "id": "Tw_FhCE67zck"
      },
      "execution_count": null,
      "outputs": []
    },
    {
      "cell_type": "code",
      "source": [
        "val_acc_per_epoch = history.history['val_accuracy']\n",
        "max(val_acc_per_epoch )\n",
        "best_epoch = val_acc_per_epoch.index(max(val_acc_per_epoch)) + 1\n",
        "print('Best epoch: %d' % (best_epoch,))"
      ],
      "metadata": {
        "colab": {
          "base_uri": "https://localhost:8080/"
        },
        "id": "L9fcAVw29UX9",
        "outputId": "1bf9073d-c280-4d25-8a0d-0486a0c1c8ea"
      },
      "execution_count": null,
      "outputs": [
        {
          "output_type": "stream",
          "name": "stdout",
          "text": [
            "Best epoch: 11\n"
          ]
        }
      ]
    },
    {
      "cell_type": "markdown",
      "source": [
        "If you want to train the model with the entire dataset, you may retrieve the best hyperparameters and retrain the model by yourself."
      ],
      "metadata": {
        "id": "t3Z63MKA75bx"
      }
    },
    {
      "cell_type": "code",
      "source": [
        "lr_schedule_retrain = ReduceLROnPlateau('loss', factor = 0.5, patience = 3, mode = 'min')\n",
        "checkpoint_retrain = ModelCheckpoint(os.path.join(path_root, 'tuner'),\n",
        "                                     save_best_only = True,\n",
        "                                     monitor = 'accuracy',\n",
        "                                     mode = 'max')"
      ],
      "metadata": {
        "id": "BfXwr6PnwPs3"
      },
      "execution_count": null,
      "outputs": []
    },
    {
      "cell_type": "code",
      "source": [
        "# Build the model with the best hp.\n",
        "best_model = tuner.hypermodel.build(best_hps)\n",
        "# Fit with the entire dataset.\n",
        "history = best_model.fit(titanic_prepared, titanic_label, \n",
        "                batch_size=32,\n",
        "                epochs = best_epoch,\n",
        "                callbacks=[lr_schedule_retrain, checkpoint_retrain],\n",
        "                #validation_split=0.2,\n",
        "                #validation_data = (X_val, y_val),\n",
        "                verbose = 1\n",
        "                )"
      ],
      "metadata": {
        "id": "EL54q0AWiecp",
        "colab": {
          "base_uri": "https://localhost:8080/"
        },
        "outputId": "d6608fe6-026e-4e2c-833f-32d55a98526e"
      },
      "execution_count": null,
      "outputs": [
        {
          "output_type": "stream",
          "name": "stdout",
          "text": [
            "Epoch 1/11\n",
            "21/28 [=====================>........] - ETA: 0s - loss: 0.6662 - accuracy: 0.6592WARNING:tensorflow:Detecting that an object or model or tf.train.Checkpoint is being deleted with unrestored values. See the following logs for the specific values in question. To silence these warnings, use `status.expect_partial()`. See https://www.tensorflow.org/api_docs/python/tf/train/Checkpoint#restorefor details about the status object returned by the restore function.\n",
            "WARNING:tensorflow:Value in checkpoint could not be found in the restored object: (root).optimizer.iter\n",
            "WARNING:tensorflow:Value in checkpoint could not be found in the restored object: (root).optimizer.beta_1\n",
            "WARNING:tensorflow:Value in checkpoint could not be found in the restored object: (root).optimizer.beta_2\n",
            "WARNING:tensorflow:Value in checkpoint could not be found in the restored object: (root).optimizer.decay\n",
            "WARNING:tensorflow:Value in checkpoint could not be found in the restored object: (root).optimizer.learning_rate\n",
            "WARNING:tensorflow:Value in checkpoint could not be found in the restored object: (root).optimizer.momentum_cache\n",
            "INFO:tensorflow:Assets written to: /content/drive/MyDrive/titanic/tuner/assets\n",
            "28/28 [==============================] - 3s 67ms/step - loss: 0.6377 - accuracy: 0.6667 - lr: 0.0034\n",
            "Epoch 2/11\n",
            "22/28 [======================>.......] - ETA: 0s - loss: 0.4940 - accuracy: 0.7812INFO:tensorflow:Assets written to: /content/drive/MyDrive/titanic/tuner/assets\n",
            "28/28 [==============================] - 1s 38ms/step - loss: 0.4819 - accuracy: 0.7868 - lr: 0.0034\n",
            "Epoch 3/11\n",
            "22/28 [======================>.......] - ETA: 0s - loss: 0.4658 - accuracy: 0.7940INFO:tensorflow:Assets written to: /content/drive/MyDrive/titanic/tuner/assets\n",
            "28/28 [==============================] - 1s 36ms/step - loss: 0.4519 - accuracy: 0.8036 - lr: 0.0034\n",
            "Epoch 4/11\n",
            "24/28 [========================>.....] - ETA: 0s - loss: 0.4465 - accuracy: 0.8216INFO:tensorflow:Assets written to: /content/drive/MyDrive/titanic/tuner/assets\n",
            "28/28 [==============================] - 1s 38ms/step - loss: 0.4476 - accuracy: 0.8182 - lr: 0.0034\n",
            "Epoch 5/11\n",
            "22/28 [======================>.......] - ETA: 0s - loss: 0.4297 - accuracy: 0.8267INFO:tensorflow:Assets written to: /content/drive/MyDrive/titanic/tuner/assets\n",
            "28/28 [==============================] - 1s 36ms/step - loss: 0.4464 - accuracy: 0.8193 - lr: 0.0034\n",
            "Epoch 6/11\n",
            "21/28 [=====================>........] - ETA: 0s - loss: 0.4281 - accuracy: 0.8333INFO:tensorflow:Assets written to: /content/drive/MyDrive/titanic/tuner/assets\n",
            "28/28 [==============================] - 1s 39ms/step - loss: 0.4254 - accuracy: 0.8283 - lr: 0.0034\n",
            "Epoch 7/11\n",
            "28/28 [==============================] - 0s 7ms/step - loss: 0.4223 - accuracy: 0.8260 - lr: 0.0034\n",
            "Epoch 8/11\n",
            "28/28 [==============================] - 0s 5ms/step - loss: 0.4120 - accuracy: 0.8272 - lr: 0.0034\n",
            "Epoch 9/11\n",
            "22/28 [======================>.......] - ETA: 0s - loss: 0.3999 - accuracy: 0.8281INFO:tensorflow:Assets written to: /content/drive/MyDrive/titanic/tuner/assets\n",
            "28/28 [==============================] - 1s 36ms/step - loss: 0.4077 - accuracy: 0.8305 - lr: 0.0034\n",
            "Epoch 10/11\n",
            "28/28 [==============================] - 0s 5ms/step - loss: 0.3994 - accuracy: 0.8238 - lr: 0.0034\n",
            "Epoch 11/11\n",
            "28/28 [==============================] - 0s 5ms/step - loss: 0.3939 - accuracy: 0.8249 - lr: 0.0034\n"
          ]
        }
      ]
    },
    {
      "cell_type": "code",
      "source": [],
      "metadata": {
        "id": "2QHTLhVBk7ck"
      },
      "execution_count": null,
      "outputs": []
    },
    {
      "cell_type": "code",
      "source": [],
      "metadata": {
        "id": "b_50t2tFk-aN"
      },
      "execution_count": null,
      "outputs": []
    },
    {
      "cell_type": "markdown",
      "source": [
        "### Predict"
      ],
      "metadata": {
        "id": "x9Xfomkkk_Gp"
      }
    },
    {
      "cell_type": "code",
      "source": [
        "test_prob = best_model.predict(test_prepared)"
      ],
      "metadata": {
        "id": "0oQrSM85e0Nk"
      },
      "execution_count": null,
      "outputs": []
    },
    {
      "cell_type": "code",
      "source": [
        "np.sum(test_prob >= 0.5)"
      ],
      "metadata": {
        "colab": {
          "base_uri": "https://localhost:8080/"
        },
        "id": "quAB9qYrgUsS",
        "outputId": "44b92b52-8757-4be2-f0c4-3fc90adf8249"
      },
      "execution_count": null,
      "outputs": [
        {
          "output_type": "execute_result",
          "data": {
            "text/plain": [
              "137"
            ]
          },
          "metadata": {},
          "execution_count": 27
        }
      ]
    },
    {
      "cell_type": "code",
      "execution_count": null,
      "metadata": {
        "colab": {
          "base_uri": "https://localhost:8080/",
          "height": 424
        },
        "id": "jS2KLEiBJY8L",
        "outputId": "b0891c96-cfec-4c68-fa76-8d20a6d42f84"
      },
      "outputs": [
        {
          "output_type": "execute_result",
          "data": {
            "text/plain": [
              "     PassengerId  Survived\n",
              "0            892         0\n",
              "1            893         0\n",
              "2            894         0\n",
              "3            895         0\n",
              "4            896         1\n",
              "..           ...       ...\n",
              "413         1305         0\n",
              "414         1306         1\n",
              "415         1307         0\n",
              "416         1308         0\n",
              "417         1309         1\n",
              "\n",
              "[418 rows x 2 columns]"
            ],
            "text/html": [
              "\n",
              "  <div id=\"df-f612b9a1-e729-4a46-afbe-9361d6a6aa3c\">\n",
              "    <div class=\"colab-df-container\">\n",
              "      <div>\n",
              "<style scoped>\n",
              "    .dataframe tbody tr th:only-of-type {\n",
              "        vertical-align: middle;\n",
              "    }\n",
              "\n",
              "    .dataframe tbody tr th {\n",
              "        vertical-align: top;\n",
              "    }\n",
              "\n",
              "    .dataframe thead th {\n",
              "        text-align: right;\n",
              "    }\n",
              "</style>\n",
              "<table border=\"1\" class=\"dataframe\">\n",
              "  <thead>\n",
              "    <tr style=\"text-align: right;\">\n",
              "      <th></th>\n",
              "      <th>PassengerId</th>\n",
              "      <th>Survived</th>\n",
              "    </tr>\n",
              "  </thead>\n",
              "  <tbody>\n",
              "    <tr>\n",
              "      <th>0</th>\n",
              "      <td>892</td>\n",
              "      <td>0</td>\n",
              "    </tr>\n",
              "    <tr>\n",
              "      <th>1</th>\n",
              "      <td>893</td>\n",
              "      <td>0</td>\n",
              "    </tr>\n",
              "    <tr>\n",
              "      <th>2</th>\n",
              "      <td>894</td>\n",
              "      <td>0</td>\n",
              "    </tr>\n",
              "    <tr>\n",
              "      <th>3</th>\n",
              "      <td>895</td>\n",
              "      <td>0</td>\n",
              "    </tr>\n",
              "    <tr>\n",
              "      <th>4</th>\n",
              "      <td>896</td>\n",
              "      <td>1</td>\n",
              "    </tr>\n",
              "    <tr>\n",
              "      <th>...</th>\n",
              "      <td>...</td>\n",
              "      <td>...</td>\n",
              "    </tr>\n",
              "    <tr>\n",
              "      <th>413</th>\n",
              "      <td>1305</td>\n",
              "      <td>0</td>\n",
              "    </tr>\n",
              "    <tr>\n",
              "      <th>414</th>\n",
              "      <td>1306</td>\n",
              "      <td>1</td>\n",
              "    </tr>\n",
              "    <tr>\n",
              "      <th>415</th>\n",
              "      <td>1307</td>\n",
              "      <td>0</td>\n",
              "    </tr>\n",
              "    <tr>\n",
              "      <th>416</th>\n",
              "      <td>1308</td>\n",
              "      <td>0</td>\n",
              "    </tr>\n",
              "    <tr>\n",
              "      <th>417</th>\n",
              "      <td>1309</td>\n",
              "      <td>1</td>\n",
              "    </tr>\n",
              "  </tbody>\n",
              "</table>\n",
              "<p>418 rows × 2 columns</p>\n",
              "</div>\n",
              "      <button class=\"colab-df-convert\" onclick=\"convertToInteractive('df-f612b9a1-e729-4a46-afbe-9361d6a6aa3c')\"\n",
              "              title=\"Convert this dataframe to an interactive table.\"\n",
              "              style=\"display:none;\">\n",
              "        \n",
              "  <svg xmlns=\"http://www.w3.org/2000/svg\" height=\"24px\"viewBox=\"0 0 24 24\"\n",
              "       width=\"24px\">\n",
              "    <path d=\"M0 0h24v24H0V0z\" fill=\"none\"/>\n",
              "    <path d=\"M18.56 5.44l.94 2.06.94-2.06 2.06-.94-2.06-.94-.94-2.06-.94 2.06-2.06.94zm-11 1L8.5 8.5l.94-2.06 2.06-.94-2.06-.94L8.5 2.5l-.94 2.06-2.06.94zm10 10l.94 2.06.94-2.06 2.06-.94-2.06-.94-.94-2.06-.94 2.06-2.06.94z\"/><path d=\"M17.41 7.96l-1.37-1.37c-.4-.4-.92-.59-1.43-.59-.52 0-1.04.2-1.43.59L10.3 9.45l-7.72 7.72c-.78.78-.78 2.05 0 2.83L4 21.41c.39.39.9.59 1.41.59.51 0 1.02-.2 1.41-.59l7.78-7.78 2.81-2.81c.8-.78.8-2.07 0-2.86zM5.41 20L4 18.59l7.72-7.72 1.47 1.35L5.41 20z\"/>\n",
              "  </svg>\n",
              "      </button>\n",
              "      \n",
              "  <style>\n",
              "    .colab-df-container {\n",
              "      display:flex;\n",
              "      flex-wrap:wrap;\n",
              "      gap: 12px;\n",
              "    }\n",
              "\n",
              "    .colab-df-convert {\n",
              "      background-color: #E8F0FE;\n",
              "      border: none;\n",
              "      border-radius: 50%;\n",
              "      cursor: pointer;\n",
              "      display: none;\n",
              "      fill: #1967D2;\n",
              "      height: 32px;\n",
              "      padding: 0 0 0 0;\n",
              "      width: 32px;\n",
              "    }\n",
              "\n",
              "    .colab-df-convert:hover {\n",
              "      background-color: #E2EBFA;\n",
              "      box-shadow: 0px 1px 2px rgba(60, 64, 67, 0.3), 0px 1px 3px 1px rgba(60, 64, 67, 0.15);\n",
              "      fill: #174EA6;\n",
              "    }\n",
              "\n",
              "    [theme=dark] .colab-df-convert {\n",
              "      background-color: #3B4455;\n",
              "      fill: #D2E3FC;\n",
              "    }\n",
              "\n",
              "    [theme=dark] .colab-df-convert:hover {\n",
              "      background-color: #434B5C;\n",
              "      box-shadow: 0px 1px 3px 1px rgba(0, 0, 0, 0.15);\n",
              "      filter: drop-shadow(0px 1px 2px rgba(0, 0, 0, 0.3));\n",
              "      fill: #FFFFFF;\n",
              "    }\n",
              "  </style>\n",
              "\n",
              "      <script>\n",
              "        const buttonEl =\n",
              "          document.querySelector('#df-f612b9a1-e729-4a46-afbe-9361d6a6aa3c button.colab-df-convert');\n",
              "        buttonEl.style.display =\n",
              "          google.colab.kernel.accessAllowed ? 'block' : 'none';\n",
              "\n",
              "        async function convertToInteractive(key) {\n",
              "          const element = document.querySelector('#df-f612b9a1-e729-4a46-afbe-9361d6a6aa3c');\n",
              "          const dataTable =\n",
              "            await google.colab.kernel.invokeFunction('convertToInteractive',\n",
              "                                                     [key], {});\n",
              "          if (!dataTable) return;\n",
              "\n",
              "          const docLinkHtml = 'Like what you see? Visit the ' +\n",
              "            '<a target=\"_blank\" href=https://colab.research.google.com/notebooks/data_table.ipynb>data table notebook</a>'\n",
              "            + ' to learn more about interactive tables.';\n",
              "          element.innerHTML = '';\n",
              "          dataTable['output_type'] = 'display_data';\n",
              "          await google.colab.output.renderOutput(dataTable, element);\n",
              "          const docLink = document.createElement('div');\n",
              "          docLink.innerHTML = docLinkHtml;\n",
              "          element.appendChild(docLink);\n",
              "        }\n",
              "      </script>\n",
              "    </div>\n",
              "  </div>\n",
              "  "
            ]
          },
          "metadata": {},
          "execution_count": 16
        }
      ],
      "source": [
        "sample_submission['Survived'] = (test_prob >= 0.5)\n",
        "sample_submission['Survived'] = sample_submission['Survived'].astype('int8')\n",
        "sample_submission"
      ]
    },
    {
      "cell_type": "code",
      "source": [
        "sample_submission.to_csv(os.path.join(path_root, 'submission/neural_network_11_cv.csv'), index = False)"
      ],
      "metadata": {
        "id": "lhmOIEq-hbyD"
      },
      "execution_count": null,
      "outputs": []
    },
    {
      "cell_type": "markdown",
      "metadata": {
        "id": "TLWUWS-MJY8K"
      },
      "source": [
        "# Ensemble"
      ]
    },
    {
      "cell_type": "code",
      "source": [
        "best_hps = tuner.get_best_hyperparameters(2)[0]\n",
        "print(best_hps.get('units'), best_hps.get('hiddens'))"
      ],
      "metadata": {
        "colab": {
          "base_uri": "https://localhost:8080/"
        },
        "outputId": "3744068a-69f8-4a93-bf11-046d3fe6bc6e",
        "id": "p-TFsSpOEO9v"
      },
      "execution_count": null,
      "outputs": [
        {
          "output_type": "stream",
          "name": "stdout",
          "text": [
            "10 5\n"
          ]
        }
      ]
    },
    {
      "cell_type": "code",
      "source": [
        "trial_num = 3\n",
        "val_acc = []\n",
        "pred = None\n",
        "for i in range(trial_num):\n",
        "    cv = model_selection.KFold(4, shuffle=True)\n",
        "    for train_indices, test_indices in cv.split(titanic_prepared):\n",
        "        x_train, x_test = titanic_prepared[train_indices], titanic_prepared[test_indices]\n",
        "        y_train, y_test = titanic_label[train_indices], titanic_label[test_indices]\n",
        "\n",
        "        model = tuner.hypermodel.build(best_hps)\n",
        "        model.fit(x_train, y_train, \n",
        "            validation_data = (x_test, y_test), \n",
        "            batch_size=32,\n",
        "            epochs = 1000,\n",
        "            callbacks=[early_stopping, lr_schedule],\n",
        "            verbose = 0 )\n",
        "\n",
        "        val_acc.append(model.evaluate(x_test, y_test)[1])\n",
        "        \n",
        "        if pred is None:\n",
        "            pred = model.predict(test_prepared) \n",
        "        else:\n",
        "            pred = np.concatenate((pred, model.predict(test_prepared) ), axis= 1)        \n",
        "\n",
        "        print(val_acc, pred.shape)\n",
        "print(np.mean(val_acc))"
      ],
      "metadata": {
        "colab": {
          "base_uri": "https://localhost:8080/"
        },
        "id": "87ObM-v34gDp",
        "outputId": "7bb03410-b309-453d-e275-ca297409093b"
      },
      "execution_count": null,
      "outputs": [
        {
          "output_type": "stream",
          "name": "stdout",
          "text": [
            "7/7 [==============================] - 0s 3ms/step - loss: 0.3728 - accuracy: 0.8565\n",
            "[0.8565022349357605] (418, 1)\n",
            "7/7 [==============================] - 0s 3ms/step - loss: 0.4052 - accuracy: 0.8520\n",
            "[0.8565022349357605, 0.8520179390907288] (418, 2)\n",
            "7/7 [==============================] - 0s 3ms/step - loss: 0.3999 - accuracy: 0.8386\n",
            "[0.8565022349357605, 0.8520179390907288, 0.8385650515556335] (418, 3)\n",
            "7/7 [==============================] - 0s 3ms/step - loss: 0.5131 - accuracy: 0.7973\n",
            "[0.8565022349357605, 0.8520179390907288, 0.8385650515556335, 0.7972972989082336] (418, 4)\n",
            "7/7 [==============================] - 0s 4ms/step - loss: 0.4528 - accuracy: 0.8206\n",
            "[0.8565022349357605, 0.8520179390907288, 0.8385650515556335, 0.7972972989082336, 0.8206278085708618] (418, 5)\n",
            "7/7 [==============================] - 0s 3ms/step - loss: 0.3848 - accuracy: 0.8700\n",
            "[0.8565022349357605, 0.8520179390907288, 0.8385650515556335, 0.7972972989082336, 0.8206278085708618, 0.8699551820755005] (418, 6)\n",
            "7/7 [==============================] - 0s 3ms/step - loss: 0.4007 - accuracy: 0.8565\n",
            "[0.8565022349357605, 0.8520179390907288, 0.8385650515556335, 0.7972972989082336, 0.8206278085708618, 0.8699551820755005, 0.8565022349357605] (418, 7)\n",
            "7/7 [==============================] - 0s 3ms/step - loss: 0.4464 - accuracy: 0.8468\n",
            "[0.8565022349357605, 0.8520179390907288, 0.8385650515556335, 0.7972972989082336, 0.8206278085708618, 0.8699551820755005, 0.8565022349357605, 0.8468468189239502] (418, 8)\n",
            "7/7 [==============================] - 0s 3ms/step - loss: 0.4412 - accuracy: 0.8386\n",
            "[0.8565022349357605, 0.8520179390907288, 0.8385650515556335, 0.7972972989082336, 0.8206278085708618, 0.8699551820755005, 0.8565022349357605, 0.8468468189239502, 0.8385650515556335] (418, 9)\n",
            "7/7 [==============================] - 0s 3ms/step - loss: 0.3962 - accuracy: 0.8565\n",
            "[0.8565022349357605, 0.8520179390907288, 0.8385650515556335, 0.7972972989082336, 0.8206278085708618, 0.8699551820755005, 0.8565022349357605, 0.8468468189239502, 0.8385650515556335, 0.8565022349357605] (418, 10)\n",
            "7/7 [==============================] - 0s 3ms/step - loss: 0.4302 - accuracy: 0.8296\n",
            "[0.8565022349357605, 0.8520179390907288, 0.8385650515556335, 0.7972972989082336, 0.8206278085708618, 0.8699551820755005, 0.8565022349357605, 0.8468468189239502, 0.8385650515556335, 0.8565022349357605, 0.8295964002609253] (418, 11)\n",
            "7/7 [==============================] - 0s 3ms/step - loss: 0.4078 - accuracy: 0.8288\n",
            "[0.8565022349357605, 0.8520179390907288, 0.8385650515556335, 0.7972972989082336, 0.8206278085708618, 0.8699551820755005, 0.8565022349357605, 0.8468468189239502, 0.8385650515556335, 0.8565022349357605, 0.8295964002609253, 0.8288288116455078] (418, 12)\n",
            "0.8409839222828547\n"
          ]
        }
      ]
    },
    {
      "cell_type": "code",
      "source": [
        "sample_submission['Survived'] =(pred.mean(axis = 1) >= 0.5).astype('int8')\n",
        "\n",
        "\n",
        "sample_submission.sum(axis = 0)"
      ],
      "metadata": {
        "colab": {
          "base_uri": "https://localhost:8080/"
        },
        "id": "cI13UQ4f63QZ",
        "outputId": "e5d3a333-6ac7-4ea9-c016-e14b7a74fc2d"
      },
      "execution_count": null,
      "outputs": [
        {
          "output_type": "execute_result",
          "data": {
            "text/plain": [
              "PassengerId    460009\n",
              "Survived          157\n",
              "dtype: int64"
            ]
          },
          "metadata": {},
          "execution_count": 39
        }
      ]
    },
    {
      "cell_type": "code",
      "source": [
        "sample_submission.to_csv(os.path.join(path_root, 'submission/neural_network_12_softvote.csv'), index = False)"
      ],
      "metadata": {
        "id": "FMqNSSGr8n7w"
      },
      "execution_count": null,
      "outputs": []
    },
    {
      "cell_type": "code",
      "source": [],
      "metadata": {
        "id": "hJhG6_x0FcrL"
      },
      "execution_count": null,
      "outputs": []
    },
    {
      "cell_type": "markdown",
      "source": [
        "# Save model"
      ],
      "metadata": {
        "id": "lY2ITtsoAtmZ"
      }
    },
    {
      "cell_type": "code",
      "source": [
        "best_model.save(os.path.join(path_root, 'models/best_nn'))"
      ],
      "metadata": {
        "colab": {
          "base_uri": "https://localhost:8080/"
        },
        "id": "WtVNLRwhA1J5",
        "outputId": "d214ec7c-b1f4-4db1-cfc7-37da661e5146"
      },
      "execution_count": null,
      "outputs": [
        {
          "output_type": "stream",
          "name": "stdout",
          "text": [
            "INFO:tensorflow:Assets written to: /content/drive/MyDrive/titanic/models/best_nn/assets\n"
          ]
        },
        {
          "output_type": "stream",
          "name": "stderr",
          "text": [
            "INFO:tensorflow:Assets written to: /content/drive/MyDrive/titanic/models/best_nn/assets\n"
          ]
        }
      ]
    },
    {
      "cell_type": "code",
      "source": [
        "best_nn = tf.keras.models.load_model(os.path.join(path_root, 'models/best_nn'))"
      ],
      "metadata": {
        "id": "ATkfMU02CF06"
      },
      "execution_count": null,
      "outputs": []
    },
    {
      "cell_type": "code",
      "source": [
        "test_prob = best_nn.predict(test_prepared) \n",
        "sample_submission['Survived'] = (test_prob >= 0.5)\n",
        "sample_submission['Survived'] = sample_submission['Survived'].astype('int8')\n",
        "sample_submission.to_csv(os.path.join(path_root, 'submission/neural_network_best.csv'), index = False)"
      ],
      "metadata": {
        "id": "6afWrOyRCnzt"
      },
      "execution_count": null,
      "outputs": []
    },
    {
      "cell_type": "code",
      "source": [],
      "metadata": {
        "id": "TVoru8afCrCt"
      },
      "execution_count": null,
      "outputs": []
    }
  ],
  "metadata": {
    "kernelspec": {
      "display_name": "Python 3",
      "language": "python",
      "name": "python3"
    },
    "language_info": {
      "codemirror_mode": {
        "name": "ipython",
        "version": 3
      },
      "file_extension": ".py",
      "mimetype": "text/x-python",
      "name": "python",
      "nbconvert_exporter": "python",
      "pygments_lexer": "ipython3",
      "version": "3.7.13"
    },
    "colab": {
      "provenance": [],
      "include_colab_link": true
    },
    "accelerator": "GPU",
    "gpuClass": "standard"
  },
  "nbformat": 4,
  "nbformat_minor": 0
}
