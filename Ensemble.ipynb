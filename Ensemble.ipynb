{
  "nbformat": 4,
  "nbformat_minor": 0,
  "metadata": {
    "colab": {
      "provenance": [],
      "authorship_tag": "ABX9TyOy+miK1NJA4iyoEEGJNiYl",
      "include_colab_link": true
    },
    "kernelspec": {
      "name": "python3",
      "display_name": "Python 3"
    },
    "language_info": {
      "name": "python"
    }
  },
  "cells": [
    {
      "cell_type": "markdown",
      "metadata": {
        "id": "view-in-github",
        "colab_type": "text"
      },
      "source": [
        "<a href=\"https://colab.research.google.com/github/zhh25/Titanic/blob/main/Ensemble.ipynb\" target=\"_parent\"><img src=\"https://colab.research.google.com/assets/colab-badge.svg\" alt=\"Open In Colab\"/></a>"
      ]
    },
    {
      "cell_type": "code",
      "execution_count": null,
      "metadata": {
        "colab": {
          "base_uri": "https://localhost:8080/"
        },
        "id": "klyIcRCa9LBM",
        "outputId": "a65809d7-c6b1-4477-d017-fe0f0607d7c1"
      },
      "outputs": [
        {
          "output_type": "stream",
          "name": "stdout",
          "text": [
            "Drive already mounted at /content/drive; to attempt to forcibly remount, call drive.mount(\"/content/drive\", force_remount=True).\n"
          ]
        }
      ],
      "source": [
        "from google.colab import drive\n",
        "drive.mount('/content/drive')"
      ]
    },
    {
      "cell_type": "code",
      "source": [
        "import pandas as pd\n",
        "import numpy as np\n",
        "import os\n",
        "path_root = '/content/drive/MyDrive/titanic'\n",
        "train = pd.read_csv(os.path.join(path_root, 'data/train.csv'))\n",
        "test =  pd.read_csv(os.path.join(path_root, 'data/test.csv'))\n",
        "sample_submission =  pd.read_csv(os.path.join(path_root, 'data/sample_submission.csv'))\n",
        "titanic = train.drop('Survived', axis = 1)\n",
        "titanic_label = train['Survived'].copy()"
      ],
      "metadata": {
        "id": "Ihesy_v_9f-C"
      },
      "execution_count": null,
      "outputs": []
    },
    {
      "cell_type": "markdown",
      "metadata": {
        "id": "hFm6MZf2JY6k"
      },
      "source": [
        "# Transformation Pipeline\n",
        "\n",
        "\n"
      ]
    },
    {
      "cell_type": "code",
      "execution_count": null,
      "metadata": {
        "colab": {
          "base_uri": "https://localhost:8080/"
        },
        "id": "WwpRdwJPsrhx",
        "outputId": "596612c8-c72a-4b46-e0d8-ba1826a28865"
      },
      "outputs": [
        {
          "output_type": "stream",
          "name": "stdout",
          "text": [
            "Drive already mounted at /content/drive; to attempt to forcibly remount, call drive.mount(\"/content/drive\", force_remount=True).\n"
          ]
        }
      ],
      "source": [
        "exec(open('/content/drive/MyDrive/Colab Notebooks/titanic_data_pipeline.py' ).read())\n"
      ]
    },
    {
      "cell_type": "markdown",
      "source": [
        "# XGBoost"
      ],
      "metadata": {
        "id": "aYnScC10S24x"
      }
    },
    {
      "cell_type": "code",
      "source": [
        "! pip install --upgrade xgboost\n",
        "import xgboost as xgb\n",
        "xgb.__version__"
      ],
      "metadata": {
        "id": "o3bBJJO39saW"
      },
      "execution_count": null,
      "outputs": []
    },
    {
      "cell_type": "code",
      "source": [
        "best_xgb = xgb.Booster()\n",
        "best_xgb.load_model(os.path.join(path_root, 'models/best_xgb.json'))"
      ],
      "metadata": {
        "id": "V00zyfOT9wjz"
      },
      "execution_count": null,
      "outputs": []
    },
    {
      "cell_type": "code",
      "source": [
        "test_prepared_xgb =  xgb.DMatrix(test_prepared)\n",
        "prob_xgb = best_xgb.predict(test_prepared_xgb) "
      ],
      "metadata": {
        "id": "FAH7ipGS-CjL"
      },
      "execution_count": null,
      "outputs": []
    },
    {
      "cell_type": "markdown",
      "source": [
        "# Neural Network"
      ],
      "metadata": {
        "id": "bemO7MKP-UNS"
      }
    },
    {
      "cell_type": "code",
      "source": [
        "import tensorflow as tf\n",
        "from tensorflow.keras import Sequential\n",
        "from tensorflow.keras.layers import Dense, Input, Dropout, BatchNormalization\n",
        "from tensorflow.keras.callbacks import EarlyStopping, ReduceLROnPlateau, ModelCheckpoint\n",
        "#! pip install keras_tuner\n",
        "# import keras_tuner as kt\n",
        "from tensorflow.keras.regularizers import l2"
      ],
      "metadata": {
        "id": "fgpVHxim-Spz"
      },
      "execution_count": null,
      "outputs": []
    },
    {
      "cell_type": "code",
      "source": [
        "best_nn = tf.keras.models.load_model(os.path.join(path_root, 'models/best_nn'))"
      ],
      "metadata": {
        "id": "qauz9rlJ-lqw"
      },
      "execution_count": null,
      "outputs": []
    },
    {
      "cell_type": "code",
      "source": [
        "prob_nn = best_nn.predict(test_prepared) "
      ],
      "metadata": {
        "id": "Pl9WMXZCDS7N"
      },
      "execution_count": null,
      "outputs": []
    },
    {
      "cell_type": "markdown",
      "source": [
        "# Random Forest"
      ],
      "metadata": {
        "id": "64bRhqsdOKHb"
      }
    },
    {
      "cell_type": "code",
      "source": [
        "from sklearn.ensemble import RandomForestClassifier\n",
        "\n",
        "import joblib"
      ],
      "metadata": {
        "id": "VoBVfLfoOMWx"
      },
      "execution_count": null,
      "outputs": []
    },
    {
      "cell_type": "code",
      "source": [
        "best_rf = joblib.load(os.path.join(path_root, 'models/best_rf.sav'))"
      ],
      "metadata": {
        "id": "oC7oCWBmOQqL"
      },
      "execution_count": null,
      "outputs": []
    },
    {
      "cell_type": "code",
      "source": [
        "prob_rf = best_rf.predict_proba(test_prepared)[:, 1]"
      ],
      "metadata": {
        "id": "ux_ToVW6PDTC"
      },
      "execution_count": null,
      "outputs": []
    },
    {
      "cell_type": "markdown",
      "source": [
        "# Ensemble"
      ],
      "metadata": {
        "id": "1paDa5eqPMaJ"
      }
    },
    {
      "cell_type": "code",
      "source": [
        "probs = np.concatenate((np.reshape(prob_xgb, (418, 1)), \n",
        "                prob_nn, \n",
        "                np.reshape(prob_rf, (418, 1))),\n",
        "                axis = 1\n",
        "               )"
      ],
      "metadata": {
        "id": "oefG2t76PFwX"
      },
      "execution_count": null,
      "outputs": []
    },
    {
      "cell_type": "code",
      "source": [
        "probs.mean(axis = 1)"
      ],
      "metadata": {
        "colab": {
          "base_uri": "https://localhost:8080/"
        },
        "id": "oftQsUjBPnZt",
        "outputId": "f5548b89-2a10-41c9-942c-f2b5a844c8e1"
      },
      "execution_count": null,
      "outputs": [
        {
          "output_type": "execute_result",
          "data": {
            "text/plain": [
              "array([0.08891816, 0.42362518, 0.12160552, 0.12913846, 0.54060752,\n",
              "       0.13883211, 0.53357327, 0.15008351, 0.69052859, 0.11533474,\n",
              "       0.13276709, 0.18555168, 0.92320954, 0.11616024, 0.88866428,\n",
              "       0.84771109, 0.12775572, 0.16531274, 0.43643621, 0.52146295,\n",
              "       0.23131407, 0.63094009, 0.8392084 , 0.30278775, 0.7327266 ,\n",
              "       0.08963205, 0.90970971, 0.16290349, 0.33683305, 0.15253576,\n",
              "       0.11870842, 0.13363124, 0.59115686, 0.51      , 0.44348022,\n",
              "       0.17231092, 0.43089454, 0.43526509, 0.1174192 , 0.37544953,\n",
              "       0.12526507, 0.54408031, 0.08565938, 0.79553618, 0.88869123,\n",
              "       0.13086107, 0.3263905 , 0.13463305, 0.85270613, 0.57131058,\n",
              "       0.36927538, 0.16101124, 0.75269648, 0.67722833, 0.16908194,\n",
              "       0.07141343, 0.07862449, 0.15508345, 0.12366427, 0.89949794,\n",
              "       0.11775408, 0.15827685, 0.11491529, 0.65334262, 0.55790969,\n",
              "       0.79305264, 0.67600987, 0.2296726 , 0.37638965, 0.67415812,\n",
              "       0.60162014, 0.10391125, 0.41919588, 0.51571389, 0.90759289,\n",
              "       0.45511536, 0.15426185, 0.76503181, 0.12885978, 0.60162014,\n",
              "       0.83361551, 0.32867444, 0.18279266, 0.13276709, 0.16168946,\n",
              "       0.13948871, 0.58828038, 0.46296347, 0.5176339 , 0.88126168,\n",
              "       0.54852106, 0.13573175, 0.88110417, 0.15426185, 0.24436332,\n",
              "       0.11748018, 0.80893302, 0.14230045, 0.54365867, 0.0998641 ,\n",
              "       0.89271829, 0.1400259 , 0.13463305, 0.1168559 , 0.6144998 ,\n",
              "       0.13575556, 0.13442484, 0.13463305, 0.14881343, 0.1874238 ,\n",
              "       0.14275074, 0.66540675, 0.84109786, 0.66111712, 0.85298596,\n",
              "       0.17835883, 0.12392092, 0.82096064, 0.40670389, 0.81442002,\n",
              "       0.82972861, 0.13841335, 0.90877561, 0.11492168, 0.13463305,\n",
              "       0.56524757, 0.10793768, 0.63069706, 0.12799368, 0.11449062,\n",
              "       0.15426185, 0.37070815, 0.2702266 , 0.12348267, 0.08603567,\n",
              "       0.105129  , 0.14070679, 0.1231765 , 0.42092761, 0.12398825,\n",
              "       0.10298595, 0.86725047, 0.33588452, 0.13739609, 0.31169851,\n",
              "       0.11463119, 0.46628771, 0.11356817, 0.33662862, 0.28416554,\n",
              "       0.92900203, 0.13133346, 0.10636331, 0.51909908, 0.08977228,\n",
              "       0.10367407, 0.91795888, 0.48512499, 0.50839366, 0.58667189,\n",
              "       0.65765021, 0.80992549, 0.74348924, 0.13442044, 0.19551805,\n",
              "       0.62055506, 0.30979636, 0.06779741, 0.81259912, 0.4282622 ,\n",
              "       0.12896186, 0.14112645, 0.10360682, 0.12775566, 0.09385294,\n",
              "       0.88400637, 0.85775701, 0.35806162, 0.82299598, 0.85120284,\n",
              "       0.12885978, 0.54136146, 0.93054558, 0.13463305, 0.9039246 ,\n",
              "       0.12305376, 0.80888948, 0.13968239, 0.12424857, 0.12447558,\n",
              "       0.11990229, 0.23537598, 0.5526825 , 0.12260954, 0.87148677,\n",
              "       0.08224909, 0.88560515, 0.56452965, 0.1090589 , 0.43569566,\n",
              "       0.60893944, 0.83742551, 0.57462407, 0.9130981 , 0.12092065,\n",
              "       0.23355421, 0.52249046, 0.10903777, 0.82886403, 0.10957308,\n",
              "       0.15767719, 0.13154615, 0.25759995, 0.72020196, 0.27820702,\n",
              "       0.29998245, 0.66564888, 0.24625741, 0.86682164, 0.15426185,\n",
              "       0.69893038, 0.11639977, 0.76434324, 0.11077527, 0.77966958,\n",
              "       0.50733865, 0.10759752, 0.66179039, 0.09652426, 0.12294207,\n",
              "       0.28259017, 0.83450225, 0.12919676, 0.13618032, 0.45911069,\n",
              "       0.10851447, 0.37792197, 0.16786601, 0.73706994, 0.89294624,\n",
              "       0.77323825, 0.81254257, 0.47827196, 0.13269315, 0.72559166,\n",
              "       0.46062252, 0.84062836, 0.1353315 , 0.81442002, 0.47816711,\n",
              "       0.91358149, 0.12764039, 0.48250423, 0.10003669, 0.10606457,\n",
              "       0.12896181, 0.13463305, 0.12761987, 0.76620715, 0.10684735,\n",
              "       0.08923099, 0.10583346, 0.83632259, 0.81378429, 0.14646202,\n",
              "       0.13276709, 0.16194195, 0.12896186, 0.43089454, 0.11633342,\n",
              "       0.35105378, 0.13463305, 0.9270335 , 0.60683496, 0.12476917,\n",
              "       0.78642106, 0.12395887, 0.12057697, 0.12783239, 0.11001818,\n",
              "       0.41870774, 0.83854161, 0.66179039, 0.67986407, 0.86420108,\n",
              "       0.07642556, 0.12891801, 0.36870296, 0.1752228 , 0.15426185,\n",
              "       0.28131385, 0.53178374, 0.12775566, 0.44957367, 0.10210205,\n",
              "       0.11253692, 0.92525994, 0.15253576, 0.28048763, 0.12207681,\n",
              "       0.13573175, 0.41134202, 0.11329241, 0.09951765, 0.66179039,\n",
              "       0.75806907, 0.3934807 , 0.78590614, 0.32253176, 0.43669192,\n",
              "       0.11415074, 0.16331558, 0.1289854 , 0.48900421, 0.87685589,\n",
              "       0.67779384, 0.38740015, 0.12161776, 0.12585907, 0.13419806,\n",
              "       0.1168559 , 0.20090939, 0.20288509, 0.31795378, 0.87951825,\n",
              "       0.10890401, 0.84501605, 0.28804035, 0.13734631, 0.11299543,\n",
              "       0.82816166, 0.36903105, 0.12476917, 0.64013156, 0.12246828,\n",
              "       0.26968102, 0.16083457, 0.10025677, 0.19981376, 0.69295909,\n",
              "       0.12373782, 0.12898938, 0.20565042, 0.88172217, 0.77315803,\n",
              "       0.612267  , 0.1231765 , 0.5521262 , 0.10887655, 0.79095771,\n",
              "       0.89500226, 0.1209206 , 0.25619127, 0.19771013, 0.83834149,\n",
              "       0.30712356, 0.81766934, 0.13253439, 0.13463305, 0.53438897,\n",
              "       0.09640128, 0.86741925, 0.83197885, 0.12913846, 0.92669972,\n",
              "       0.24280008, 0.13949189, 0.4789569 , 0.8595376 , 0.1567837 ,\n",
              "       0.12265343, 0.92025818, 0.13166509, 0.12905245, 0.85514164,\n",
              "       0.85984383, 0.4191808 , 0.11073185, 0.23259819, 0.13271257,\n",
              "       0.13463305, 0.13482318, 0.48002017, 0.59605611, 0.15958112,\n",
              "       0.80279087, 0.10698133, 0.12046191, 0.13398202, 0.15326822,\n",
              "       0.34347389, 0.87288656, 0.57929444, 0.11598262, 0.08156571,\n",
              "       0.92715278, 0.12297326, 0.86875392, 0.10413971, 0.13011879,\n",
              "       0.91373628, 0.11187193, 0.8772826 , 0.24892105, 0.48749713,\n",
              "       0.42214814, 0.11950957, 0.41576575, 0.65713726, 0.82058911,\n",
              "       0.66179039, 0.90268774, 0.43635879, 0.15426185, 0.87553994,\n",
              "       0.07661302, 0.15426181, 0.82941441])"
            ]
          },
          "metadata": {},
          "execution_count": 32
        }
      ]
    },
    {
      "cell_type": "code",
      "source": [
        "sample_submission['Survived'] = (probs.mean(axis = 1) >= 0.5)\n",
        "sample_submission['Survived'] = sample_submission['Survived'].astype('int8')\n",
        "sample_submission"
      ],
      "metadata": {
        "colab": {
          "base_uri": "https://localhost:8080/",
          "height": 424
        },
        "id": "mPsqctnyPsc_",
        "outputId": "0cfa067a-ce7a-4926-a57c-f2d7ec989d84"
      },
      "execution_count": null,
      "outputs": [
        {
          "output_type": "execute_result",
          "data": {
            "text/plain": [
              "     PassengerId  Survived\n",
              "0            892         0\n",
              "1            893         0\n",
              "2            894         0\n",
              "3            895         0\n",
              "4            896         1\n",
              "..           ...       ...\n",
              "413         1305         0\n",
              "414         1306         1\n",
              "415         1307         0\n",
              "416         1308         0\n",
              "417         1309         1\n",
              "\n",
              "[418 rows x 2 columns]"
            ],
            "text/html": [
              "\n",
              "  <div id=\"df-cf1f4cf0-b9e4-47eb-b050-df11f7ad7c64\">\n",
              "    <div class=\"colab-df-container\">\n",
              "      <div>\n",
              "<style scoped>\n",
              "    .dataframe tbody tr th:only-of-type {\n",
              "        vertical-align: middle;\n",
              "    }\n",
              "\n",
              "    .dataframe tbody tr th {\n",
              "        vertical-align: top;\n",
              "    }\n",
              "\n",
              "    .dataframe thead th {\n",
              "        text-align: right;\n",
              "    }\n",
              "</style>\n",
              "<table border=\"1\" class=\"dataframe\">\n",
              "  <thead>\n",
              "    <tr style=\"text-align: right;\">\n",
              "      <th></th>\n",
              "      <th>PassengerId</th>\n",
              "      <th>Survived</th>\n",
              "    </tr>\n",
              "  </thead>\n",
              "  <tbody>\n",
              "    <tr>\n",
              "      <th>0</th>\n",
              "      <td>892</td>\n",
              "      <td>0</td>\n",
              "    </tr>\n",
              "    <tr>\n",
              "      <th>1</th>\n",
              "      <td>893</td>\n",
              "      <td>0</td>\n",
              "    </tr>\n",
              "    <tr>\n",
              "      <th>2</th>\n",
              "      <td>894</td>\n",
              "      <td>0</td>\n",
              "    </tr>\n",
              "    <tr>\n",
              "      <th>3</th>\n",
              "      <td>895</td>\n",
              "      <td>0</td>\n",
              "    </tr>\n",
              "    <tr>\n",
              "      <th>4</th>\n",
              "      <td>896</td>\n",
              "      <td>1</td>\n",
              "    </tr>\n",
              "    <tr>\n",
              "      <th>...</th>\n",
              "      <td>...</td>\n",
              "      <td>...</td>\n",
              "    </tr>\n",
              "    <tr>\n",
              "      <th>413</th>\n",
              "      <td>1305</td>\n",
              "      <td>0</td>\n",
              "    </tr>\n",
              "    <tr>\n",
              "      <th>414</th>\n",
              "      <td>1306</td>\n",
              "      <td>1</td>\n",
              "    </tr>\n",
              "    <tr>\n",
              "      <th>415</th>\n",
              "      <td>1307</td>\n",
              "      <td>0</td>\n",
              "    </tr>\n",
              "    <tr>\n",
              "      <th>416</th>\n",
              "      <td>1308</td>\n",
              "      <td>0</td>\n",
              "    </tr>\n",
              "    <tr>\n",
              "      <th>417</th>\n",
              "      <td>1309</td>\n",
              "      <td>1</td>\n",
              "    </tr>\n",
              "  </tbody>\n",
              "</table>\n",
              "<p>418 rows × 2 columns</p>\n",
              "</div>\n",
              "      <button class=\"colab-df-convert\" onclick=\"convertToInteractive('df-cf1f4cf0-b9e4-47eb-b050-df11f7ad7c64')\"\n",
              "              title=\"Convert this dataframe to an interactive table.\"\n",
              "              style=\"display:none;\">\n",
              "        \n",
              "  <svg xmlns=\"http://www.w3.org/2000/svg\" height=\"24px\"viewBox=\"0 0 24 24\"\n",
              "       width=\"24px\">\n",
              "    <path d=\"M0 0h24v24H0V0z\" fill=\"none\"/>\n",
              "    <path d=\"M18.56 5.44l.94 2.06.94-2.06 2.06-.94-2.06-.94-.94-2.06-.94 2.06-2.06.94zm-11 1L8.5 8.5l.94-2.06 2.06-.94-2.06-.94L8.5 2.5l-.94 2.06-2.06.94zm10 10l.94 2.06.94-2.06 2.06-.94-2.06-.94-.94-2.06-.94 2.06-2.06.94z\"/><path d=\"M17.41 7.96l-1.37-1.37c-.4-.4-.92-.59-1.43-.59-.52 0-1.04.2-1.43.59L10.3 9.45l-7.72 7.72c-.78.78-.78 2.05 0 2.83L4 21.41c.39.39.9.59 1.41.59.51 0 1.02-.2 1.41-.59l7.78-7.78 2.81-2.81c.8-.78.8-2.07 0-2.86zM5.41 20L4 18.59l7.72-7.72 1.47 1.35L5.41 20z\"/>\n",
              "  </svg>\n",
              "      </button>\n",
              "      \n",
              "  <style>\n",
              "    .colab-df-container {\n",
              "      display:flex;\n",
              "      flex-wrap:wrap;\n",
              "      gap: 12px;\n",
              "    }\n",
              "\n",
              "    .colab-df-convert {\n",
              "      background-color: #E8F0FE;\n",
              "      border: none;\n",
              "      border-radius: 50%;\n",
              "      cursor: pointer;\n",
              "      display: none;\n",
              "      fill: #1967D2;\n",
              "      height: 32px;\n",
              "      padding: 0 0 0 0;\n",
              "      width: 32px;\n",
              "    }\n",
              "\n",
              "    .colab-df-convert:hover {\n",
              "      background-color: #E2EBFA;\n",
              "      box-shadow: 0px 1px 2px rgba(60, 64, 67, 0.3), 0px 1px 3px 1px rgba(60, 64, 67, 0.15);\n",
              "      fill: #174EA6;\n",
              "    }\n",
              "\n",
              "    [theme=dark] .colab-df-convert {\n",
              "      background-color: #3B4455;\n",
              "      fill: #D2E3FC;\n",
              "    }\n",
              "\n",
              "    [theme=dark] .colab-df-convert:hover {\n",
              "      background-color: #434B5C;\n",
              "      box-shadow: 0px 1px 3px 1px rgba(0, 0, 0, 0.15);\n",
              "      filter: drop-shadow(0px 1px 2px rgba(0, 0, 0, 0.3));\n",
              "      fill: #FFFFFF;\n",
              "    }\n",
              "  </style>\n",
              "\n",
              "      <script>\n",
              "        const buttonEl =\n",
              "          document.querySelector('#df-cf1f4cf0-b9e4-47eb-b050-df11f7ad7c64 button.colab-df-convert');\n",
              "        buttonEl.style.display =\n",
              "          google.colab.kernel.accessAllowed ? 'block' : 'none';\n",
              "\n",
              "        async function convertToInteractive(key) {\n",
              "          const element = document.querySelector('#df-cf1f4cf0-b9e4-47eb-b050-df11f7ad7c64');\n",
              "          const dataTable =\n",
              "            await google.colab.kernel.invokeFunction('convertToInteractive',\n",
              "                                                     [key], {});\n",
              "          if (!dataTable) return;\n",
              "\n",
              "          const docLinkHtml = 'Like what you see? Visit the ' +\n",
              "            '<a target=\"_blank\" href=https://colab.research.google.com/notebooks/data_table.ipynb>data table notebook</a>'\n",
              "            + ' to learn more about interactive tables.';\n",
              "          element.innerHTML = '';\n",
              "          dataTable['output_type'] = 'display_data';\n",
              "          await google.colab.output.renderOutput(dataTable, element);\n",
              "          const docLink = document.createElement('div');\n",
              "          docLink.innerHTML = docLinkHtml;\n",
              "          element.appendChild(docLink);\n",
              "        }\n",
              "      </script>\n",
              "    </div>\n",
              "  </div>\n",
              "  "
            ]
          },
          "metadata": {},
          "execution_count": 35
        }
      ]
    },
    {
      "cell_type": "code",
      "source": [
        "sample_submission.to_csv(os.path.join(path_root, 'submission/ensemble.csv'), index = False)"
      ],
      "metadata": {
        "id": "si8I8bbTQUCr"
      },
      "execution_count": null,
      "outputs": []
    }
  ]
}