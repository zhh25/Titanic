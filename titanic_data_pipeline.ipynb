{
  "cells": [
    {
      "cell_type": "markdown",
      "metadata": {
        "id": "view-in-github",
        "colab_type": "text"
      },
      "source": [
        "<a href=\"https://colab.research.google.com/github/zhh25/Titanic/blob/main/titanic_data_pipeline.ipynb\" target=\"_parent\"><img src=\"https://colab.research.google.com/assets/colab-badge.svg\" alt=\"Open In Colab\"/></a>"
      ]
    },
    {
      "cell_type": "code",
      "source": [
        "from google.colab import drive\n",
        "drive.mount('/content/drive')"
      ],
      "metadata": {
        "colab": {
          "base_uri": "https://localhost:8080/"
        },
        "id": "UcmWKWSmJgYV",
        "outputId": "7ae39361-4422-41e9-88be-657e944068cb"
      },
      "execution_count": null,
      "outputs": [
        {
          "output_type": "stream",
          "name": "stdout",
          "text": [
            "Mounted at /content/drive\n"
          ]
        }
      ]
    },
    {
      "cell_type": "code",
      "execution_count": null,
      "metadata": {
        "id": "_oQOV_W6JY6Y"
      },
      "outputs": [],
      "source": [
        "import pandas as pd\n",
        "import numpy as np\n",
        "import os\n",
        "import sklearn\n",
        "path_root = '/content/drive/MyDrive/titanic'\n",
        "train = pd.read_csv(os.path.join(path_root, 'data/train.csv'))\n",
        "test =  pd.read_csv(os.path.join(path_root, 'data/test.csv'))\n",
        "sample_submission =  pd.read_csv(os.path.join(path_root, 'data/sample_submission.csv'))\n",
        "titanic = train.drop('Survived', axis = 1)\n",
        "titanic_label = train['Survived'].copy()"
      ]
    },
    {
      "cell_type": "markdown",
      "metadata": {
        "id": "hFm6MZf2JY6k"
      },
      "source": [
        "# Transformation Pipeline\n",
        "\n",
        "\n"
      ]
    },
    {
      "cell_type": "code",
      "execution_count": null,
      "metadata": {
        "id": "0oqUcULSJY6o"
      },
      "outputs": [],
      "source": [
        "from sklearn.pipeline import Pipeline, FeatureUnion\n",
        "\n",
        "from sklearn.preprocessing import StandardScaler, Binarizer, OneHotEncoder, FunctionTransformer\n",
        "\n",
        "from sklearn.compose import ColumnTransformer\n",
        "\n",
        "from sklearn.experimental import enable_iterative_imputer\n",
        "\n",
        "from sklearn.impute import SimpleImputer, IterativeImputer"
      ]
    },
    {
      "cell_type": "markdown",
      "metadata": {
        "id": "BEdwo_X7JY6q"
      },
      "source": [
        "## Pipeline for individual atrribute"
      ]
    },
    {
      "cell_type": "markdown",
      "source": [
        "### Pipeline for Name\n"
      ],
      "metadata": {
        "id": "7u_lvWBBL2ii"
      }
    },
    {
      "cell_type": "code",
      "source": [
        "newtitles={\n",
        "    \"Capt\":       \"Officer\",\n",
        "    \"Col\":        \"Officer\",\n",
        "    \"Major\":      \"Officer\",\n",
        "    \"Jonkheer\":   \"Royalty\",\n",
        "    \"Don\":        \"Royalty\",\n",
        "    \"Sir\" :       \"Royalty\",\n",
        "    \"Dr\":         \"Officer\",\n",
        "    \"Rev\":        \"Officer\",\n",
        "    \"the Countess\":\"Royalty\",\n",
        "    \"Dona\":       \"Royalty\",\n",
        "    \"Mme\":        \"Mrs\",\n",
        "    \"Mlle\":       \"Miss\",\n",
        "    \"Ms\":         \"Mrs\",\n",
        "    \"Mr\" :        \"Mr\",\n",
        "    \"Mrs\" :       \"Mrs\",\n",
        "    \"Miss\" :      \"Miss\",\n",
        "    \"Master\" :    \"Master\",\n",
        "    \"Lady\" :      \"Royalty\"}"
      ],
      "metadata": {
        "id": "GDANzwWYvmII"
      },
      "execution_count": null,
      "outputs": []
    },
    {
      "cell_type": "code",
      "source": [
        "def name_title(x):\n",
        "    x = pd.DataFrame(x,columns=['Name'])\n",
        "    x['Title'] = x['Name'].str.split(', ', expand = True)[1].str.split('.', expand = True)[0]\n",
        "    x['Title'] = x['Title'].map(newtitles)\n",
        "    return x[['Title']]\n"
      ],
      "metadata": {
        "id": "AWZt_bDaMLfS"
      },
      "execution_count": null,
      "outputs": []
    },
    {
      "cell_type": "code",
      "source": [
        "pipeline_name = Pipeline([\n",
        "    ('title', FunctionTransformer(name_title)),\n",
        "    ('encode', OneHotEncoder())\n",
        "])"
      ],
      "metadata": {
        "id": "6VYUy_GfNvhQ"
      },
      "execution_count": null,
      "outputs": []
    },
    {
      "cell_type": "code",
      "source": [
        "pipeline_name.fit_transform(titanic['Name'])\n"
      ],
      "metadata": {
        "colab": {
          "base_uri": "https://localhost:8080/"
        },
        "id": "5g9SVqqUOKsI",
        "outputId": "4d968866-23e7-43ec-ccbb-e08484596b12"
      },
      "execution_count": null,
      "outputs": [
        {
          "output_type": "execute_result",
          "data": {
            "text/plain": [
              "<891x6 sparse matrix of type '<class 'numpy.float64'>'\n",
              "\twith 891 stored elements in Compressed Sparse Row format>"
            ]
          },
          "metadata": {},
          "execution_count": 11
        }
      ]
    },
    {
      "cell_type": "code",
      "source": [
        "cols_name = list (pipeline_name.named_steps['encode'].categories_[0])\n",
        "cols_name = ['name_'+col for col in cols_name]\n",
        "cols_name"
      ],
      "metadata": {
        "colab": {
          "base_uri": "https://localhost:8080/"
        },
        "id": "8Uq1RwgwxDQO",
        "outputId": "537cb333-eb18-4a4b-89a7-32e311a41911"
      },
      "execution_count": null,
      "outputs": [
        {
          "output_type": "execute_result",
          "data": {
            "text/plain": [
              "['name_Master',\n",
              " 'name_Miss',\n",
              " 'name_Mr',\n",
              " 'name_Mrs',\n",
              " 'name_Officer',\n",
              " 'name_Royalty']"
            ]
          },
          "metadata": {},
          "execution_count": 46
        }
      ]
    },
    {
      "cell_type": "markdown",
      "metadata": {
        "id": "Vs-vdQorJY6s"
      },
      "source": [
        "### pipeline for Age\n",
        "\n",
        "The following tranformer creates two atrributes using Age:\n",
        "    - if Age < 8.3\n",
        "    - if Age > 64.1"
      ]
    },
    {
      "cell_type": "code",
      "execution_count": null,
      "metadata": {
        "id": "cxYAmQ_vJY6u"
      },
      "outputs": [],
      "source": [
        "from sklearn.base import BaseEstimator, TransformerMixin"
      ]
    },
    {
      "cell_type": "code",
      "execution_count": null,
      "metadata": {
        "id": "pVVkLfZZJY6v"
      },
      "outputs": [],
      "source": [
        "#Age_ix, Name_ix = 0, 1\n",
        "class AdderAge(BaseEstimator, TransformerMixin):\n",
        "    def __init__(self, threshold_child = 15, threshold_senior = 48, drop_age = False):\n",
        "        self.threshold_child = threshold_child\n",
        "        self.threshold_senior = threshold_senior\n",
        "        self.drop_age = drop_age\n",
        "        \n",
        "    def fit(self, X, y = None):\n",
        "        #self.binarizer_child.fit(X)\n",
        "        #self.binarizer_senior.fit(X)\n",
        "        return self\n",
        "    \n",
        "    def transform(self, X, y= None):\n",
        "        Age_child = (X <= self.threshold_child)\n",
        "        Age_senior = (X > self.threshold_senior)\n",
        "        \n",
        "        if self.drop_age:\n",
        "            return np.c_[Age_child, Age_senior]\n",
        "        else:\n",
        "            return np.c_[X, Age_child, Age_senior]\n",
        "        "
      ]
    },
    {
      "cell_type": "markdown",
      "metadata": {
        "id": "FenBXfhCJY6y"
      },
      "source": [
        "the following pipline:\n",
        "*   Missing values in Age are filled with median age, but using median age of the whole data set is not a good choice. Median age of Pclass groups is the best choice because of its high correlation with Age (0.408106) and Survived (0.338481). \n",
        "*   create tow new attributes\n",
        "\n"
      ]
    },
    {
      "cell_type": "code",
      "execution_count": null,
      "metadata": {
        "id": "MfAvJfagJY6z"
      },
      "outputs": [],
      "source": [
        "\n",
        "\n",
        "pipeline_age = Pipeline([\n",
        "    ('title', FunctionTransformer(lambda x: pd.concat([x['Age'], name_title( x['Name'])], axis = 1) )),\n",
        "    ('imputer_age', FunctionTransformer(lambda x: x.groupby('Title')['Age'].apply(lambda x: x.fillna(x.mean())))),\n",
        "    ('adder_age', AdderAge(threshold_child = 8.3, threshold_senior = 64.1))\n",
        "])"
      ]
    },
    {
      "cell_type": "code",
      "execution_count": null,
      "metadata": {
        "colab": {
          "base_uri": "https://localhost:8080/"
        },
        "id": "KIEhgKZcJY60",
        "outputId": "b31bf3b0-12e9-4f97-ac5b-e097cb28691a"
      },
      "outputs": [
        {
          "output_type": "execute_result",
          "data": {
            "text/plain": [
              "array([[22.        ,  0.        ,  0.        ],\n",
              "       [38.        ,  0.        ,  0.        ],\n",
              "       [26.        ,  0.        ,  0.        ],\n",
              "       [35.        ,  0.        ,  0.        ],\n",
              "       [35.        ,  0.        ,  0.        ],\n",
              "       [32.36809045,  0.        ,  0.        ],\n",
              "       [54.        ,  0.        ,  0.        ],\n",
              "       [ 2.        ,  1.        ,  0.        ],\n",
              "       [27.        ,  0.        ,  0.        ],\n",
              "       [14.        ,  0.        ,  0.        ],\n",
              "       [ 4.        ,  1.        ,  0.        ],\n",
              "       [58.        ,  0.        ,  0.        ],\n",
              "       [20.        ,  0.        ,  0.        ],\n",
              "       [39.        ,  0.        ,  0.        ],\n",
              "       [14.        ,  0.        ,  0.        ],\n",
              "       [55.        ,  0.        ,  0.        ],\n",
              "       [ 2.        ,  1.        ,  0.        ],\n",
              "       [32.36809045,  0.        ,  0.        ],\n",
              "       [31.        ,  0.        ,  0.        ],\n",
              "       [35.71818182,  0.        ,  0.        ],\n",
              "       [35.        ,  0.        ,  0.        ],\n",
              "       [34.        ,  0.        ,  0.        ],\n",
              "       [15.        ,  0.        ,  0.        ],\n",
              "       [28.        ,  0.        ,  0.        ],\n",
              "       [ 8.        ,  1.        ,  0.        ],\n",
              "       [38.        ,  0.        ,  0.        ],\n",
              "       [32.36809045,  0.        ,  0.        ],\n",
              "       [19.        ,  0.        ,  0.        ],\n",
              "       [21.80405405,  0.        ,  0.        ],\n",
              "       [32.36809045,  0.        ,  0.        ]])"
            ]
          },
          "metadata": {},
          "execution_count": 22
        }
      ],
      "source": [
        "x = pipeline_age.fit_transform(titanic[['Age', 'Name']])\n",
        "x[:30,:]\n"
      ]
    },
    {
      "cell_type": "code",
      "source": [
        "cols_age = ['age', 'child', 'senior']"
      ],
      "metadata": {
        "id": "6r1jQAj56jar"
      },
      "execution_count": null,
      "outputs": []
    },
    {
      "cell_type": "markdown",
      "metadata": {
        "id": "grqtAhVkJY62"
      },
      "source": [
        "### Transformer SibSp and Parch"
      ]
    },
    {
      "cell_type": "code",
      "execution_count": null,
      "metadata": {
        "id": "7PEfYiSMJY63"
      },
      "outputs": [],
      "source": [
        "class AdderSibSpParch(BaseEstimator, TransformerMixin):\n",
        "    #def __init__(self):\n",
        "        \n",
        "    def fit(self, X, y=None):\n",
        "        return self\n",
        "        \n",
        "    def transform(self, X, y = None):\n",
        "        family = X['SibSp'] + X['Parch']\n",
        "        \n",
        "        Parch_recode = X['Parch'].replace(\n",
        "            to_replace = [0,1,2, 3, 4, 5, 6, 7, 8, 9,10,11,12,13],\n",
        "            value =      [0,1,1, 2, 2, 2, 2, 2, 2, 2, 2, 2, 2, 2]\n",
        "        )\n",
        "        \n",
        "        SibSp_recode = X['SibSp'].replace(\n",
        "            to_replace = [0,1,2, 3, 4, 5, 6, 7, 8, 9,10,11,12,13],\n",
        "            value =      [0,1,1,-1,-1,-1,-1,-1,-1,-1,-1,-1,-1,-1]\n",
        "        )\n",
        "        \n",
        "        family_recode = family.replace(\n",
        "            to_replace = [0,1,2,3, 4, 5, 6, 7, 8, 9,10,11,12,13],\n",
        "            value =      [0,1,1,1,-1,-1,-1,-1,-1,-1,-1,-1,-1,-1]\n",
        "        )\n",
        "        \n",
        "        return np.c_[family, Parch_recode, SibSp_recode, family_recode]"
      ]
    },
    {
      "cell_type": "code",
      "source": [
        "AdderSibSpParch().fit_transform(titanic[['SibSp', 'Parch']])"
      ],
      "metadata": {
        "colab": {
          "base_uri": "https://localhost:8080/"
        },
        "id": "N0Efubi489li",
        "outputId": "9afd4aa5-1321-498d-f041-1f5d31756a69"
      },
      "execution_count": null,
      "outputs": [
        {
          "output_type": "execute_result",
          "data": {
            "text/plain": [
              "array([[1, 0, 1, 1],\n",
              "       [1, 0, 1, 1],\n",
              "       [0, 0, 0, 0],\n",
              "       ...,\n",
              "       [3, 1, 1, 1],\n",
              "       [0, 0, 0, 0],\n",
              "       [0, 0, 0, 0]])"
            ]
          },
          "metadata": {},
          "execution_count": 25
        }
      ]
    },
    {
      "cell_type": "code",
      "source": [
        "cols_SibSp_Parch = ['family', 'Parch_recode', 'SibSp_recode', 'family_recode']"
      ],
      "metadata": {
        "id": "ZpxLgFmy9cns"
      },
      "execution_count": null,
      "outputs": []
    },
    {
      "cell_type": "markdown",
      "metadata": {
        "id": "DBDg1egOJY64"
      },
      "source": [
        "### Pipeline for Fare"
      ]
    },
    {
      "cell_type": "code",
      "execution_count": null,
      "metadata": {
        "id": "hdu2K1BNJY65"
      },
      "outputs": [],
      "source": [
        "pipeline_fare = Pipeline([\n",
        "    ('imputer', SimpleImputer(strategy='median')),\n",
        "    ('log', FunctionTransformer(func = np.log1p)),\n",
        "    ('standadize', StandardScaler())\n",
        "])"
      ]
    },
    {
      "cell_type": "code",
      "source": [
        "cols_fare = ['fare']"
      ],
      "metadata": {
        "id": "TivETmVI9uP8"
      },
      "execution_count": null,
      "outputs": []
    },
    {
      "cell_type": "markdown",
      "source": [
        "### Pipeline for Cabin"
      ],
      "metadata": {
        "id": "bkLQVH6YOcxO"
      }
    },
    {
      "cell_type": "code",
      "source": [
        "def cabin_group(x):\n",
        "    x = pd.DataFrame(x)\n",
        "    x.replace({'A' : 'ABC', 'B' : 'ABC', 'C' : 'ABC', \n",
        "               'D' : 'DE', 'E' : 'DE', \n",
        "               'F' : 'FG', 'G' : 'FG', \n",
        "               'M' : 'M', \n",
        "               'T' : 'ABC'},\n",
        "              inplace = True)\n",
        "    return x\n",
        "pipeline_cabin = Pipeline([\n",
        "    ('imputer', SimpleImputer(strategy='constant', fill_value='M')),\n",
        "    ('1st_letter', FunctionTransformer(lambda x: pd.DataFrame([s[0][0] for s in x]))),\n",
        "    ('group', FunctionTransformer(cabin_group)),\n",
        "    ('encoder', OneHotEncoder(drop='if_binary'))\n",
        "])"
      ],
      "metadata": {
        "id": "EOwFcNKjObQK"
      },
      "execution_count": null,
      "outputs": []
    },
    {
      "cell_type": "code",
      "source": [
        "#temp = train.copy()\n",
        "#temp['Cabin'] = pipeline_cabin.fit_transform(titanic[['Cabin']])\n",
        "#temp.groupby('Cabin')['Survived'].agg(['mean', 'count'])\n",
        "pipeline_cabin.fit_transform(titanic[['Cabin']])"
      ],
      "metadata": {
        "colab": {
          "base_uri": "https://localhost:8080/"
        },
        "id": "a_9qcdKrQNlv",
        "outputId": "a3b28fbb-612b-4a22-ffee-635f9b222bbd"
      },
      "execution_count": null,
      "outputs": [
        {
          "output_type": "execute_result",
          "data": {
            "text/plain": [
              "<891x4 sparse matrix of type '<class 'numpy.float64'>'\n",
              "\twith 891 stored elements in Compressed Sparse Row format>"
            ]
          },
          "metadata": {},
          "execution_count": 30
        }
      ]
    },
    {
      "cell_type": "code",
      "source": [
        "cols_cabin = list(pipeline_cabin.named_steps['encoder'].categories_[0])\n",
        "cols_cabin = ['cabin_'+col for col in cols_cabin]\n",
        "cols_cabin"
      ],
      "metadata": {
        "colab": {
          "base_uri": "https://localhost:8080/"
        },
        "id": "B7twYJyX94mx",
        "outputId": "deacf76c-74fb-4a19-b28d-39c8efd70d94"
      },
      "execution_count": null,
      "outputs": [
        {
          "output_type": "execute_result",
          "data": {
            "text/plain": [
              "['cabin_ABC', 'cabin_DE', 'cabin_FG', 'cabin_M']"
            ]
          },
          "metadata": {},
          "execution_count": 45
        }
      ]
    },
    {
      "cell_type": "markdown",
      "metadata": {
        "id": "W42LiSkdJY66"
      },
      "source": [
        "\n",
        "### Pipeline for Embarked"
      ]
    },
    {
      "cell_type": "code",
      "execution_count": null,
      "metadata": {
        "id": "iwRRBoUMJY67"
      },
      "outputs": [],
      "source": [
        "pipeline_embarked = Pipeline([\n",
        "    ('imputer', SimpleImputer(strategy = 'most_frequent')),\n",
        "    ('1hot', OneHotEncoder())\n",
        "])"
      ]
    },
    {
      "cell_type": "code",
      "execution_count": null,
      "metadata": {
        "colab": {
          "base_uri": "https://localhost:8080/"
        },
        "id": "xbZhju6fJY68",
        "outputId": "f38e1d43-46ce-4634-f95d-a68a19f21436"
      },
      "outputs": [
        {
          "output_type": "execute_result",
          "data": {
            "text/plain": [
              "<891x3 sparse matrix of type '<class 'numpy.float64'>'\n",
              "\twith 891 stored elements in Compressed Sparse Row format>"
            ]
          },
          "metadata": {},
          "execution_count": 36
        }
      ],
      "source": [
        "pipeline_embarked.fit_transform(titanic[['Embarked']])"
      ]
    },
    {
      "cell_type": "code",
      "source": [
        "cols_embarked = list(pipeline_embarked.named_steps['1hot'].categories_[0])\n",
        "cols_embarked = ['embarled_' + col for col in cols_embarked]\n",
        "cols_embarked"
      ],
      "metadata": {
        "colab": {
          "base_uri": "https://localhost:8080/"
        },
        "id": "Ut1gHveC-m8r",
        "outputId": "26ed0cea-2d89-47e9-9652-50863cbb9b1e"
      },
      "execution_count": null,
      "outputs": [
        {
          "output_type": "execute_result",
          "data": {
            "text/plain": [
              "['embarled_C', 'embarled_Q', 'embarled_S']"
            ]
          },
          "metadata": {},
          "execution_count": 44
        }
      ]
    },
    {
      "cell_type": "markdown",
      "source": [
        "### Pipeline for Ticket"
      ],
      "metadata": {
        "id": "lqcF7tV7-0xb"
      }
    },
    {
      "cell_type": "markdown",
      "source": [
        "How is this feature different than Family_Size? Many passengers travelled along with groups. Those groups consist of friends, nannies, maids and etc. They weren't counted as family, but they used the same ticket."
      ],
      "metadata": {
        "id": "JHsowKPnHgak"
      }
    },
    {
      "cell_type": "code",
      "source": [
        "titanic_all = pd.concat([titanic, test], ignore_index = True)\n",
        "ticket_counts = dict(titanic_all['Ticket'].value_counts())\n",
        "\n",
        "pipeline_ticket = Pipeline([\n",
        "    ('count', FunctionTransformer(lambda x: pd.DataFrame(x).replace(ticket_counts)))\n",
        "])"
      ],
      "metadata": {
        "id": "zP4L9hFaI_h3"
      },
      "execution_count": null,
      "outputs": []
    },
    {
      "cell_type": "code",
      "source": [
        "pipeline_ticket.fit_transform(titanic['Ticket'])"
      ],
      "metadata": {
        "colab": {
          "base_uri": "https://localhost:8080/",
          "height": 424
        },
        "id": "DZPcu8ZZKpIB",
        "outputId": "76bbdab1-88b2-44f2-c3e5-189fd9855c58"
      },
      "execution_count": null,
      "outputs": [
        {
          "output_type": "execute_result",
          "data": {
            "text/plain": [
              "     Ticket\n",
              "0         1\n",
              "1         2\n",
              "2         1\n",
              "3         2\n",
              "4         1\n",
              "..      ...\n",
              "886       1\n",
              "887       1\n",
              "888       4\n",
              "889       1\n",
              "890       1\n",
              "\n",
              "[891 rows x 1 columns]"
            ],
            "text/html": [
              "\n",
              "  <div id=\"df-e764d16d-957b-4317-8eee-f41c9eeeac43\">\n",
              "    <div class=\"colab-df-container\">\n",
              "      <div>\n",
              "<style scoped>\n",
              "    .dataframe tbody tr th:only-of-type {\n",
              "        vertical-align: middle;\n",
              "    }\n",
              "\n",
              "    .dataframe tbody tr th {\n",
              "        vertical-align: top;\n",
              "    }\n",
              "\n",
              "    .dataframe thead th {\n",
              "        text-align: right;\n",
              "    }\n",
              "</style>\n",
              "<table border=\"1\" class=\"dataframe\">\n",
              "  <thead>\n",
              "    <tr style=\"text-align: right;\">\n",
              "      <th></th>\n",
              "      <th>Ticket</th>\n",
              "    </tr>\n",
              "  </thead>\n",
              "  <tbody>\n",
              "    <tr>\n",
              "      <th>0</th>\n",
              "      <td>1</td>\n",
              "    </tr>\n",
              "    <tr>\n",
              "      <th>1</th>\n",
              "      <td>2</td>\n",
              "    </tr>\n",
              "    <tr>\n",
              "      <th>2</th>\n",
              "      <td>1</td>\n",
              "    </tr>\n",
              "    <tr>\n",
              "      <th>3</th>\n",
              "      <td>2</td>\n",
              "    </tr>\n",
              "    <tr>\n",
              "      <th>4</th>\n",
              "      <td>1</td>\n",
              "    </tr>\n",
              "    <tr>\n",
              "      <th>...</th>\n",
              "      <td>...</td>\n",
              "    </tr>\n",
              "    <tr>\n",
              "      <th>886</th>\n",
              "      <td>1</td>\n",
              "    </tr>\n",
              "    <tr>\n",
              "      <th>887</th>\n",
              "      <td>1</td>\n",
              "    </tr>\n",
              "    <tr>\n",
              "      <th>888</th>\n",
              "      <td>4</td>\n",
              "    </tr>\n",
              "    <tr>\n",
              "      <th>889</th>\n",
              "      <td>1</td>\n",
              "    </tr>\n",
              "    <tr>\n",
              "      <th>890</th>\n",
              "      <td>1</td>\n",
              "    </tr>\n",
              "  </tbody>\n",
              "</table>\n",
              "<p>891 rows × 1 columns</p>\n",
              "</div>\n",
              "      <button class=\"colab-df-convert\" onclick=\"convertToInteractive('df-e764d16d-957b-4317-8eee-f41c9eeeac43')\"\n",
              "              title=\"Convert this dataframe to an interactive table.\"\n",
              "              style=\"display:none;\">\n",
              "        \n",
              "  <svg xmlns=\"http://www.w3.org/2000/svg\" height=\"24px\"viewBox=\"0 0 24 24\"\n",
              "       width=\"24px\">\n",
              "    <path d=\"M0 0h24v24H0V0z\" fill=\"none\"/>\n",
              "    <path d=\"M18.56 5.44l.94 2.06.94-2.06 2.06-.94-2.06-.94-.94-2.06-.94 2.06-2.06.94zm-11 1L8.5 8.5l.94-2.06 2.06-.94-2.06-.94L8.5 2.5l-.94 2.06-2.06.94zm10 10l.94 2.06.94-2.06 2.06-.94-2.06-.94-.94-2.06-.94 2.06-2.06.94z\"/><path d=\"M17.41 7.96l-1.37-1.37c-.4-.4-.92-.59-1.43-.59-.52 0-1.04.2-1.43.59L10.3 9.45l-7.72 7.72c-.78.78-.78 2.05 0 2.83L4 21.41c.39.39.9.59 1.41.59.51 0 1.02-.2 1.41-.59l7.78-7.78 2.81-2.81c.8-.78.8-2.07 0-2.86zM5.41 20L4 18.59l7.72-7.72 1.47 1.35L5.41 20z\"/>\n",
              "  </svg>\n",
              "      </button>\n",
              "      \n",
              "  <style>\n",
              "    .colab-df-container {\n",
              "      display:flex;\n",
              "      flex-wrap:wrap;\n",
              "      gap: 12px;\n",
              "    }\n",
              "\n",
              "    .colab-df-convert {\n",
              "      background-color: #E8F0FE;\n",
              "      border: none;\n",
              "      border-radius: 50%;\n",
              "      cursor: pointer;\n",
              "      display: none;\n",
              "      fill: #1967D2;\n",
              "      height: 32px;\n",
              "      padding: 0 0 0 0;\n",
              "      width: 32px;\n",
              "    }\n",
              "\n",
              "    .colab-df-convert:hover {\n",
              "      background-color: #E2EBFA;\n",
              "      box-shadow: 0px 1px 2px rgba(60, 64, 67, 0.3), 0px 1px 3px 1px rgba(60, 64, 67, 0.15);\n",
              "      fill: #174EA6;\n",
              "    }\n",
              "\n",
              "    [theme=dark] .colab-df-convert {\n",
              "      background-color: #3B4455;\n",
              "      fill: #D2E3FC;\n",
              "    }\n",
              "\n",
              "    [theme=dark] .colab-df-convert:hover {\n",
              "      background-color: #434B5C;\n",
              "      box-shadow: 0px 1px 3px 1px rgba(0, 0, 0, 0.15);\n",
              "      filter: drop-shadow(0px 1px 2px rgba(0, 0, 0, 0.3));\n",
              "      fill: #FFFFFF;\n",
              "    }\n",
              "  </style>\n",
              "\n",
              "      <script>\n",
              "        const buttonEl =\n",
              "          document.querySelector('#df-e764d16d-957b-4317-8eee-f41c9eeeac43 button.colab-df-convert');\n",
              "        buttonEl.style.display =\n",
              "          google.colab.kernel.accessAllowed ? 'block' : 'none';\n",
              "\n",
              "        async function convertToInteractive(key) {\n",
              "          const element = document.querySelector('#df-e764d16d-957b-4317-8eee-f41c9eeeac43');\n",
              "          const dataTable =\n",
              "            await google.colab.kernel.invokeFunction('convertToInteractive',\n",
              "                                                     [key], {});\n",
              "          if (!dataTable) return;\n",
              "\n",
              "          const docLinkHtml = 'Like what you see? Visit the ' +\n",
              "            '<a target=\"_blank\" href=https://colab.research.google.com/notebooks/data_table.ipynb>data table notebook</a>'\n",
              "            + ' to learn more about interactive tables.';\n",
              "          element.innerHTML = '';\n",
              "          dataTable['output_type'] = 'display_data';\n",
              "          await google.colab.output.renderOutput(dataTable, element);\n",
              "          const docLink = document.createElement('div');\n",
              "          docLink.innerHTML = docLinkHtml;\n",
              "          element.appendChild(docLink);\n",
              "        }\n",
              "      </script>\n",
              "    </div>\n",
              "  </div>\n",
              "  "
            ]
          },
          "metadata": {},
          "execution_count": 48
        }
      ]
    },
    {
      "cell_type": "code",
      "source": [
        "cols_ticket = ['ticket']"
      ],
      "metadata": {
        "id": "In99wx21ANoV"
      },
      "execution_count": null,
      "outputs": []
    },
    {
      "cell_type": "markdown",
      "metadata": {
        "id": "VQ5LUjlWJY69"
      },
      "source": [
        "## Full Pipeline for whole dataset"
      ]
    },
    {
      "cell_type": "code",
      "execution_count": null,
      "metadata": {
        "id": "BHyMseDQJY6-"
      },
      "outputs": [],
      "source": [
        "attribs_drop = ['PassengerId']\n",
        "attribs_pass = ['SibSp', 'Parch', 'Pclass']"
      ]
    },
    {
      "cell_type": "code",
      "execution_count": null,
      "metadata": {
        "id": "WUM93EBuJY6_"
      },
      "outputs": [],
      "source": [
        "full_pipeline = ColumnTransformer([\n",
        "    ('drop', 'drop', attribs_drop),\n",
        "    ('pass', 'passthrough', attribs_pass),\n",
        "    ('sex_1hot', OneHotEncoder(drop = 'if_binary'), ['Sex']),\n",
        "    ('age', pipeline_age, ['Age', 'Name']),\n",
        "    ('family', AdderSibSpParch(), ['SibSp', 'Parch']),\n",
        "    ('fare', pipeline_fare, ['Fare']),\n",
        "    ('cabin', pipeline_cabin, ['Cabin']),\n",
        "    ('embarked_1hot', pipeline_embarked, ['Embarked']),\n",
        "    ('ticket_count', pipeline_ticket, ['Ticket']),\n",
        "    ('title', pipeline_name, ['Name'])\n",
        "    \n",
        "])"
      ]
    },
    {
      "cell_type": "code",
      "execution_count": null,
      "metadata": {
        "id": "iJ7ush_8JY6_"
      },
      "outputs": [],
      "source": [
        "titanic_prepared = full_pipeline.fit_transform(titanic)\n",
        "test_prepared = full_pipeline.transform(test)"
      ]
    },
    {
      "cell_type": "code",
      "source": [
        "titanic_prepared.shape"
      ],
      "metadata": {
        "colab": {
          "base_uri": "https://localhost:8080/"
        },
        "id": "qrTDVvx6xYNp",
        "outputId": "ea1f4132-7516-4274-823f-48ba52a22bab"
      },
      "execution_count": null,
      "outputs": [
        {
          "output_type": "execute_result",
          "data": {
            "text/plain": [
              "(891, 26)"
            ]
          },
          "metadata": {},
          "execution_count": 57
        }
      ]
    },
    {
      "cell_type": "code",
      "source": [
        "def attribs_names():\n",
        "    cols_full = attribs_pass + ['sex'] + cols_age + cols_SibSp_Parch + cols_fare + cols_cabin + cols_embarked + cols_ticket + cols_name\n",
        "    return cols_full"
      ],
      "metadata": {
        "id": "5c-lCJDWf21d"
      },
      "execution_count": null,
      "outputs": []
    },
    {
      "cell_type": "code",
      "source": [
        "attribs_names()"
      ],
      "metadata": {
        "id": "mA7F5CnJCD0J",
        "colab": {
          "base_uri": "https://localhost:8080/"
        },
        "outputId": "c53947ac-6c22-4991-8a20-05f0e8a9e510"
      },
      "execution_count": null,
      "outputs": [
        {
          "output_type": "execute_result",
          "data": {
            "text/plain": [
              "['SibSp',\n",
              " 'Parch',\n",
              " 'Pclass',\n",
              " 'sex',\n",
              " 'age',\n",
              " 'child',\n",
              " 'senior',\n",
              " 'family',\n",
              " 'Parch_recode',\n",
              " 'SibSp_recode',\n",
              " 'family_recode',\n",
              " 'fare',\n",
              " 'cabin_ABC',\n",
              " 'cabin_DE',\n",
              " 'cabin_FG',\n",
              " 'cabin_M',\n",
              " 'embarled_C',\n",
              " 'embarled_Q',\n",
              " 'embarled_S',\n",
              " 'ticket',\n",
              " 'name_Master',\n",
              " 'name_Miss',\n",
              " 'name_Mr',\n",
              " 'name_Mrs',\n",
              " 'name_Officer',\n",
              " 'name_Royalty']"
            ]
          },
          "metadata": {},
          "execution_count": 61
        }
      ]
    },
    {
      "cell_type": "code",
      "source": [],
      "metadata": {
        "id": "elmj43xrEIMp"
      },
      "execution_count": null,
      "outputs": []
    }
  ],
  "metadata": {
    "kernelspec": {
      "display_name": "Python 3",
      "language": "python",
      "name": "python3"
    },
    "language_info": {
      "codemirror_mode": {
        "name": "ipython",
        "version": 3
      },
      "file_extension": ".py",
      "mimetype": "text/x-python",
      "name": "python",
      "nbconvert_exporter": "python",
      "pygments_lexer": "ipython3",
      "version": "3.7.13"
    },
    "colab": {
      "provenance": [],
      "include_colab_link": true
    },
    "gpuClass": "standard"
  },
  "nbformat": 4,
  "nbformat_minor": 0
}