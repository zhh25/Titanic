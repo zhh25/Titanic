{
  "cells": [
    {
      "cell_type": "markdown",
      "metadata": {
        "id": "view-in-github",
        "colab_type": "text"
      },
      "source": [
        "<a href=\"https://colab.research.google.com/github/zhh25/Titanic/blob/main/Fine_Tune_Random_Forest.ipynb\" target=\"_parent\"><img src=\"https://colab.research.google.com/assets/colab-badge.svg\" alt=\"Open In Colab\"/></a>"
      ]
    },
    {
      "cell_type": "code",
      "execution_count": null,
      "metadata": {
        "colab": {
          "base_uri": "https://localhost:8080/"
        },
        "id": "UcmWKWSmJgYV",
        "outputId": "a2c951a1-405f-49d7-e9e5-a6c52f4e0ce2"
      },
      "outputs": [
        {
          "output_type": "stream",
          "name": "stdout",
          "text": [
            "Mounted at /content/drive\n"
          ]
        }
      ],
      "source": [
        "from google.colab import drive\n",
        "drive.mount('/content/drive')"
      ]
    },
    {
      "cell_type": "code",
      "execution_count": null,
      "metadata": {
        "id": "_oQOV_W6JY6Y"
      },
      "outputs": [],
      "source": [
        "import pandas as pd\n",
        "import numpy as np\n",
        "import os\n",
        "path_root = '/content/drive/MyDrive/titanic'\n",
        "train = pd.read_csv(os.path.join(path_root, 'data/train.csv'))\n",
        "test =  pd.read_csv(os.path.join(path_root, 'data/test.csv'))\n",
        "sample_submission =  pd.read_csv(os.path.join(path_root, 'data/sample_submission.csv'))\n",
        "titanic = train.drop('Survived', axis = 1)\n",
        "titanic_label = train['Survived'].copy()"
      ]
    },
    {
      "cell_type": "markdown",
      "metadata": {
        "id": "hFm6MZf2JY6k"
      },
      "source": [
        "# Transformation Pipeline\n",
        "\n",
        "\n"
      ]
    },
    {
      "cell_type": "code",
      "execution_count": null,
      "metadata": {
        "colab": {
          "base_uri": "https://localhost:8080/"
        },
        "id": "WwpRdwJPsrhx",
        "outputId": "819c5b89-66e4-4c0e-8cad-934fe751eb38"
      },
      "outputs": [
        {
          "output_type": "stream",
          "name": "stdout",
          "text": [
            "Drive already mounted at /content/drive; to attempt to forcibly remount, call drive.mount(\"/content/drive\", force_remount=True).\n"
          ]
        }
      ],
      "source": [
        "exec(open('/content/drive/MyDrive/Colab Notebooks/titanic_data_pipeline.py' ).read())\n"
      ]
    },
    {
      "cell_type": "code",
      "execution_count": null,
      "metadata": {
        "id": "iJ7ush_8JY6_"
      },
      "outputs": [],
      "source": [
        "titanic_prepared = full_pipeline.fit_transform(titanic)\n",
        "test_prepared = full_pipeline.transform(test)"
      ]
    },
    {
      "cell_type": "code",
      "execution_count": null,
      "metadata": {
        "id": "XKXu6EMdi9Jb"
      },
      "outputs": [],
      "source": [
        "from sklearn.model_selection import train_test_split\n",
        "\n",
        "X_train, X_val, y_train, y_val = train_test_split(titanic_prepared, titanic_label, test_size = 0.25,  )"
      ]
    },
    {
      "cell_type": "code",
      "source": [
        "cols_full = attribs_names()"
      ],
      "metadata": {
        "id": "c-vv1SOJCqU9"
      },
      "execution_count": null,
      "outputs": []
    },
    {
      "cell_type": "markdown",
      "source": [
        "# RandomizedSearchCV"
      ],
      "metadata": {
        "id": "3yns-G5picMx"
      }
    },
    {
      "cell_type": "code",
      "source": [
        "from sklearn.model_selection import RandomizedSearchCV"
      ],
      "metadata": {
        "id": "D9kJOmqxibdA"
      },
      "execution_count": null,
      "outputs": []
    },
    {
      "cell_type": "code",
      "source": [
        "random_grid = {'n_estimators': [int(x) for x in np.linspace(50, 500, num = 10)],\n",
        "               'max_depth': [int(x) for x in np.linspace(5, 20 , num = 5)],\n",
        "               'min_samples_split': [2,5,10, 15, 20],\n",
        "               'min_samples_leaf': [1,2,4]\n",
        "               }"
      ],
      "metadata": {
        "id": "J-llHDJ3uAQ-"
      },
      "execution_count": null,
      "outputs": []
    },
    {
      "cell_type": "code",
      "source": [
        "from pprint import pprint\n",
        "pprint(random_grid)"
      ],
      "metadata": {
        "colab": {
          "base_uri": "https://localhost:8080/"
        },
        "id": "m5_KmEMuuALh",
        "outputId": "6d9ab588-36f4-44d7-82d3-b1d8e4e4a873"
      },
      "execution_count": null,
      "outputs": [
        {
          "output_type": "stream",
          "name": "stdout",
          "text": [
            "{'max_depth': [5, 8, 12, 16, 20],\n",
            " 'min_samples_leaf': [1, 2, 4],\n",
            " 'min_samples_split': [2, 5, 10, 15, 20],\n",
            " 'n_estimators': [50, 100, 150, 200, 250, 300, 350, 400, 450, 500]}\n"
          ]
        }
      ]
    },
    {
      "cell_type": "code",
      "source": [
        "from sklearn.ensemble import RandomForestClassifier"
      ],
      "metadata": {
        "id": "L7HZ2ADu15Hh"
      },
      "execution_count": null,
      "outputs": []
    },
    {
      "cell_type": "code",
      "source": [
        "rf_tuner = RandomizedSearchCV(estimator = RandomForestClassifier(),\n",
        "                              param_distributions = random_grid,\n",
        "                              n_iter=50,\n",
        "                              cv = 4,\n",
        "                              verbose = 1,\n",
        "                              random_state = 25,\n",
        "                              n_jobs = -1\n",
        "                              )"
      ],
      "metadata": {
        "id": "25HsFCkFt_6U"
      },
      "execution_count": null,
      "outputs": []
    },
    {
      "cell_type": "code",
      "source": [
        "rf_tuner.fit(titanic_prepared, titanic_label)"
      ],
      "metadata": {
        "colab": {
          "base_uri": "https://localhost:8080/"
        },
        "id": "kxbqv6qvyJLZ",
        "outputId": "cb48d40b-b901-4fbf-c2b4-36df724bc7a5"
      },
      "execution_count": null,
      "outputs": [
        {
          "output_type": "stream",
          "name": "stdout",
          "text": [
            "Fitting 4 folds for each of 50 candidates, totalling 200 fits\n"
          ]
        },
        {
          "output_type": "execute_result",
          "data": {
            "text/plain": [
              "RandomizedSearchCV(cv=4, estimator=RandomForestClassifier(), n_iter=50,\n",
              "                   n_jobs=-1,\n",
              "                   param_distributions={'max_depth': [5, 8, 12, 16, 20],\n",
              "                                        'min_samples_leaf': [1, 2, 4],\n",
              "                                        'min_samples_split': [2, 5, 10, 15, 20],\n",
              "                                        'n_estimators': [50, 100, 150, 200, 250,\n",
              "                                                         300, 350, 400, 450,\n",
              "                                                         500]},\n",
              "                   random_state=25, verbose=1)"
            ]
          },
          "metadata": {},
          "execution_count": 35
        }
      ]
    },
    {
      "cell_type": "code",
      "source": [
        "rf_tuner.best_params_"
      ],
      "metadata": {
        "colab": {
          "base_uri": "https://localhost:8080/"
        },
        "id": "yla9vqd92nyq",
        "outputId": "32353577-5026-4c7a-fa9d-5e3e13558bf4"
      },
      "execution_count": null,
      "outputs": [
        {
          "output_type": "execute_result",
          "data": {
            "text/plain": [
              "{'max_depth': 16,\n",
              " 'min_samples_leaf': 4,\n",
              " 'min_samples_split': 10,\n",
              " 'n_estimators': 400}"
            ]
          },
          "metadata": {},
          "execution_count": 36
        }
      ]
    },
    {
      "cell_type": "code",
      "source": [
        "rf_tuner.best_score_"
      ],
      "metadata": {
        "colab": {
          "base_uri": "https://localhost:8080/"
        },
        "id": "q-qgHk8j2xyL",
        "outputId": "8cda6f72-ac37-46d8-e64c-45069c268cfd"
      },
      "execution_count": null,
      "outputs": [
        {
          "output_type": "execute_result",
          "data": {
            "text/plain": [
              "0.8395043025087867"
            ]
          },
          "metadata": {},
          "execution_count": 37
        }
      ]
    },
    {
      "cell_type": "code",
      "source": [
        "best_model = rf_tuner.best_estimator_"
      ],
      "metadata": {
        "id": "s0kVJUJh3aXW"
      },
      "execution_count": null,
      "outputs": []
    },
    {
      "cell_type": "code",
      "source": [
        "sorted(zip(best_model.feature_importances_, cols_full), reverse = True)"
      ],
      "metadata": {
        "colab": {
          "base_uri": "https://localhost:8080/"
        },
        "id": "rq5rF_9m5_0a",
        "outputId": "e7e54ec9-3257-4ee1-e066-df4f434d6e66"
      },
      "execution_count": null,
      "outputs": [
        {
          "output_type": "execute_result",
          "data": {
            "text/plain": [
              "[(0.18373455240566713, 'sex'),\n",
              " (0.17869685190852802, 'name_Mr'),\n",
              " (0.0993909751819813, 'fare'),\n",
              " (0.0750189557392328, 'Pclass'),\n",
              " (0.07197110141391912, 'age'),\n",
              " (0.062016499421002305, 'name_Miss'),\n",
              " (0.05204222100125977, 'name_Mrs'),\n",
              " (0.04405802000007865, 'ticket'),\n",
              " (0.043116177892985795, 'cabin_M'),\n",
              " (0.03502802644813525, 'family_recode'),\n",
              " (0.030173917324005175, 'family'),\n",
              " (0.01685953437629001, 'SibSp_recode'),\n",
              " (0.016665299618217215, 'SibSp'),\n",
              " (0.014292376646287885, 'cabin_DE'),\n",
              " (0.012384749107535885, 'child'),\n",
              " (0.010910072938241838, 'embarled_S'),\n",
              " (0.010194772056646697, 'name_Master'),\n",
              " (0.009535899876326784, 'Parch'),\n",
              " (0.008412957024209468, 'cabin_ABC'),\n",
              " (0.007706622140632968, 'embarled_C'),\n",
              " (0.0066688694657283665, 'Parch_recode'),\n",
              " (0.005982221930233715, 'name_Officer'),\n",
              " (0.004555833618918662, 'embarled_Q'),\n",
              " (0.0004241826414538924, 'cabin_FG'),\n",
              " (0.00011926601188817236, 'senior'),\n",
              " (4.0043810593299354e-05, 'name_Royalty')]"
            ]
          },
          "metadata": {},
          "execution_count": 39
        }
      ]
    },
    {
      "cell_type": "markdown",
      "metadata": {
        "id": "x9Xfomkkk_Gp"
      },
      "source": [
        "## Predict"
      ]
    },
    {
      "cell_type": "code",
      "execution_count": null,
      "metadata": {
        "id": "0oQrSM85e0Nk"
      },
      "outputs": [],
      "source": [
        "test_prob = best_model.predict(test_prepared)"
      ]
    },
    {
      "cell_type": "code",
      "execution_count": null,
      "metadata": {
        "colab": {
          "base_uri": "https://localhost:8080/"
        },
        "id": "quAB9qYrgUsS",
        "outputId": "d3ffeb1b-56a8-477b-aede-c139b2a4ae15"
      },
      "outputs": [
        {
          "output_type": "execute_result",
          "data": {
            "text/plain": [
              "153"
            ]
          },
          "metadata": {},
          "execution_count": 24
        }
      ],
      "source": [
        "np.sum(test_prob )\n"
      ]
    },
    {
      "cell_type": "code",
      "execution_count": null,
      "metadata": {
        "colab": {
          "base_uri": "https://localhost:8080/",
          "height": 424
        },
        "id": "jS2KLEiBJY8L",
        "outputId": "ed88a280-c913-4d7e-8284-d635f93ef740"
      },
      "outputs": [
        {
          "output_type": "execute_result",
          "data": {
            "text/plain": [
              "     PassengerId  Survived\n",
              "0            892         0\n",
              "1            893         0\n",
              "2            894         0\n",
              "3            895         0\n",
              "4            896         1\n",
              "..           ...       ...\n",
              "413         1305         0\n",
              "414         1306         1\n",
              "415         1307         0\n",
              "416         1308         0\n",
              "417         1309         1\n",
              "\n",
              "[418 rows x 2 columns]"
            ],
            "text/html": [
              "\n",
              "  <div id=\"df-ea69c588-2a70-4959-ac08-d4fc3641ae40\">\n",
              "    <div class=\"colab-df-container\">\n",
              "      <div>\n",
              "<style scoped>\n",
              "    .dataframe tbody tr th:only-of-type {\n",
              "        vertical-align: middle;\n",
              "    }\n",
              "\n",
              "    .dataframe tbody tr th {\n",
              "        vertical-align: top;\n",
              "    }\n",
              "\n",
              "    .dataframe thead th {\n",
              "        text-align: right;\n",
              "    }\n",
              "</style>\n",
              "<table border=\"1\" class=\"dataframe\">\n",
              "  <thead>\n",
              "    <tr style=\"text-align: right;\">\n",
              "      <th></th>\n",
              "      <th>PassengerId</th>\n",
              "      <th>Survived</th>\n",
              "    </tr>\n",
              "  </thead>\n",
              "  <tbody>\n",
              "    <tr>\n",
              "      <th>0</th>\n",
              "      <td>892</td>\n",
              "      <td>0</td>\n",
              "    </tr>\n",
              "    <tr>\n",
              "      <th>1</th>\n",
              "      <td>893</td>\n",
              "      <td>0</td>\n",
              "    </tr>\n",
              "    <tr>\n",
              "      <th>2</th>\n",
              "      <td>894</td>\n",
              "      <td>0</td>\n",
              "    </tr>\n",
              "    <tr>\n",
              "      <th>3</th>\n",
              "      <td>895</td>\n",
              "      <td>0</td>\n",
              "    </tr>\n",
              "    <tr>\n",
              "      <th>4</th>\n",
              "      <td>896</td>\n",
              "      <td>1</td>\n",
              "    </tr>\n",
              "    <tr>\n",
              "      <th>...</th>\n",
              "      <td>...</td>\n",
              "      <td>...</td>\n",
              "    </tr>\n",
              "    <tr>\n",
              "      <th>413</th>\n",
              "      <td>1305</td>\n",
              "      <td>0</td>\n",
              "    </tr>\n",
              "    <tr>\n",
              "      <th>414</th>\n",
              "      <td>1306</td>\n",
              "      <td>1</td>\n",
              "    </tr>\n",
              "    <tr>\n",
              "      <th>415</th>\n",
              "      <td>1307</td>\n",
              "      <td>0</td>\n",
              "    </tr>\n",
              "    <tr>\n",
              "      <th>416</th>\n",
              "      <td>1308</td>\n",
              "      <td>0</td>\n",
              "    </tr>\n",
              "    <tr>\n",
              "      <th>417</th>\n",
              "      <td>1309</td>\n",
              "      <td>1</td>\n",
              "    </tr>\n",
              "  </tbody>\n",
              "</table>\n",
              "<p>418 rows × 2 columns</p>\n",
              "</div>\n",
              "      <button class=\"colab-df-convert\" onclick=\"convertToInteractive('df-ea69c588-2a70-4959-ac08-d4fc3641ae40')\"\n",
              "              title=\"Convert this dataframe to an interactive table.\"\n",
              "              style=\"display:none;\">\n",
              "        \n",
              "  <svg xmlns=\"http://www.w3.org/2000/svg\" height=\"24px\"viewBox=\"0 0 24 24\"\n",
              "       width=\"24px\">\n",
              "    <path d=\"M0 0h24v24H0V0z\" fill=\"none\"/>\n",
              "    <path d=\"M18.56 5.44l.94 2.06.94-2.06 2.06-.94-2.06-.94-.94-2.06-.94 2.06-2.06.94zm-11 1L8.5 8.5l.94-2.06 2.06-.94-2.06-.94L8.5 2.5l-.94 2.06-2.06.94zm10 10l.94 2.06.94-2.06 2.06-.94-2.06-.94-.94-2.06-.94 2.06-2.06.94z\"/><path d=\"M17.41 7.96l-1.37-1.37c-.4-.4-.92-.59-1.43-.59-.52 0-1.04.2-1.43.59L10.3 9.45l-7.72 7.72c-.78.78-.78 2.05 0 2.83L4 21.41c.39.39.9.59 1.41.59.51 0 1.02-.2 1.41-.59l7.78-7.78 2.81-2.81c.8-.78.8-2.07 0-2.86zM5.41 20L4 18.59l7.72-7.72 1.47 1.35L5.41 20z\"/>\n",
              "  </svg>\n",
              "      </button>\n",
              "      \n",
              "  <style>\n",
              "    .colab-df-container {\n",
              "      display:flex;\n",
              "      flex-wrap:wrap;\n",
              "      gap: 12px;\n",
              "    }\n",
              "\n",
              "    .colab-df-convert {\n",
              "      background-color: #E8F0FE;\n",
              "      border: none;\n",
              "      border-radius: 50%;\n",
              "      cursor: pointer;\n",
              "      display: none;\n",
              "      fill: #1967D2;\n",
              "      height: 32px;\n",
              "      padding: 0 0 0 0;\n",
              "      width: 32px;\n",
              "    }\n",
              "\n",
              "    .colab-df-convert:hover {\n",
              "      background-color: #E2EBFA;\n",
              "      box-shadow: 0px 1px 2px rgba(60, 64, 67, 0.3), 0px 1px 3px 1px rgba(60, 64, 67, 0.15);\n",
              "      fill: #174EA6;\n",
              "    }\n",
              "\n",
              "    [theme=dark] .colab-df-convert {\n",
              "      background-color: #3B4455;\n",
              "      fill: #D2E3FC;\n",
              "    }\n",
              "\n",
              "    [theme=dark] .colab-df-convert:hover {\n",
              "      background-color: #434B5C;\n",
              "      box-shadow: 0px 1px 3px 1px rgba(0, 0, 0, 0.15);\n",
              "      filter: drop-shadow(0px 1px 2px rgba(0, 0, 0, 0.3));\n",
              "      fill: #FFFFFF;\n",
              "    }\n",
              "  </style>\n",
              "\n",
              "      <script>\n",
              "        const buttonEl =\n",
              "          document.querySelector('#df-ea69c588-2a70-4959-ac08-d4fc3641ae40 button.colab-df-convert');\n",
              "        buttonEl.style.display =\n",
              "          google.colab.kernel.accessAllowed ? 'block' : 'none';\n",
              "\n",
              "        async function convertToInteractive(key) {\n",
              "          const element = document.querySelector('#df-ea69c588-2a70-4959-ac08-d4fc3641ae40');\n",
              "          const dataTable =\n",
              "            await google.colab.kernel.invokeFunction('convertToInteractive',\n",
              "                                                     [key], {});\n",
              "          if (!dataTable) return;\n",
              "\n",
              "          const docLinkHtml = 'Like what you see? Visit the ' +\n",
              "            '<a target=\"_blank\" href=https://colab.research.google.com/notebooks/data_table.ipynb>data table notebook</a>'\n",
              "            + ' to learn more about interactive tables.';\n",
              "          element.innerHTML = '';\n",
              "          dataTable['output_type'] = 'display_data';\n",
              "          await google.colab.output.renderOutput(dataTable, element);\n",
              "          const docLink = document.createElement('div');\n",
              "          docLink.innerHTML = docLinkHtml;\n",
              "          element.appendChild(docLink);\n",
              "        }\n",
              "      </script>\n",
              "    </div>\n",
              "  </div>\n",
              "  "
            ]
          },
          "metadata": {},
          "execution_count": 25
        }
      ],
      "source": [
        "sample_submission['Survived'] = (test_prob)\n",
        "#sample_submission['Survived'] = sample_submission['Survived'].astype('int8')\n",
        "sample_submission"
      ]
    },
    {
      "cell_type": "code",
      "execution_count": null,
      "metadata": {
        "id": "lhmOIEq-hbyD"
      },
      "outputs": [],
      "source": [
        "sample_submission.to_csv(os.path.join(path_root, 'submission/RandomForest_1.csv'), index = False)"
      ]
    },
    {
      "cell_type": "markdown",
      "metadata": {
        "id": "cTd2-BiEJY8F"
      },
      "source": [
        "# Sklearn Tuner"
      ]
    },
    {
      "cell_type": "code",
      "execution_count": null,
      "metadata": {
        "id": "UjAILV-QJY8G"
      },
      "outputs": [],
      "source": [
        "from sklearn.ensemble import RandomForestClassifier\n",
        "from sklearn.model_selection import StratifiedKFold\n",
        "from sklearn import metrics\n",
        "! pip install keras_tuner\n",
        "import keras_tuner as kt"
      ]
    },
    {
      "cell_type": "code",
      "source": [
        "class RF_HyperModel(kt.HyperModel):\n",
        "    def build(self, hp):\n",
        "        model = RandomForestClassifier(\n",
        "            n_estimators = hp.Int('n_estimators', 50, 1000, step = 10),\n",
        "            #max_features = hp.Choice('max_features', ['sqrt', 'log2'])\n",
        "            max_depth = hp.Int('max_depth', 5, 30, step = 2),\n",
        "            min_samples_split= hp.Int('min_sample_split', 2, 30, 4),\n",
        "            min_samples_leaf= hp.Int('min_samples_leaf', 1,5,2),\n",
        "            oob_score = False,\n",
        "            n_jobs = -1\n",
        "        )\n",
        "        return model     "
      ],
      "metadata": {
        "id": "awOlJ8YnkC_K"
      },
      "execution_count": null,
      "outputs": []
    },
    {
      "cell_type": "code",
      "source": [
        "tuner = kt.SklearnTuner(\n",
        "    hypermodel = RF_HyperModel(),\n",
        "    oracle = kt.oracles.BayesianOptimizationOracle(\n",
        "        objective = kt.Objective('score', 'max'),\n",
        "        max_trials = 100,\n",
        "        #executions_per_trial=2\n",
        "    ),\n",
        "    scoring = metrics.make_scorer(metrics.accuracy_score),\n",
        "    cv = StratifiedKFold(4),\n",
        "    directory = os.path.join(path_root, 'tuner/random_forest'),\n",
        "    project_name = 'v1',\n",
        "    overwrite = True,\n",
        "    \n",
        ")\n",
        "\n"
      ],
      "metadata": {
        "id": "ihJpsZIwYpDn"
      },
      "execution_count": null,
      "outputs": []
    },
    {
      "cell_type": "code",
      "source": [
        "tuner.search(titanic_prepared, np.array(titanic_label))"
      ],
      "metadata": {
        "id": "NJ5xV3K_apzp"
      },
      "execution_count": null,
      "outputs": []
    },
    {
      "cell_type": "code",
      "source": [
        "tuner.results_summary()"
      ],
      "metadata": {
        "colab": {
          "base_uri": "https://localhost:8080/"
        },
        "id": "cb6bhT82vzZk",
        "outputId": "6e536c72-eeb4-4588-bbd3-b02482411817"
      },
      "execution_count": null,
      "outputs": [
        {
          "output_type": "stream",
          "name": "stdout",
          "text": [
            "Results summary\n",
            "Results in /content/drive/MyDrive/titanic/tuner/random_forest/v1\n",
            "Showing 10 best trials\n",
            "<keras_tuner.engine.objective.Objective object at 0x7f776edb37d0>\n",
            "Trial summary\n",
            "Hyperparameters:\n",
            "n_estimators: 270\n",
            "max_depth: 19\n",
            "min_sample_split: 14\n",
            "min_samples_leaf: 3\n",
            "Score: 0.8417414050822123\n",
            "Trial summary\n",
            "Hyperparameters:\n",
            "n_estimators: 400\n",
            "max_depth: 19\n",
            "min_sample_split: 14\n",
            "min_samples_leaf: 3\n",
            "Score: 0.8406354785278551\n",
            "Trial summary\n",
            "Hyperparameters:\n",
            "n_estimators: 430\n",
            "max_depth: 21\n",
            "min_sample_split: 10\n",
            "min_samples_leaf: 3\n",
            "Score: 0.8395144022946714\n",
            "Trial summary\n",
            "Hyperparameters:\n",
            "n_estimators: 1000\n",
            "max_depth: 29\n",
            "min_sample_split: 2\n",
            "min_samples_leaf: 5\n",
            "Score: 0.8395144022946714\n",
            "Trial summary\n",
            "Hyperparameters:\n",
            "n_estimators: 490\n",
            "max_depth: 19\n",
            "min_sample_split: 14\n",
            "min_samples_leaf: 3\n",
            "Score: 0.8395093524017292\n",
            "Trial summary\n",
            "Hyperparameters:\n",
            "n_estimators: 340\n",
            "max_depth: 17\n",
            "min_sample_split: 10\n",
            "min_samples_leaf: 3\n",
            "Score: 0.8395093524017291\n",
            "Trial summary\n",
            "Hyperparameters:\n",
            "n_estimators: 430\n",
            "max_depth: 21\n",
            "min_sample_split: 10\n",
            "min_samples_leaf: 3\n",
            "Score: 0.8395093524017291\n",
            "Trial summary\n",
            "Hyperparameters:\n",
            "n_estimators: 300\n",
            "max_depth: 19\n",
            "min_sample_split: 14\n",
            "min_samples_leaf: 3\n",
            "Score: 0.8395093524017291\n",
            "Trial summary\n",
            "Hyperparameters:\n",
            "n_estimators: 560\n",
            "max_depth: 23\n",
            "min_sample_split: 10\n",
            "min_samples_leaf: 5\n",
            "Score: 0.8383933260614875\n",
            "Trial summary\n",
            "Hyperparameters:\n",
            "n_estimators: 410\n",
            "max_depth: 13\n",
            "min_sample_split: 10\n",
            "min_samples_leaf: 3\n",
            "Score: 0.8383933260614875\n"
          ]
        }
      ]
    },
    {
      "cell_type": "markdown",
      "metadata": {
        "id": "ijix6Hx_ikXz"
      },
      "source": [
        "## Retrain the model\n"
      ]
    },
    {
      "cell_type": "markdown",
      "metadata": {
        "id": "NkpV3A1Y8BbH"
      },
      "source": [
        "Find the optimal number of epochs to train the model with the hyperparameters obtained from the search."
      ]
    },
    {
      "cell_type": "code",
      "execution_count": null,
      "metadata": {
        "colab": {
          "base_uri": "https://localhost:8080/"
        },
        "id": "zkMzdAshjNt3",
        "outputId": "f724eaf9-ec2f-4e48-d815-53fd0f347bc6"
      },
      "outputs": [
        {
          "output_type": "stream",
          "name": "stdout",
          "text": [
            "270 19 14 3\n"
          ]
        }
      ],
      "source": [
        "best_hps = tuner.get_best_hyperparameters(1)[0]\n",
        "print(best_hps.get('n_estimators'), \n",
        "      best_hps.get('max_depth'), \n",
        "      best_hps.get('min_sample_split'), \n",
        "      best_hps.get('min_samples_leaf'))"
      ]
    },
    {
      "cell_type": "code",
      "execution_count": null,
      "metadata": {
        "id": "Tw_FhCE67zck",
        "colab": {
          "base_uri": "https://localhost:8080/"
        },
        "outputId": "2cf614c8-5874-472a-e9dd-c83e55bffbb0"
      },
      "outputs": [
        {
          "output_type": "execute_result",
          "data": {
            "text/plain": [
              "RandomForestClassifier(max_depth=19, min_samples_leaf=3, min_samples_split=14,\n",
              "                       n_estimators=270, n_jobs=-1, oob_score=True)"
            ]
          },
          "metadata": {},
          "execution_count": 41
        }
      ],
      "source": [
        "model = RandomForestClassifier(\n",
        "            n_estimators = best_hps.get('n_estimators'),\n",
        "            max_depth = best_hps.get('max_depth'),\n",
        "            min_samples_split= best_hps.get('min_sample_split'),\n",
        "            min_samples_leaf= best_hps.get('min_samples_leaf'),\n",
        "            oob_score = True,\n",
        "            n_jobs = -1\n",
        "        )\n",
        "model.fit(titanic_prepared, titanic_label)\n"
      ]
    },
    {
      "cell_type": "code",
      "execution_count": null,
      "metadata": {
        "colab": {
          "base_uri": "https://localhost:8080/"
        },
        "id": "L9fcAVw29UX9",
        "outputId": "ad0a4738-1e36-469c-cd7e-233351e8fe4f"
      },
      "outputs": [
        {
          "output_type": "execute_result",
          "data": {
            "text/plain": [
              "0.8372615039281706"
            ]
          },
          "metadata": {},
          "execution_count": 42
        }
      ],
      "source": [
        "model.oob_score_"
      ]
    },
    {
      "cell_type": "code",
      "source": [
        "sorted(zip(model.feature_importances_, cols_full), reverse = True)"
      ],
      "metadata": {
        "colab": {
          "base_uri": "https://localhost:8080/"
        },
        "id": "ISBvV50a79bR",
        "outputId": "be50c6ae-3450-47f0-9219-72be37c6d7ad"
      },
      "execution_count": null,
      "outputs": [
        {
          "output_type": "execute_result",
          "data": {
            "text/plain": [
              "[(0.1904101266256227, 'name_Mr'),\n",
              " (0.18431371671356325, 'sex'),\n",
              " (0.09904708079334662, 'fare'),\n",
              " (0.07228351896411482, 'age'),\n",
              " (0.06977385204820145, 'Pclass'),\n",
              " (0.05609077680269243, 'name_Miss'),\n",
              " (0.052701588769020584, 'name_Mrs'),\n",
              " (0.04155528437494137, 'ticket'),\n",
              " (0.037466228917410166, 'cabin_M'),\n",
              " (0.036823172391362013, 'family_recode'),\n",
              " (0.030230867914952813, 'family'),\n",
              " (0.018046641811460845, 'SibSp'),\n",
              " (0.017426186506878494, 'cabin_DE'),\n",
              " (0.015747883379001727, 'SibSp_recode'),\n",
              " (0.011893492476911734, 'child'),\n",
              " (0.010990569688375777, 'name_Master'),\n",
              " (0.010604998098862077, 'embarled_S'),\n",
              " (0.00905868750884864, 'Parch'),\n",
              " (0.008775442530179185, 'name_Officer'),\n",
              " (0.007883023225705907, 'cabin_ABC'),\n",
              " (0.007200385833429042, 'embarled_C'),\n",
              " (0.005661763051920646, 'Parch_recode'),\n",
              " (0.004706860401397896, 'embarled_Q'),\n",
              " (0.0006376332272123714, 'cabin_FG'),\n",
              " (0.0004897803443926235, 'senior'),\n",
              " (0.0001804376001948162, 'name_Royalty')]"
            ]
          },
          "metadata": {},
          "execution_count": 43
        }
      ]
    },
    {
      "cell_type": "markdown",
      "metadata": {
        "id": "TLWUWS-MJY8K"
      },
      "source": [
        "## predict"
      ]
    },
    {
      "cell_type": "code",
      "execution_count": null,
      "metadata": {
        "id": "G2Wvvhqu8kPm"
      },
      "outputs": [],
      "source": [
        "test_prob = model.predict(test_prepared)"
      ]
    },
    {
      "cell_type": "code",
      "execution_count": null,
      "metadata": {
        "colab": {
          "base_uri": "https://localhost:8080/"
        },
        "outputId": "c898d89c-3309-4733-d39a-ab53dcef34ff",
        "id": "VEP5fdDV8kPn"
      },
      "outputs": [
        {
          "output_type": "execute_result",
          "data": {
            "text/plain": [
              "157"
            ]
          },
          "metadata": {},
          "execution_count": 45
        }
      ],
      "source": [
        "np.sum(test_prob )\n"
      ]
    },
    {
      "cell_type": "code",
      "execution_count": null,
      "metadata": {
        "colab": {
          "base_uri": "https://localhost:8080/",
          "height": 424
        },
        "outputId": "a2653358-57ec-4a71-8963-ce7f093565fb",
        "id": "Y31noaS98kPn"
      },
      "outputs": [
        {
          "output_type": "execute_result",
          "data": {
            "text/plain": [
              "     PassengerId  Survived\n",
              "0            892         0\n",
              "1            893         0\n",
              "2            894         0\n",
              "3            895         0\n",
              "4            896         1\n",
              "..           ...       ...\n",
              "413         1305         0\n",
              "414         1306         1\n",
              "415         1307         0\n",
              "416         1308         0\n",
              "417         1309         1\n",
              "\n",
              "[418 rows x 2 columns]"
            ],
            "text/html": [
              "\n",
              "  <div id=\"df-989cede5-6667-4049-8945-b746c66e1b95\">\n",
              "    <div class=\"colab-df-container\">\n",
              "      <div>\n",
              "<style scoped>\n",
              "    .dataframe tbody tr th:only-of-type {\n",
              "        vertical-align: middle;\n",
              "    }\n",
              "\n",
              "    .dataframe tbody tr th {\n",
              "        vertical-align: top;\n",
              "    }\n",
              "\n",
              "    .dataframe thead th {\n",
              "        text-align: right;\n",
              "    }\n",
              "</style>\n",
              "<table border=\"1\" class=\"dataframe\">\n",
              "  <thead>\n",
              "    <tr style=\"text-align: right;\">\n",
              "      <th></th>\n",
              "      <th>PassengerId</th>\n",
              "      <th>Survived</th>\n",
              "    </tr>\n",
              "  </thead>\n",
              "  <tbody>\n",
              "    <tr>\n",
              "      <th>0</th>\n",
              "      <td>892</td>\n",
              "      <td>0</td>\n",
              "    </tr>\n",
              "    <tr>\n",
              "      <th>1</th>\n",
              "      <td>893</td>\n",
              "      <td>0</td>\n",
              "    </tr>\n",
              "    <tr>\n",
              "      <th>2</th>\n",
              "      <td>894</td>\n",
              "      <td>0</td>\n",
              "    </tr>\n",
              "    <tr>\n",
              "      <th>3</th>\n",
              "      <td>895</td>\n",
              "      <td>0</td>\n",
              "    </tr>\n",
              "    <tr>\n",
              "      <th>4</th>\n",
              "      <td>896</td>\n",
              "      <td>1</td>\n",
              "    </tr>\n",
              "    <tr>\n",
              "      <th>...</th>\n",
              "      <td>...</td>\n",
              "      <td>...</td>\n",
              "    </tr>\n",
              "    <tr>\n",
              "      <th>413</th>\n",
              "      <td>1305</td>\n",
              "      <td>0</td>\n",
              "    </tr>\n",
              "    <tr>\n",
              "      <th>414</th>\n",
              "      <td>1306</td>\n",
              "      <td>1</td>\n",
              "    </tr>\n",
              "    <tr>\n",
              "      <th>415</th>\n",
              "      <td>1307</td>\n",
              "      <td>0</td>\n",
              "    </tr>\n",
              "    <tr>\n",
              "      <th>416</th>\n",
              "      <td>1308</td>\n",
              "      <td>0</td>\n",
              "    </tr>\n",
              "    <tr>\n",
              "      <th>417</th>\n",
              "      <td>1309</td>\n",
              "      <td>1</td>\n",
              "    </tr>\n",
              "  </tbody>\n",
              "</table>\n",
              "<p>418 rows × 2 columns</p>\n",
              "</div>\n",
              "      <button class=\"colab-df-convert\" onclick=\"convertToInteractive('df-989cede5-6667-4049-8945-b746c66e1b95')\"\n",
              "              title=\"Convert this dataframe to an interactive table.\"\n",
              "              style=\"display:none;\">\n",
              "        \n",
              "  <svg xmlns=\"http://www.w3.org/2000/svg\" height=\"24px\"viewBox=\"0 0 24 24\"\n",
              "       width=\"24px\">\n",
              "    <path d=\"M0 0h24v24H0V0z\" fill=\"none\"/>\n",
              "    <path d=\"M18.56 5.44l.94 2.06.94-2.06 2.06-.94-2.06-.94-.94-2.06-.94 2.06-2.06.94zm-11 1L8.5 8.5l.94-2.06 2.06-.94-2.06-.94L8.5 2.5l-.94 2.06-2.06.94zm10 10l.94 2.06.94-2.06 2.06-.94-2.06-.94-.94-2.06-.94 2.06-2.06.94z\"/><path d=\"M17.41 7.96l-1.37-1.37c-.4-.4-.92-.59-1.43-.59-.52 0-1.04.2-1.43.59L10.3 9.45l-7.72 7.72c-.78.78-.78 2.05 0 2.83L4 21.41c.39.39.9.59 1.41.59.51 0 1.02-.2 1.41-.59l7.78-7.78 2.81-2.81c.8-.78.8-2.07 0-2.86zM5.41 20L4 18.59l7.72-7.72 1.47 1.35L5.41 20z\"/>\n",
              "  </svg>\n",
              "      </button>\n",
              "      \n",
              "  <style>\n",
              "    .colab-df-container {\n",
              "      display:flex;\n",
              "      flex-wrap:wrap;\n",
              "      gap: 12px;\n",
              "    }\n",
              "\n",
              "    .colab-df-convert {\n",
              "      background-color: #E8F0FE;\n",
              "      border: none;\n",
              "      border-radius: 50%;\n",
              "      cursor: pointer;\n",
              "      display: none;\n",
              "      fill: #1967D2;\n",
              "      height: 32px;\n",
              "      padding: 0 0 0 0;\n",
              "      width: 32px;\n",
              "    }\n",
              "\n",
              "    .colab-df-convert:hover {\n",
              "      background-color: #E2EBFA;\n",
              "      box-shadow: 0px 1px 2px rgba(60, 64, 67, 0.3), 0px 1px 3px 1px rgba(60, 64, 67, 0.15);\n",
              "      fill: #174EA6;\n",
              "    }\n",
              "\n",
              "    [theme=dark] .colab-df-convert {\n",
              "      background-color: #3B4455;\n",
              "      fill: #D2E3FC;\n",
              "    }\n",
              "\n",
              "    [theme=dark] .colab-df-convert:hover {\n",
              "      background-color: #434B5C;\n",
              "      box-shadow: 0px 1px 3px 1px rgba(0, 0, 0, 0.15);\n",
              "      filter: drop-shadow(0px 1px 2px rgba(0, 0, 0, 0.3));\n",
              "      fill: #FFFFFF;\n",
              "    }\n",
              "  </style>\n",
              "\n",
              "      <script>\n",
              "        const buttonEl =\n",
              "          document.querySelector('#df-989cede5-6667-4049-8945-b746c66e1b95 button.colab-df-convert');\n",
              "        buttonEl.style.display =\n",
              "          google.colab.kernel.accessAllowed ? 'block' : 'none';\n",
              "\n",
              "        async function convertToInteractive(key) {\n",
              "          const element = document.querySelector('#df-989cede5-6667-4049-8945-b746c66e1b95');\n",
              "          const dataTable =\n",
              "            await google.colab.kernel.invokeFunction('convertToInteractive',\n",
              "                                                     [key], {});\n",
              "          if (!dataTable) return;\n",
              "\n",
              "          const docLinkHtml = 'Like what you see? Visit the ' +\n",
              "            '<a target=\"_blank\" href=https://colab.research.google.com/notebooks/data_table.ipynb>data table notebook</a>'\n",
              "            + ' to learn more about interactive tables.';\n",
              "          element.innerHTML = '';\n",
              "          dataTable['output_type'] = 'display_data';\n",
              "          await google.colab.output.renderOutput(dataTable, element);\n",
              "          const docLink = document.createElement('div');\n",
              "          docLink.innerHTML = docLinkHtml;\n",
              "          element.appendChild(docLink);\n",
              "        }\n",
              "      </script>\n",
              "    </div>\n",
              "  </div>\n",
              "  "
            ]
          },
          "metadata": {},
          "execution_count": 46
        }
      ],
      "source": [
        "sample_submission['Survived'] = (test_prob)\n",
        "#sample_submission['Survived'] = sample_submission['Survived'].astype('int8')\n",
        "sample_submission"
      ]
    },
    {
      "cell_type": "code",
      "execution_count": null,
      "metadata": {
        "id": "FMqNSSGr8n7w"
      },
      "outputs": [],
      "source": [
        "sample_submission.to_csv(os.path.join(path_root, 'submission/RandomForest_2_kerastuner.csv'), index = False)"
      ]
    },
    {
      "cell_type": "code",
      "execution_count": null,
      "metadata": {
        "id": "hJhG6_x0FcrL",
        "outputId": "b712880d-75a6-4fa6-e869-e6efbe1f0a8d",
        "colab": {
          "base_uri": "https://localhost:8080/"
        }
      },
      "outputs": [
        {
          "output_type": "execute_result",
          "data": {
            "text/plain": [
              "RandomForestClassifier(max_depth=19, min_samples_leaf=3, min_samples_split=14,\n",
              "                       n_estimators=270, n_jobs=-1, oob_score=True)"
            ]
          },
          "metadata": {},
          "execution_count": 48
        }
      ],
      "source": [
        "model"
      ]
    },
    {
      "cell_type": "markdown",
      "source": [
        "# Hyperop"
      ],
      "metadata": {
        "id": "BJEJJMRI8Yyu"
      }
    },
    {
      "cell_type": "code",
      "source": [
        "from hyperopt import fmin, tpe, hp, anneal, Trials"
      ],
      "metadata": {
        "id": "WkaYBGwR_NgM"
      },
      "execution_count": null,
      "outputs": []
    },
    {
      "cell_type": "code",
      "source": [
        "space = {'n_estimators': hp.quniform('n_estimators', 50, 1000, 10),    \n",
        "        'max_depth': hp.quniform('max_depth', 5, 30, 2),\n",
        "        'min_samples_split':  hp.quniform('min_sample_split', 2, 30, 4),\n",
        "        'min_samples_leaf':  hp.quniform('min_samples_leaf', 1,5,2),\n",
        "        'oob_score': True}"
      ],
      "metadata": {
        "id": "DeUotMcO8XC6"
      },
      "execution_count": null,
      "outputs": []
    },
    {
      "cell_type": "code",
      "source": [
        "from sklearn.ensemble import RandomForestClassifier\n",
        "def objective(space):\n",
        "    errors = []\n",
        "    for i in range(4):\n",
        "        model = RandomForestClassifier(\n",
        "                    n_estimators = int(space['n_estimators']),\n",
        "                    max_depth = int(space['max_depth']),\n",
        "                    min_samples_split= int(space['min_samples_split']),\n",
        "                    min_samples_leaf= int(space['min_samples_leaf']),\n",
        "                    oob_score = space['oob_score']\n",
        "                ) \n",
        "        model.fit(titanic_prepared, titanic_label)\n",
        "        errors.append( - model.oob_score_)\n",
        "    return  np.mean(errors)"
      ],
      "metadata": {
        "id": "W1d49k2d96g0"
      },
      "execution_count": null,
      "outputs": []
    },
    {
      "cell_type": "code",
      "source": [
        "trials = Trials()\n",
        "\n",
        "best_hps = fmin(fn = objective,\n",
        "                space = space,\n",
        "                algo = tpe.suggest,\n",
        "                max_evals = 200,\n",
        "                trials = trials)"
      ],
      "metadata": {
        "colab": {
          "base_uri": "https://localhost:8080/"
        },
        "id": "h3Hn-2nCBQgU",
        "outputId": "89bdc058-bc27-4104-c689-ee7c5a42e474"
      },
      "execution_count": null,
      "outputs": [
        {
          "output_type": "stream",
          "name": "stdout",
          "text": [
            "100%|██████████| 200/200 [16:46<00:00,  5.03s/it, best loss: -0.8395061728395061]\n"
          ]
        }
      ]
    },
    {
      "cell_type": "code",
      "source": [
        "errors = trials.losses()\n",
        "accuracies = pd.DataFrame([- error for error in errors], columns = ['acc'])\n",
        "best_acc = accuracies.sort_values(by = 'acc', ascending=False)[:10]\n",
        "best_ixs = list(best_acc.index)\n",
        "for ix in best_ixs:\n",
        "    trial = trials.trials[ix]\n",
        "    print(ix)\n",
        "    print( - trial['result']['loss'])\n",
        "    print(trial['misc']['vals'])\n",
        "    #print(trial['result']['best_iters'],\n",
        "          #np.mean(trial['result']['best_iters']))"
      ],
      "metadata": {
        "colab": {
          "base_uri": "https://localhost:8080/"
        },
        "id": "0lm-UqVwCLNR",
        "outputId": "9e3b1b57-15f0-4594-d75d-31c736f2cc63"
      },
      "execution_count": null,
      "outputs": [
        {
          "output_type": "stream",
          "name": "stdout",
          "text": [
            "90\n",
            "0.8395061728395061\n",
            "{'max_depth': [14.0], 'min_sample_split': [16.0], 'min_samples_leaf': [4.0], 'n_estimators': [730.0]}\n",
            "193\n",
            "0.8395061728395061\n",
            "{'max_depth': [8.0], 'min_sample_split': [12.0], 'min_samples_leaf': [4.0], 'n_estimators': [1000.0]}\n",
            "55\n",
            "0.8392255892255892\n",
            "{'max_depth': [22.0], 'min_sample_split': [16.0], 'min_samples_leaf': [4.0], 'n_estimators': [930.0]}\n",
            "179\n",
            "0.8389450056116723\n",
            "{'max_depth': [10.0], 'min_sample_split': [16.0], 'min_samples_leaf': [4.0], 'n_estimators': [510.0]}\n",
            "137\n",
            "0.8386644219977553\n",
            "{'max_depth': [10.0], 'min_sample_split': [12.0], 'min_samples_leaf': [4.0], 'n_estimators': [810.0]}\n",
            "98\n",
            "0.8383838383838385\n",
            "{'max_depth': [12.0], 'min_sample_split': [12.0], 'min_samples_leaf': [4.0], 'n_estimators': [870.0]}\n",
            "131\n",
            "0.8383838383838385\n",
            "{'max_depth': [22.0], 'min_sample_split': [20.0], 'min_samples_leaf': [4.0], 'n_estimators': [340.0]}\n",
            "34\n",
            "0.8383838383838385\n",
            "{'max_depth': [14.0], 'min_sample_split': [12.0], 'min_samples_leaf': [4.0], 'n_estimators': [420.0]}\n",
            "109\n",
            "0.8383838383838385\n",
            "{'max_depth': [16.0], 'min_sample_split': [16.0], 'min_samples_leaf': [4.0], 'n_estimators': [580.0]}\n",
            "168\n",
            "0.8383838383838383\n",
            "{'max_depth': [16.0], 'min_sample_split': [16.0], 'min_samples_leaf': [4.0], 'n_estimators': [850.0]}\n"
          ]
        }
      ]
    },
    {
      "cell_type": "markdown",
      "source": [
        "## retrain"
      ],
      "metadata": {
        "id": "RkgrFxlGGBTB"
      }
    },
    {
      "cell_type": "code",
      "source": [
        "best_model = RandomForestClassifier(\n",
        "    n_estimators=int(best_hps['n_estimators']),\n",
        "    min_samples_split=int(best_hps['min_sample_split']),\n",
        "    min_samples_leaf= int(best_hps['min_samples_leaf']),\n",
        "    max_depth=int(best_hps['max_depth']),\n",
        "    oob_score=True)\n",
        "best_model.fit(titanic_prepared, titanic_label)\n",
        "best_model.oob_score_"
      ],
      "metadata": {
        "colab": {
          "base_uri": "https://localhost:8080/"
        },
        "id": "enVX77onDjOA",
        "outputId": "15286a83-a793-4da7-8439-5d282b86b01a"
      },
      "execution_count": null,
      "outputs": [
        {
          "output_type": "execute_result",
          "data": {
            "text/plain": [
              "0.8395061728395061"
            ]
          },
          "metadata": {},
          "execution_count": 61
        }
      ]
    },
    {
      "cell_type": "markdown",
      "source": [
        "## predict"
      ],
      "metadata": {
        "id": "EDewQXQLMNpN"
      }
    },
    {
      "cell_type": "code",
      "source": [
        "best_model.predict(test_prepared)\n",
        "sample_submission['Survived'] = best_model.predict(test_prepared)\n",
        "#sample_submission['Survived'] = sample_submission['Survived'].astype('int8')\n",
        "sample_submission"
      ],
      "metadata": {
        "colab": {
          "base_uri": "https://localhost:8080/",
          "height": 424
        },
        "id": "fwM83Ms3FbbN",
        "outputId": "26fa594d-f027-4acc-bfc0-cb1852ff9aa9"
      },
      "execution_count": null,
      "outputs": [
        {
          "output_type": "execute_result",
          "data": {
            "text/plain": [
              "     PassengerId  Survived\n",
              "0            892         0\n",
              "1            893         0\n",
              "2            894         0\n",
              "3            895         0\n",
              "4            896         1\n",
              "..           ...       ...\n",
              "413         1305         0\n",
              "414         1306         1\n",
              "415         1307         0\n",
              "416         1308         0\n",
              "417         1309         1\n",
              "\n",
              "[418 rows x 2 columns]"
            ],
            "text/html": [
              "\n",
              "  <div id=\"df-feb6a4e8-62c7-49fc-a790-2a454174a4aa\">\n",
              "    <div class=\"colab-df-container\">\n",
              "      <div>\n",
              "<style scoped>\n",
              "    .dataframe tbody tr th:only-of-type {\n",
              "        vertical-align: middle;\n",
              "    }\n",
              "\n",
              "    .dataframe tbody tr th {\n",
              "        vertical-align: top;\n",
              "    }\n",
              "\n",
              "    .dataframe thead th {\n",
              "        text-align: right;\n",
              "    }\n",
              "</style>\n",
              "<table border=\"1\" class=\"dataframe\">\n",
              "  <thead>\n",
              "    <tr style=\"text-align: right;\">\n",
              "      <th></th>\n",
              "      <th>PassengerId</th>\n",
              "      <th>Survived</th>\n",
              "    </tr>\n",
              "  </thead>\n",
              "  <tbody>\n",
              "    <tr>\n",
              "      <th>0</th>\n",
              "      <td>892</td>\n",
              "      <td>0</td>\n",
              "    </tr>\n",
              "    <tr>\n",
              "      <th>1</th>\n",
              "      <td>893</td>\n",
              "      <td>0</td>\n",
              "    </tr>\n",
              "    <tr>\n",
              "      <th>2</th>\n",
              "      <td>894</td>\n",
              "      <td>0</td>\n",
              "    </tr>\n",
              "    <tr>\n",
              "      <th>3</th>\n",
              "      <td>895</td>\n",
              "      <td>0</td>\n",
              "    </tr>\n",
              "    <tr>\n",
              "      <th>4</th>\n",
              "      <td>896</td>\n",
              "      <td>1</td>\n",
              "    </tr>\n",
              "    <tr>\n",
              "      <th>...</th>\n",
              "      <td>...</td>\n",
              "      <td>...</td>\n",
              "    </tr>\n",
              "    <tr>\n",
              "      <th>413</th>\n",
              "      <td>1305</td>\n",
              "      <td>0</td>\n",
              "    </tr>\n",
              "    <tr>\n",
              "      <th>414</th>\n",
              "      <td>1306</td>\n",
              "      <td>1</td>\n",
              "    </tr>\n",
              "    <tr>\n",
              "      <th>415</th>\n",
              "      <td>1307</td>\n",
              "      <td>0</td>\n",
              "    </tr>\n",
              "    <tr>\n",
              "      <th>416</th>\n",
              "      <td>1308</td>\n",
              "      <td>0</td>\n",
              "    </tr>\n",
              "    <tr>\n",
              "      <th>417</th>\n",
              "      <td>1309</td>\n",
              "      <td>1</td>\n",
              "    </tr>\n",
              "  </tbody>\n",
              "</table>\n",
              "<p>418 rows × 2 columns</p>\n",
              "</div>\n",
              "      <button class=\"colab-df-convert\" onclick=\"convertToInteractive('df-feb6a4e8-62c7-49fc-a790-2a454174a4aa')\"\n",
              "              title=\"Convert this dataframe to an interactive table.\"\n",
              "              style=\"display:none;\">\n",
              "        \n",
              "  <svg xmlns=\"http://www.w3.org/2000/svg\" height=\"24px\"viewBox=\"0 0 24 24\"\n",
              "       width=\"24px\">\n",
              "    <path d=\"M0 0h24v24H0V0z\" fill=\"none\"/>\n",
              "    <path d=\"M18.56 5.44l.94 2.06.94-2.06 2.06-.94-2.06-.94-.94-2.06-.94 2.06-2.06.94zm-11 1L8.5 8.5l.94-2.06 2.06-.94-2.06-.94L8.5 2.5l-.94 2.06-2.06.94zm10 10l.94 2.06.94-2.06 2.06-.94-2.06-.94-.94-2.06-.94 2.06-2.06.94z\"/><path d=\"M17.41 7.96l-1.37-1.37c-.4-.4-.92-.59-1.43-.59-.52 0-1.04.2-1.43.59L10.3 9.45l-7.72 7.72c-.78.78-.78 2.05 0 2.83L4 21.41c.39.39.9.59 1.41.59.51 0 1.02-.2 1.41-.59l7.78-7.78 2.81-2.81c.8-.78.8-2.07 0-2.86zM5.41 20L4 18.59l7.72-7.72 1.47 1.35L5.41 20z\"/>\n",
              "  </svg>\n",
              "      </button>\n",
              "      \n",
              "  <style>\n",
              "    .colab-df-container {\n",
              "      display:flex;\n",
              "      flex-wrap:wrap;\n",
              "      gap: 12px;\n",
              "    }\n",
              "\n",
              "    .colab-df-convert {\n",
              "      background-color: #E8F0FE;\n",
              "      border: none;\n",
              "      border-radius: 50%;\n",
              "      cursor: pointer;\n",
              "      display: none;\n",
              "      fill: #1967D2;\n",
              "      height: 32px;\n",
              "      padding: 0 0 0 0;\n",
              "      width: 32px;\n",
              "    }\n",
              "\n",
              "    .colab-df-convert:hover {\n",
              "      background-color: #E2EBFA;\n",
              "      box-shadow: 0px 1px 2px rgba(60, 64, 67, 0.3), 0px 1px 3px 1px rgba(60, 64, 67, 0.15);\n",
              "      fill: #174EA6;\n",
              "    }\n",
              "\n",
              "    [theme=dark] .colab-df-convert {\n",
              "      background-color: #3B4455;\n",
              "      fill: #D2E3FC;\n",
              "    }\n",
              "\n",
              "    [theme=dark] .colab-df-convert:hover {\n",
              "      background-color: #434B5C;\n",
              "      box-shadow: 0px 1px 3px 1px rgba(0, 0, 0, 0.15);\n",
              "      filter: drop-shadow(0px 1px 2px rgba(0, 0, 0, 0.3));\n",
              "      fill: #FFFFFF;\n",
              "    }\n",
              "  </style>\n",
              "\n",
              "      <script>\n",
              "        const buttonEl =\n",
              "          document.querySelector('#df-feb6a4e8-62c7-49fc-a790-2a454174a4aa button.colab-df-convert');\n",
              "        buttonEl.style.display =\n",
              "          google.colab.kernel.accessAllowed ? 'block' : 'none';\n",
              "\n",
              "        async function convertToInteractive(key) {\n",
              "          const element = document.querySelector('#df-feb6a4e8-62c7-49fc-a790-2a454174a4aa');\n",
              "          const dataTable =\n",
              "            await google.colab.kernel.invokeFunction('convertToInteractive',\n",
              "                                                     [key], {});\n",
              "          if (!dataTable) return;\n",
              "\n",
              "          const docLinkHtml = 'Like what you see? Visit the ' +\n",
              "            '<a target=\"_blank\" href=https://colab.research.google.com/notebooks/data_table.ipynb>data table notebook</a>'\n",
              "            + ' to learn more about interactive tables.';\n",
              "          element.innerHTML = '';\n",
              "          dataTable['output_type'] = 'display_data';\n",
              "          await google.colab.output.renderOutput(dataTable, element);\n",
              "          const docLink = document.createElement('div');\n",
              "          docLink.innerHTML = docLinkHtml;\n",
              "          element.appendChild(docLink);\n",
              "        }\n",
              "      </script>\n",
              "    </div>\n",
              "  </div>\n",
              "  "
            ]
          },
          "metadata": {},
          "execution_count": 63
        }
      ]
    },
    {
      "cell_type": "code",
      "source": [
        "sample_submission.to_csv(os.path.join(path_root, 'submission/RandomForest_hyperop.csv'), index = False)"
      ],
      "metadata": {
        "id": "CXq6cuvrG_KN"
      },
      "execution_count": null,
      "outputs": []
    },
    {
      "cell_type": "markdown",
      "source": [
        "## save "
      ],
      "metadata": {
        "id": "j5JFuZV8MrMs"
      }
    },
    {
      "cell_type": "code",
      "source": [
        "import joblib"
      ],
      "metadata": {
        "id": "F9NoU4mLMeVJ"
      },
      "execution_count": null,
      "outputs": []
    },
    {
      "cell_type": "code",
      "source": [
        "joblib.dump(best_model, os.path.join(path_root, 'models/best_rf.sav'))"
      ],
      "metadata": {
        "colab": {
          "base_uri": "https://localhost:8080/"
        },
        "id": "facLLevaM2_T",
        "outputId": "fc54e338-71c1-405d-e3a9-e6f185d07d8c"
      },
      "execution_count": null,
      "outputs": [
        {
          "output_type": "execute_result",
          "data": {
            "text/plain": [
              "['/content/drive/MyDrive/titanic/models/best_rf.sav']"
            ]
          },
          "metadata": {},
          "execution_count": 66
        }
      ]
    },
    {
      "cell_type": "code",
      "source": [
        "best_rf = joblib.load(os.path.join(path_root, 'models/best_rf.sav'))"
      ],
      "metadata": {
        "id": "Hp7mcVHdN4lz"
      },
      "execution_count": null,
      "outputs": []
    },
    {
      "cell_type": "code",
      "source": [
        "best_rf.predict(test_prepared)"
      ],
      "metadata": {
        "colab": {
          "base_uri": "https://localhost:8080/"
        },
        "id": "kRZkWHUROBK0",
        "outputId": "02079ea7-d43d-471f-f7c1-44a12f5234df"
      },
      "execution_count": null,
      "outputs": [
        {
          "output_type": "execute_result",
          "data": {
            "text/plain": [
              "array([0, 0, 0, 0, 1, 0, 1, 0, 1, 0, 0, 0, 1, 0, 1, 1, 0, 0, 0, 1, 0, 1,\n",
              "       1, 0, 1, 0, 1, 0, 0, 0, 0, 0, 1, 1, 0, 0, 0, 0, 0, 0, 0, 1, 0, 1,\n",
              "       1, 0, 0, 0, 1, 1, 0, 0, 1, 1, 0, 0, 0, 0, 0, 1, 0, 0, 0, 1, 1, 1,\n",
              "       1, 0, 0, 1, 1, 0, 0, 1, 1, 0, 0, 1, 0, 1, 1, 0, 0, 0, 0, 0, 1, 0,\n",
              "       1, 1, 1, 0, 1, 0, 0, 0, 1, 0, 1, 0, 1, 0, 0, 0, 1, 0, 0, 0, 0, 0,\n",
              "       0, 1, 1, 1, 1, 0, 0, 1, 0, 1, 1, 0, 1, 0, 0, 1, 0, 1, 0, 0, 0, 0,\n",
              "       0, 0, 0, 0, 0, 0, 0, 0, 0, 1, 0, 0, 0, 0, 0, 0, 0, 0, 1, 0, 0, 1,\n",
              "       0, 0, 1, 1, 1, 1, 1, 1, 1, 0, 0, 1, 0, 0, 1, 0, 0, 0, 0, 0, 0, 1,\n",
              "       1, 0, 1, 1, 0, 0, 1, 0, 1, 0, 1, 0, 0, 0, 0, 0, 1, 0, 1, 0, 1, 1,\n",
              "       0, 1, 1, 1, 1, 1, 0, 0, 1, 0, 1, 0, 0, 0, 0, 1, 0, 0, 1, 0, 1, 0,\n",
              "       1, 0, 1, 0, 1, 1, 0, 1, 0, 0, 0, 1, 0, 0, 0, 0, 0, 0, 1, 1, 1, 1,\n",
              "       0, 0, 1, 0, 1, 0, 1, 1, 1, 0, 0, 0, 0, 0, 0, 0, 1, 0, 0, 0, 1, 1,\n",
              "       0, 0, 0, 0, 0, 0, 0, 0, 1, 1, 0, 1, 0, 0, 0, 0, 0, 1, 1, 1, 1, 0,\n",
              "       0, 0, 0, 0, 0, 1, 0, 1, 0, 0, 1, 0, 0, 0, 0, 0, 0, 0, 1, 1, 0, 1,\n",
              "       0, 0, 0, 0, 0, 1, 1, 1, 0, 0, 0, 0, 0, 0, 0, 0, 1, 0, 1, 0, 0, 0,\n",
              "       1, 0, 0, 1, 0, 0, 0, 0, 0, 1, 0, 0, 0, 1, 1, 1, 0, 1, 0, 1, 1, 0,\n",
              "       0, 0, 1, 0, 1, 0, 0, 1, 0, 1, 1, 0, 1, 0, 0, 1, 1, 0, 0, 1, 0, 0,\n",
              "       1, 1, 0, 0, 0, 0, 0, 0, 1, 1, 0, 1, 0, 0, 0, 0, 0, 1, 1, 0, 0, 1,\n",
              "       0, 1, 0, 0, 1, 0, 1, 0, 1, 0, 0, 0, 1, 1, 1, 1, 0, 0, 1, 0, 0, 1])"
            ]
          },
          "metadata": {},
          "execution_count": 68
        }
      ]
    },
    {
      "cell_type": "code",
      "source": [],
      "metadata": {
        "id": "z6eAawS0OH5Z"
      },
      "execution_count": null,
      "outputs": []
    }
  ],
  "metadata": {
    "colab": {
      "provenance": [],
      "include_colab_link": true
    },
    "gpuClass": "standard",
    "kernelspec": {
      "display_name": "Python 3",
      "language": "python",
      "name": "python3"
    },
    "language_info": {
      "codemirror_mode": {
        "name": "ipython",
        "version": 3
      },
      "file_extension": ".py",
      "mimetype": "text/x-python",
      "name": "python",
      "nbconvert_exporter": "python",
      "pygments_lexer": "ipython3",
      "version": "3.7.13"
    }
  },
  "nbformat": 4,
  "nbformat_minor": 0
}
